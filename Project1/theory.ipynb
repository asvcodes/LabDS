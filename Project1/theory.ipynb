{
 "cells": [
  {
   "cell_type": "markdown",
   "metadata": {},
   "source": [
    "# Lec - 1"
   ]
  },
  {
   "cell_type": "markdown",
   "metadata": {},
   "source": [
    "## Organising Data"
   ]
  },
  {
   "cell_type": "markdown",
   "metadata": {},
   "source": [
    "Information can come in many forms, and part of a data scientist's job is making sure that information is organized in a way that's conducive to analysis. \n",
    "\n",
    "One common way to organize information is in a **table**, which is a group of **cells** organized into **rows** and **columns**:\n",
    "\n",
    "When working with this sort of **tabular data**, it's important to organize row and columns following the principles of \"**[tidy data](https://en.wikipedia.org/wiki/Tidy_data)**.\" What does that mean in the case of our dataset?\n",
    "\n",
    "1. Each row corresponds to a single house in our dataset. We'll call each of these houses an **observation**.\n",
    "2. Each column corresponds to a characteristic of each house. We'll call these **features**.\n",
    "3. Each cell contains only one **value**. "
   ]
  },
  {
   "cell_type": "markdown",
   "metadata": {},
   "source": [
    "### Python Lists\n",
    "---\n",
    "\n",
    "* Ordered collection of items that can be of any data type, including strings, integers, floats, and other lists.\n",
    "* Defined by square brackets `[]`.\n",
    "* Indexing starts at 0.\n",
    "* Can be sliced, concatenated, and modified."
   ]
  },
  {
   "cell_type": "code",
   "execution_count": 1,
   "metadata": {},
   "outputs": [
    {
     "name": "stdout",
     "output_type": "stream",
     "text": [
      "1\n",
      "[1, 2, 3, 4, 5, 6]\n"
     ]
    }
   ],
   "source": [
    "# Example\n",
    "\n",
    "my_list = [1, 2, 3, 4, 5]\n",
    "print(my_list[0])  # prints 1\n",
    "my_list.append(6)\n",
    "print(my_list)  # prints [1, 2, 3, 4, 5, 6]"
   ]
  },
  {
   "cell_type": "markdown",
   "metadata": {},
   "source": [
    "### Python Dictionaries\n",
    "---\n",
    "\n",
    "* Unordered collection of key-value pairs.\n",
    "* Defined by curly brackets {}.\n",
    "* Keys must be unique and immutable (e.g., strings, integers).\n",
    "* Values can be of any data type.\n",
    "* Can be accessed, modified, and iterated over."
   ]
  },
  {
   "cell_type": "code",
   "execution_count": 2,
   "metadata": {},
   "outputs": [
    {
     "name": "stdout",
     "output_type": "stream",
     "text": [
      "John\n",
      "{'name': 'John', 'age': 30, 'city': 'New York'}\n"
     ]
    }
   ],
   "source": [
    "my_dict = {'name': 'John', 'age': 30}\n",
    "print(my_dict['name'])  # prints John\n",
    "my_dict['city'] = 'New York'\n",
    "print(my_dict)  # prints {'name': 'John', 'age': 30, 'city': 'New York'}"
   ]
  },
  {
   "cell_type": "markdown",
   "metadata": {},
   "source": [
    "### Pandas DataFrame\n",
    "---\n",
    "* A 2-dimensional labeled data structure with columns of potentially different types.\n",
    "* Can be thought of as a spreadsheet or a table in a relational database.\n",
    "* Can be created from a dictionary, where each key becomes a column and each value becomes a row."
   ]
  },
  {
   "cell_type": "code",
   "execution_count": 3,
   "metadata": {},
   "outputs": [],
   "source": [
    "import pandas as pd"
   ]
  },
  {
   "cell_type": "code",
   "execution_count": 4,
   "metadata": {},
   "outputs": [
    {
     "data": {
      "text/html": [
       "<div>\n",
       "<style scoped>\n",
       "    .dataframe tbody tr th:only-of-type {\n",
       "        vertical-align: middle;\n",
       "    }\n",
       "\n",
       "    .dataframe tbody tr th {\n",
       "        vertical-align: top;\n",
       "    }\n",
       "\n",
       "    .dataframe thead th {\n",
       "        text-align: right;\n",
       "    }\n",
       "</style>\n",
       "<table border=\"1\" class=\"dataframe\">\n",
       "  <thead>\n",
       "    <tr style=\"text-align: right;\">\n",
       "      <th></th>\n",
       "      <th>price_approx_usd</th>\n",
       "      <th>surface_covered_in_m2</th>\n",
       "      <th>rooms</th>\n",
       "      <th>price_per_m2</th>\n",
       "    </tr>\n",
       "  </thead>\n",
       "  <tbody>\n",
       "    <tr>\n",
       "      <th>0</th>\n",
       "      <td>115910.26</td>\n",
       "      <td>128.0</td>\n",
       "      <td>4.0</td>\n",
       "      <td>905.55</td>\n",
       "    </tr>\n",
       "    <tr>\n",
       "      <th>1</th>\n",
       "      <td>48718.17</td>\n",
       "      <td>210.0</td>\n",
       "      <td>3.0</td>\n",
       "      <td>231.99</td>\n",
       "    </tr>\n",
       "    <tr>\n",
       "      <th>2</th>\n",
       "      <td>28977.56</td>\n",
       "      <td>58.0</td>\n",
       "      <td>2.0</td>\n",
       "      <td>499.61</td>\n",
       "    </tr>\n",
       "    <tr>\n",
       "      <th>3</th>\n",
       "      <td>36932.27</td>\n",
       "      <td>79.0</td>\n",
       "      <td>3.0</td>\n",
       "      <td>467.50</td>\n",
       "    </tr>\n",
       "    <tr>\n",
       "      <th>4</th>\n",
       "      <td>83903.51</td>\n",
       "      <td>111.0</td>\n",
       "      <td>3.0</td>\n",
       "      <td>755.89</td>\n",
       "    </tr>\n",
       "  </tbody>\n",
       "</table>\n",
       "</div>"
      ],
      "text/plain": [
       "   price_approx_usd  surface_covered_in_m2  rooms  price_per_m2\n",
       "0         115910.26                  128.0    4.0        905.55\n",
       "1          48718.17                  210.0    3.0        231.99\n",
       "2          28977.56                   58.0    2.0        499.61\n",
       "3          36932.27                   79.0    3.0        467.50\n",
       "4          83903.51                  111.0    3.0        755.89"
      ]
     },
     "execution_count": 4,
     "metadata": {},
     "output_type": "execute_result"
    }
   ],
   "source": [
    "# Example\n",
    "data = {\n",
    "    'price_approx_usd': [115910.26, 48718.17, 28977.56, 36932.27, 83903.51],\n",
    "    'surface_covered_in_m2': [128.0, 210.0, 58.0, 79.0, 111.0],\n",
    "    'rooms': [4.0, 3.0, 2.0, 3.0, 3.0],\n",
    "    'price_per_m2': [905.55, 231.99, 499.61, 467.50, 755.89]\n",
    "}\n",
    "\n",
    "df = pd.DataFrame(data)\n",
    "df"
   ]
  },
  {
   "cell_type": "markdown",
   "metadata": {},
   "source": [
    "# Lec - 2 "
   ]
  },
  {
   "cell_type": "markdown",
   "metadata": {},
   "source": [
    "## Importing and Reading Data"
   ]
  },
  {
   "cell_type": "code",
   "execution_count": 5,
   "metadata": {},
   "outputs": [],
   "source": [
    "import os"
   ]
  },
  {
   "cell_type": "code",
   "execution_count": 6,
   "metadata": {},
   "outputs": [],
   "source": [
    "# Get list of datasets and paths\n",
    "datasets = os.listdir(os.listdir('./')[1])\n",
    "datasets.pop(0)\n",
    "datapath = [os.path.join(os.listdir('./')[1],i) for i in datasets]\n"
   ]
  },
  {
   "cell_type": "code",
   "execution_count": 7,
   "metadata": {},
   "outputs": [],
   "source": [
    "# Load datasets\n",
    "DFs = [pd.read_csv(i,header=[0]) for i in datapath]"
   ]
  },
  {
   "cell_type": "code",
   "execution_count": 8,
   "metadata": {},
   "outputs": [
    {
     "name": "stdout",
     "output_type": "stream",
     "text": [
      "<class 'pandas.core.frame.DataFrame'>\n",
      "RangeIndex: 700 entries, 0 to 699\n",
      "Data columns (total 6 columns):\n",
      " #   Column         Non-Null Count  Dtype  \n",
      "---  ------         --------------  -----  \n",
      " 0   property_type  700 non-null    object \n",
      " 1   state          700 non-null    object \n",
      " 2   lat            583 non-null    float64\n",
      " 3   lon            583 non-null    float64\n",
      " 4   area_m2        700 non-null    int64  \n",
      " 5   price_usd      700 non-null    object \n",
      "dtypes: float64(2), int64(1), object(3)\n",
      "memory usage: 32.9+ KB\n",
      "df1 info: None\n",
      "\n",
      "<class 'pandas.core.frame.DataFrame'>\n",
      "RangeIndex: 700 entries, 0 to 699\n",
      "Data columns (total 6 columns):\n",
      " #   Column         Non-Null Count  Dtype  \n",
      "---  ------         --------------  -----  \n",
      " 0   property_type  700 non-null    object \n",
      " 1   state          700 non-null    object \n",
      " 2   lat            571 non-null    float64\n",
      " 3   lon            571 non-null    float64\n",
      " 4   area_m2        700 non-null    int64  \n",
      " 5   price_mxn      700 non-null    int64  \n",
      "dtypes: float64(2), int64(2), object(2)\n",
      "memory usage: 32.9+ KB\n",
      "df2 info: None\n",
      "\n",
      "<class 'pandas.core.frame.DataFrame'>\n",
      "RangeIndex: 700 entries, 0 to 699\n",
      "Data columns (total 5 columns):\n",
      " #   Column                   Non-Null Count  Dtype  \n",
      "---  ------                   --------------  -----  \n",
      " 0   property_type            700 non-null    object \n",
      " 1   place_with_parent_names  700 non-null    object \n",
      " 2   lat-lon                  582 non-null    object \n",
      " 3   area_m2                  700 non-null    int64  \n",
      " 4   price_usd                700 non-null    float64\n",
      "dtypes: float64(1), int64(1), object(3)\n",
      "memory usage: 27.5+ KB\n",
      "df3 info: None\n",
      "\n"
     ]
    }
   ],
   "source": [
    "# Print object type and shape for DataFrames\n",
    "for no,df in enumerate(DFs):\n",
    "    print(f\"df{no+1} info:\", df.info())\n",
    "    print()"
   ]
  },
  {
   "cell_type": "markdown",
   "metadata": {},
   "source": [
    "## Data Cleaning & Wrangling"
   ]
  },
  {
   "cell_type": "code",
   "execution_count": 9,
   "metadata": {},
   "outputs": [],
   "source": [
    "for df in DFs:\n",
    "    df.dropna(inplace=True) # remove NaN\n",
    "    df['property_type']= df['property_type'].astype('category')"
   ]
  },
  {
   "cell_type": "code",
   "execution_count": 10,
   "metadata": {},
   "outputs": [],
   "source": [
    "DFs[0][\"price_usd\"] = ( DFs[0][\"price_usd\"].str.replace(\"$\",\"\")\n",
    "                       .str.replace(\",\",\"\").astype(float))"
   ]
  },
  {
   "cell_type": "code",
   "execution_count": 11,
   "metadata": {},
   "outputs": [
    {
     "data": {
      "text/html": [
       "<div>\n",
       "<style scoped>\n",
       "    .dataframe tbody tr th:only-of-type {\n",
       "        vertical-align: middle;\n",
       "    }\n",
       "\n",
       "    .dataframe tbody tr th {\n",
       "        vertical-align: top;\n",
       "    }\n",
       "\n",
       "    .dataframe thead th {\n",
       "        text-align: right;\n",
       "    }\n",
       "</style>\n",
       "<table border=\"1\" class=\"dataframe\">\n",
       "  <thead>\n",
       "    <tr style=\"text-align: right;\">\n",
       "      <th></th>\n",
       "      <th>property_type</th>\n",
       "      <th>state</th>\n",
       "      <th>lat</th>\n",
       "      <th>lon</th>\n",
       "      <th>area_m2</th>\n",
       "      <th>price_usd</th>\n",
       "    </tr>\n",
       "  </thead>\n",
       "  <tbody>\n",
       "    <tr>\n",
       "      <th>0</th>\n",
       "      <td>house</td>\n",
       "      <td>Estado de México</td>\n",
       "      <td>19.560181</td>\n",
       "      <td>-99.233528</td>\n",
       "      <td>150</td>\n",
       "      <td>67965.56</td>\n",
       "    </tr>\n",
       "    <tr>\n",
       "      <th>1</th>\n",
       "      <td>house</td>\n",
       "      <td>Nuevo León</td>\n",
       "      <td>25.688436</td>\n",
       "      <td>-100.198807</td>\n",
       "      <td>186</td>\n",
       "      <td>63223.78</td>\n",
       "    </tr>\n",
       "    <tr>\n",
       "      <th>2</th>\n",
       "      <td>apartment</td>\n",
       "      <td>Guerrero</td>\n",
       "      <td>16.767704</td>\n",
       "      <td>-99.764383</td>\n",
       "      <td>82</td>\n",
       "      <td>84298.37</td>\n",
       "    </tr>\n",
       "    <tr>\n",
       "      <th>3</th>\n",
       "      <td>apartment</td>\n",
       "      <td>Guerrero</td>\n",
       "      <td>16.829782</td>\n",
       "      <td>-99.911012</td>\n",
       "      <td>150</td>\n",
       "      <td>94308.80</td>\n",
       "    </tr>\n",
       "    <tr>\n",
       "      <th>5</th>\n",
       "      <td>house</td>\n",
       "      <td>Yucatán</td>\n",
       "      <td>21.052583</td>\n",
       "      <td>-89.538639</td>\n",
       "      <td>205</td>\n",
       "      <td>105191.37</td>\n",
       "    </tr>\n",
       "    <tr>\n",
       "      <th>...</th>\n",
       "      <td>...</td>\n",
       "      <td>...</td>\n",
       "      <td>...</td>\n",
       "      <td>...</td>\n",
       "      <td>...</td>\n",
       "      <td>...</td>\n",
       "    </tr>\n",
       "    <tr>\n",
       "      <th>693</th>\n",
       "      <td>house</td>\n",
       "      <td>Puebla</td>\n",
       "      <td>19.051815</td>\n",
       "      <td>-98.277669</td>\n",
       "      <td>198</td>\n",
       "      <td>115910.26</td>\n",
       "    </tr>\n",
       "    <tr>\n",
       "      <th>694</th>\n",
       "      <td>apartment</td>\n",
       "      <td>Distrito Federal</td>\n",
       "      <td>19.309208</td>\n",
       "      <td>-99.171906</td>\n",
       "      <td>70</td>\n",
       "      <td>77572.89</td>\n",
       "    </tr>\n",
       "    <tr>\n",
       "      <th>696</th>\n",
       "      <td>house</td>\n",
       "      <td>Yucatán</td>\n",
       "      <td>21.050653</td>\n",
       "      <td>-89.558841</td>\n",
       "      <td>334</td>\n",
       "      <td>137017.34</td>\n",
       "    </tr>\n",
       "    <tr>\n",
       "      <th>697</th>\n",
       "      <td>house</td>\n",
       "      <td>Yucatán</td>\n",
       "      <td>21.343796</td>\n",
       "      <td>-89.262060</td>\n",
       "      <td>130</td>\n",
       "      <td>110404.35</td>\n",
       "    </tr>\n",
       "    <tr>\n",
       "      <th>699</th>\n",
       "      <td>house</td>\n",
       "      <td>Querétaro</td>\n",
       "      <td>20.587378</td>\n",
       "      <td>-100.418361</td>\n",
       "      <td>106</td>\n",
       "      <td>56637.97</td>\n",
       "    </tr>\n",
       "  </tbody>\n",
       "</table>\n",
       "<p>583 rows × 6 columns</p>\n",
       "</div>"
      ],
      "text/plain": [
       "    property_type             state        lat         lon  area_m2  price_usd\n",
       "0           house  Estado de México  19.560181  -99.233528      150   67965.56\n",
       "1           house        Nuevo León  25.688436 -100.198807      186   63223.78\n",
       "2       apartment          Guerrero  16.767704  -99.764383       82   84298.37\n",
       "3       apartment          Guerrero  16.829782  -99.911012      150   94308.80\n",
       "5           house           Yucatán  21.052583  -89.538639      205  105191.37\n",
       "..            ...               ...        ...         ...      ...        ...\n",
       "693         house            Puebla  19.051815  -98.277669      198  115910.26\n",
       "694     apartment  Distrito Federal  19.309208  -99.171906       70   77572.89\n",
       "696         house           Yucatán  21.050653  -89.558841      334  137017.34\n",
       "697         house           Yucatán  21.343796  -89.262060      130  110404.35\n",
       "699         house         Querétaro  20.587378 -100.418361      106   56637.97\n",
       "\n",
       "[583 rows x 6 columns]"
      ]
     },
     "execution_count": 11,
     "metadata": {},
     "output_type": "execute_result"
    }
   ],
   "source": [
    "DFs[0]"
   ]
  },
  {
   "cell_type": "code",
   "execution_count": 12,
   "metadata": {},
   "outputs": [],
   "source": [
    "pesos2usd = lambda x: round(x/19,2)\n",
    "DFs[1][\"price_usd\"] = DFs[1][\"price_mxn\"].apply(pesos2usd)\n",
    "DFs[1].drop(columns=\"price_mxn\",inplace=True)"
   ]
  },
  {
   "cell_type": "code",
   "execution_count": 13,
   "metadata": {},
   "outputs": [
    {
     "data": {
      "text/html": [
       "<div>\n",
       "<style scoped>\n",
       "    .dataframe tbody tr th:only-of-type {\n",
       "        vertical-align: middle;\n",
       "    }\n",
       "\n",
       "    .dataframe tbody tr th {\n",
       "        vertical-align: top;\n",
       "    }\n",
       "\n",
       "    .dataframe thead th {\n",
       "        text-align: right;\n",
       "    }\n",
       "</style>\n",
       "<table border=\"1\" class=\"dataframe\">\n",
       "  <thead>\n",
       "    <tr style=\"text-align: right;\">\n",
       "      <th></th>\n",
       "      <th>property_type</th>\n",
       "      <th>state</th>\n",
       "      <th>lat</th>\n",
       "      <th>lon</th>\n",
       "      <th>area_m2</th>\n",
       "      <th>price_usd</th>\n",
       "    </tr>\n",
       "  </thead>\n",
       "  <tbody>\n",
       "    <tr>\n",
       "      <th>0</th>\n",
       "      <td>apartment</td>\n",
       "      <td>Nuevo León</td>\n",
       "      <td>25.721081</td>\n",
       "      <td>-100.345581</td>\n",
       "      <td>72</td>\n",
       "      <td>68421.05</td>\n",
       "    </tr>\n",
       "    <tr>\n",
       "      <th>2</th>\n",
       "      <td>house</td>\n",
       "      <td>Morelos</td>\n",
       "      <td>23.634501</td>\n",
       "      <td>-102.552788</td>\n",
       "      <td>360</td>\n",
       "      <td>278947.37</td>\n",
       "    </tr>\n",
       "    <tr>\n",
       "      <th>6</th>\n",
       "      <td>apartment</td>\n",
       "      <td>Estado de México</td>\n",
       "      <td>19.272040</td>\n",
       "      <td>-99.572013</td>\n",
       "      <td>85</td>\n",
       "      <td>65789.47</td>\n",
       "    </tr>\n",
       "    <tr>\n",
       "      <th>7</th>\n",
       "      <td>house</td>\n",
       "      <td>San Luis Potosí</td>\n",
       "      <td>22.138882</td>\n",
       "      <td>-100.996510</td>\n",
       "      <td>158</td>\n",
       "      <td>111578.95</td>\n",
       "    </tr>\n",
       "    <tr>\n",
       "      <th>8</th>\n",
       "      <td>apartment</td>\n",
       "      <td>Distrito Federal</td>\n",
       "      <td>19.394558</td>\n",
       "      <td>-99.129707</td>\n",
       "      <td>65</td>\n",
       "      <td>39904.74</td>\n",
       "    </tr>\n",
       "    <tr>\n",
       "      <th>...</th>\n",
       "      <td>...</td>\n",
       "      <td>...</td>\n",
       "      <td>...</td>\n",
       "      <td>...</td>\n",
       "      <td>...</td>\n",
       "      <td>...</td>\n",
       "    </tr>\n",
       "    <tr>\n",
       "      <th>695</th>\n",
       "      <td>house</td>\n",
       "      <td>Morelos</td>\n",
       "      <td>18.917542</td>\n",
       "      <td>-98.963181</td>\n",
       "      <td>140</td>\n",
       "      <td>76315.79</td>\n",
       "    </tr>\n",
       "    <tr>\n",
       "      <th>696</th>\n",
       "      <td>house</td>\n",
       "      <td>Distrito Federal</td>\n",
       "      <td>19.472128</td>\n",
       "      <td>-99.146697</td>\n",
       "      <td>190</td>\n",
       "      <td>102263.16</td>\n",
       "    </tr>\n",
       "    <tr>\n",
       "      <th>697</th>\n",
       "      <td>house</td>\n",
       "      <td>Estado de México</td>\n",
       "      <td>19.234984</td>\n",
       "      <td>-99.558175</td>\n",
       "      <td>115</td>\n",
       "      <td>110526.32</td>\n",
       "    </tr>\n",
       "    <tr>\n",
       "      <th>698</th>\n",
       "      <td>house</td>\n",
       "      <td>Puebla</td>\n",
       "      <td>18.918714</td>\n",
       "      <td>-98.426639</td>\n",
       "      <td>90</td>\n",
       "      <td>46842.11</td>\n",
       "    </tr>\n",
       "    <tr>\n",
       "      <th>699</th>\n",
       "      <td>house</td>\n",
       "      <td>Yucatán</td>\n",
       "      <td>21.075163</td>\n",
       "      <td>-89.516731</td>\n",
       "      <td>185</td>\n",
       "      <td>89210.53</td>\n",
       "    </tr>\n",
       "  </tbody>\n",
       "</table>\n",
       "<p>571 rows × 6 columns</p>\n",
       "</div>"
      ],
      "text/plain": [
       "    property_type             state        lat         lon  area_m2  price_usd\n",
       "0       apartment        Nuevo León  25.721081 -100.345581       72   68421.05\n",
       "2           house           Morelos  23.634501 -102.552788      360  278947.37\n",
       "6       apartment  Estado de México  19.272040  -99.572013       85   65789.47\n",
       "7           house   San Luis Potosí  22.138882 -100.996510      158  111578.95\n",
       "8       apartment  Distrito Federal  19.394558  -99.129707       65   39904.74\n",
       "..            ...               ...        ...         ...      ...        ...\n",
       "695         house           Morelos  18.917542  -98.963181      140   76315.79\n",
       "696         house  Distrito Federal  19.472128  -99.146697      190  102263.16\n",
       "697         house  Estado de México  19.234984  -99.558175      115  110526.32\n",
       "698         house            Puebla  18.918714  -98.426639       90   46842.11\n",
       "699         house           Yucatán  21.075163  -89.516731      185   89210.53\n",
       "\n",
       "[571 rows x 6 columns]"
      ]
     },
     "execution_count": 13,
     "metadata": {},
     "output_type": "execute_result"
    }
   ],
   "source": [
    "DFs[1]"
   ]
  },
  {
   "cell_type": "code",
   "execution_count": 14,
   "metadata": {},
   "outputs": [],
   "source": [
    "DFs[2]['state'] = DFs[2].iloc[:,1].str.split(\"|\",expand=True)[2]\n",
    "DFs[2][\"lat lon\".split()] = DFs[2].iloc[:,2].str.split(\",\",expand=True)\n",
    "DFs[2] = DFs[2][['property_type', 'state', 'lat', 'lon','area_m2','price_usd']]"
   ]
  },
  {
   "cell_type": "code",
   "execution_count": 15,
   "metadata": {},
   "outputs": [
    {
     "data": {
      "text/html": [
       "<div>\n",
       "<style scoped>\n",
       "    .dataframe tbody tr th:only-of-type {\n",
       "        vertical-align: middle;\n",
       "    }\n",
       "\n",
       "    .dataframe tbody tr th {\n",
       "        vertical-align: top;\n",
       "    }\n",
       "\n",
       "    .dataframe thead th {\n",
       "        text-align: right;\n",
       "    }\n",
       "</style>\n",
       "<table border=\"1\" class=\"dataframe\">\n",
       "  <thead>\n",
       "    <tr style=\"text-align: right;\">\n",
       "      <th></th>\n",
       "      <th>property_type</th>\n",
       "      <th>state</th>\n",
       "      <th>lat</th>\n",
       "      <th>lon</th>\n",
       "      <th>area_m2</th>\n",
       "      <th>price_usd</th>\n",
       "    </tr>\n",
       "  </thead>\n",
       "  <tbody>\n",
       "    <tr>\n",
       "      <th>0</th>\n",
       "      <td>apartment</td>\n",
       "      <td>Distrito Federal</td>\n",
       "      <td>19.52589</td>\n",
       "      <td>-99.151703</td>\n",
       "      <td>71</td>\n",
       "      <td>48550.59</td>\n",
       "    </tr>\n",
       "    <tr>\n",
       "      <th>1</th>\n",
       "      <td>house</td>\n",
       "      <td>Estado de México</td>\n",
       "      <td>19.2640539</td>\n",
       "      <td>-99.5727534</td>\n",
       "      <td>233</td>\n",
       "      <td>168636.73</td>\n",
       "    </tr>\n",
       "    <tr>\n",
       "      <th>2</th>\n",
       "      <td>house</td>\n",
       "      <td>Estado de México</td>\n",
       "      <td>19.268629</td>\n",
       "      <td>-99.671722</td>\n",
       "      <td>300</td>\n",
       "      <td>86932.69</td>\n",
       "    </tr>\n",
       "    <tr>\n",
       "      <th>4</th>\n",
       "      <td>apartment</td>\n",
       "      <td>Veracruz de Ignacio de la Llave</td>\n",
       "      <td>19.511938</td>\n",
       "      <td>-96.871956</td>\n",
       "      <td>84</td>\n",
       "      <td>68508.67</td>\n",
       "    </tr>\n",
       "    <tr>\n",
       "      <th>5</th>\n",
       "      <td>house</td>\n",
       "      <td>Jalisco</td>\n",
       "      <td>20.689157</td>\n",
       "      <td>-103.366728</td>\n",
       "      <td>175</td>\n",
       "      <td>102763.00</td>\n",
       "    </tr>\n",
       "    <tr>\n",
       "      <th>...</th>\n",
       "      <td>...</td>\n",
       "      <td>...</td>\n",
       "      <td>...</td>\n",
       "      <td>...</td>\n",
       "      <td>...</td>\n",
       "      <td>...</td>\n",
       "    </tr>\n",
       "    <tr>\n",
       "      <th>695</th>\n",
       "      <td>house</td>\n",
       "      <td>Jalisco</td>\n",
       "      <td>20.532264</td>\n",
       "      <td>-103.484418</td>\n",
       "      <td>175</td>\n",
       "      <td>121178.91</td>\n",
       "    </tr>\n",
       "    <tr>\n",
       "      <th>696</th>\n",
       "      <td>house</td>\n",
       "      <td>Morelos</td>\n",
       "      <td>18.9289862</td>\n",
       "      <td>-99.1802147</td>\n",
       "      <td>100</td>\n",
       "      <td>47417.83</td>\n",
       "    </tr>\n",
       "    <tr>\n",
       "      <th>697</th>\n",
       "      <td>house</td>\n",
       "      <td>Yucatán</td>\n",
       "      <td>21.0284038368</td>\n",
       "      <td>-89.6530058049</td>\n",
       "      <td>81</td>\n",
       "      <td>39524.23</td>\n",
       "    </tr>\n",
       "    <tr>\n",
       "      <th>698</th>\n",
       "      <td>house</td>\n",
       "      <td>San Luis Potosí</td>\n",
       "      <td>22.11830417</td>\n",
       "      <td>-101.0321938992</td>\n",
       "      <td>360</td>\n",
       "      <td>245050.24</td>\n",
       "    </tr>\n",
       "    <tr>\n",
       "      <th>699</th>\n",
       "      <td>house</td>\n",
       "      <td>Estado de México</td>\n",
       "      <td>19.233201</td>\n",
       "      <td>-99.558519</td>\n",
       "      <td>115</td>\n",
       "      <td>110667.85</td>\n",
       "    </tr>\n",
       "  </tbody>\n",
       "</table>\n",
       "<p>582 rows × 6 columns</p>\n",
       "</div>"
      ],
      "text/plain": [
       "    property_type                            state            lat  \\\n",
       "0       apartment                 Distrito Federal       19.52589   \n",
       "1           house                 Estado de México     19.2640539   \n",
       "2           house                 Estado de México      19.268629   \n",
       "4       apartment  Veracruz de Ignacio de la Llave      19.511938   \n",
       "5           house                          Jalisco      20.689157   \n",
       "..            ...                              ...            ...   \n",
       "695         house                          Jalisco      20.532264   \n",
       "696         house                          Morelos     18.9289862   \n",
       "697         house                          Yucatán  21.0284038368   \n",
       "698         house                  San Luis Potosí    22.11830417   \n",
       "699         house                 Estado de México      19.233201   \n",
       "\n",
       "                 lon  area_m2  price_usd  \n",
       "0         -99.151703       71   48550.59  \n",
       "1        -99.5727534      233  168636.73  \n",
       "2         -99.671722      300   86932.69  \n",
       "4         -96.871956       84   68508.67  \n",
       "5        -103.366728      175  102763.00  \n",
       "..               ...      ...        ...  \n",
       "695      -103.484418      175  121178.91  \n",
       "696      -99.1802147      100   47417.83  \n",
       "697   -89.6530058049       81   39524.23  \n",
       "698  -101.0321938992      360  245050.24  \n",
       "699       -99.558519      115  110667.85  \n",
       "\n",
       "[582 rows x 6 columns]"
      ]
     },
     "execution_count": 15,
     "metadata": {},
     "output_type": "execute_result"
    }
   ],
   "source": [
    "DFs[2]"
   ]
  },
  {
   "cell_type": "code",
   "execution_count": 16,
   "metadata": {},
   "outputs": [],
   "source": [
    "pd.concat(DFs).to_csv(f\"{os.listdir('./')[1]}/cleaned-data.csv\",index=False)"
   ]
  },
  {
   "cell_type": "code",
   "execution_count": 17,
   "metadata": {},
   "outputs": [
    {
     "name": "stdout",
     "output_type": "stream",
     "text": [
      "<class 'pandas.core.frame.DataFrame'>\n",
      "RangeIndex: 1736 entries, 1 to 1736\n",
      "Data columns (total 6 columns):\n",
      " #   Column         Non-Null Count  Dtype   \n",
      "---  ------         --------------  -----   \n",
      " 0   property_type  1736 non-null   category\n",
      " 1   state          1736 non-null   category\n",
      " 2   lat            1736 non-null   float64 \n",
      " 3   lon            1736 non-null   float64 \n",
      " 4   area_m2        1736 non-null   int64   \n",
      " 5   price_usd      1736 non-null   float64 \n",
      "dtypes: category(2), float64(3), int64(1)\n",
      "memory usage: 59.2 KB\n"
     ]
    }
   ],
   "source": [
    "df = pd.read_csv(f\"{os.listdir('./')[1]}/cleaned-data.csv\")\n",
    "df = df.astype({\"property_type\":\"category\",\"state\":\"category\"})\n",
    "df = df.round({\"lat\":2,\"lon\":2})\n",
    "df.index+=1\n",
    "df.info()"
   ]
  },
  {
   "cell_type": "code",
   "execution_count": 18,
   "metadata": {},
   "outputs": [
    {
     "data": {
      "text/html": [
       "<div>\n",
       "<style scoped>\n",
       "    .dataframe tbody tr th:only-of-type {\n",
       "        vertical-align: middle;\n",
       "    }\n",
       "\n",
       "    .dataframe tbody tr th {\n",
       "        vertical-align: top;\n",
       "    }\n",
       "\n",
       "    .dataframe thead th {\n",
       "        text-align: right;\n",
       "    }\n",
       "</style>\n",
       "<table border=\"1\" class=\"dataframe\">\n",
       "  <thead>\n",
       "    <tr style=\"text-align: right;\">\n",
       "      <th></th>\n",
       "      <th>property_type</th>\n",
       "      <th>state</th>\n",
       "      <th>lat</th>\n",
       "      <th>lon</th>\n",
       "      <th>area_m2</th>\n",
       "      <th>price_usd</th>\n",
       "    </tr>\n",
       "  </thead>\n",
       "  <tbody>\n",
       "    <tr>\n",
       "      <th>1</th>\n",
       "      <td>house</td>\n",
       "      <td>Estado de México</td>\n",
       "      <td>19.56</td>\n",
       "      <td>-99.23</td>\n",
       "      <td>150</td>\n",
       "      <td>67965.56</td>\n",
       "    </tr>\n",
       "    <tr>\n",
       "      <th>2</th>\n",
       "      <td>house</td>\n",
       "      <td>Nuevo León</td>\n",
       "      <td>25.69</td>\n",
       "      <td>-100.20</td>\n",
       "      <td>186</td>\n",
       "      <td>63223.78</td>\n",
       "    </tr>\n",
       "    <tr>\n",
       "      <th>3</th>\n",
       "      <td>apartment</td>\n",
       "      <td>Guerrero</td>\n",
       "      <td>16.77</td>\n",
       "      <td>-99.76</td>\n",
       "      <td>82</td>\n",
       "      <td>84298.37</td>\n",
       "    </tr>\n",
       "    <tr>\n",
       "      <th>4</th>\n",
       "      <td>apartment</td>\n",
       "      <td>Guerrero</td>\n",
       "      <td>16.83</td>\n",
       "      <td>-99.91</td>\n",
       "      <td>150</td>\n",
       "      <td>94308.80</td>\n",
       "    </tr>\n",
       "    <tr>\n",
       "      <th>5</th>\n",
       "      <td>house</td>\n",
       "      <td>Yucatán</td>\n",
       "      <td>21.05</td>\n",
       "      <td>-89.54</td>\n",
       "      <td>205</td>\n",
       "      <td>105191.37</td>\n",
       "    </tr>\n",
       "    <tr>\n",
       "      <th>...</th>\n",
       "      <td>...</td>\n",
       "      <td>...</td>\n",
       "      <td>...</td>\n",
       "      <td>...</td>\n",
       "      <td>...</td>\n",
       "      <td>...</td>\n",
       "    </tr>\n",
       "    <tr>\n",
       "      <th>1732</th>\n",
       "      <td>house</td>\n",
       "      <td>Jalisco</td>\n",
       "      <td>20.53</td>\n",
       "      <td>-103.48</td>\n",
       "      <td>175</td>\n",
       "      <td>121178.91</td>\n",
       "    </tr>\n",
       "    <tr>\n",
       "      <th>1733</th>\n",
       "      <td>house</td>\n",
       "      <td>Morelos</td>\n",
       "      <td>18.93</td>\n",
       "      <td>-99.18</td>\n",
       "      <td>100</td>\n",
       "      <td>47417.83</td>\n",
       "    </tr>\n",
       "    <tr>\n",
       "      <th>1734</th>\n",
       "      <td>house</td>\n",
       "      <td>Yucatán</td>\n",
       "      <td>21.03</td>\n",
       "      <td>-89.65</td>\n",
       "      <td>81</td>\n",
       "      <td>39524.23</td>\n",
       "    </tr>\n",
       "    <tr>\n",
       "      <th>1735</th>\n",
       "      <td>house</td>\n",
       "      <td>San Luis Potosí</td>\n",
       "      <td>22.12</td>\n",
       "      <td>-101.03</td>\n",
       "      <td>360</td>\n",
       "      <td>245050.24</td>\n",
       "    </tr>\n",
       "    <tr>\n",
       "      <th>1736</th>\n",
       "      <td>house</td>\n",
       "      <td>Estado de México</td>\n",
       "      <td>19.23</td>\n",
       "      <td>-99.56</td>\n",
       "      <td>115</td>\n",
       "      <td>110667.85</td>\n",
       "    </tr>\n",
       "  </tbody>\n",
       "</table>\n",
       "<p>1736 rows × 6 columns</p>\n",
       "</div>"
      ],
      "text/plain": [
       "     property_type             state    lat     lon  area_m2  price_usd\n",
       "1            house  Estado de México  19.56  -99.23      150   67965.56\n",
       "2            house        Nuevo León  25.69 -100.20      186   63223.78\n",
       "3        apartment          Guerrero  16.77  -99.76       82   84298.37\n",
       "4        apartment          Guerrero  16.83  -99.91      150   94308.80\n",
       "5            house           Yucatán  21.05  -89.54      205  105191.37\n",
       "...            ...               ...    ...     ...      ...        ...\n",
       "1732         house           Jalisco  20.53 -103.48      175  121178.91\n",
       "1733         house           Morelos  18.93  -99.18      100   47417.83\n",
       "1734         house           Yucatán  21.03  -89.65       81   39524.23\n",
       "1735         house   San Luis Potosí  22.12 -101.03      360  245050.24\n",
       "1736         house  Estado de México  19.23  -99.56      115  110667.85\n",
       "\n",
       "[1736 rows x 6 columns]"
      ]
     },
     "execution_count": 18,
     "metadata": {},
     "output_type": "execute_result"
    }
   ],
   "source": [
    "df"
   ]
  },
  {
   "cell_type": "markdown",
   "metadata": {},
   "source": [
    "# Lec - 3"
   ]
  },
  {
   "cell_type": "markdown",
   "metadata": {},
   "source": [
    "## Exploratory Data Analysis"
   ]
  },
  {
   "cell_type": "code",
   "execution_count": 19,
   "metadata": {},
   "outputs": [],
   "source": [
    "import matplotlib.pyplot as plt\n",
    "import seaborn as sns\n",
    "import pandas as pd\n",
    "import plotly.express as px"
   ]
  },
  {
   "cell_type": "code",
   "execution_count": 20,
   "metadata": {},
   "outputs": [
    {
     "data": {
      "application/vnd.plotly.v1+json": {
       "config": {
        "plotlyServerURL": "https://plot.ly"
       },
       "data": [
        {
         "customdata": [
          [
           67965.56
          ],
          [
           63223.78
          ],
          [
           105191.37
          ],
          [
           274034.68
          ],
          [
           151509.56
          ],
          [
           79029.72
          ],
          [
           115937.75
          ],
          [
           63223.78
          ],
          [
           104607.47
          ],
          [
           63238.77
          ],
          [
           77994.48
          ],
          [
           264390.77
          ],
          [
           63238.77
          ],
          [
           36775.16
          ],
          [
           262905.55
          ],
          [
           40041.72
          ],
          [
           64556.24
          ],
          [
           44783.51
          ],
          [
           158059.45
          ],
          [
           39514.86
          ],
          [
           158059.45
          ],
          [
           92223.21
          ],
          [
           129639.48
          ],
          [
           158059.45
          ],
          [
           51632.75
          ],
          [
           155461.98
          ],
          [
           126447.56
          ],
          [
           51662.25
          ],
          [
           57955.13
          ],
          [
           108534.15
          ],
          [
           247626.47
          ],
          [
           95309.84
          ],
          [
           150719.07
          ],
          [
           81683.41
          ],
          [
           65858.1
          ],
          [
           60603.82
          ],
          [
           41095.45
          ],
          [
           158096.93
          ],
          [
           227351.46
          ],
          [
           67438.69
          ],
          [
           136984.85
          ],
          [
           93781.94
          ],
          [
           205477.28
          ],
          [
           94835.67
          ],
          [
           105372.96
          ],
          [
           79029.72
          ],
          [
           176499.72
          ],
          [
           105372.96
          ],
          [
           126477.54
          ],
          [
           34254.33
          ],
          [
           72707.34
          ],
          [
           207057.88
          ],
          [
           76395.4
          ],
          [
           126447.56
          ],
          [
           216014.58
          ],
          [
           52423.05
          ],
          [
           63238.77
          ],
          [
           173865.39
          ],
          [
           226551.88
          ],
          [
           34254.33
          ],
          [
           139652.29
          ],
          [
           84298.37
          ],
          [
           68492.42
          ],
          [
           63238.77
          ],
          [
           65873.72
          ],
          [
           50591.01
          ],
          [
           126447.56
          ],
          [
           242415.29
          ],
          [
           72707.34
          ],
          [
           147557.13
          ],
          [
           150192.08
          ],
          [
           110641.61
          ],
          [
           86953.31
          ],
          [
           131747.44
          ],
          [
           176499.72
          ],
          [
           152000.5
          ],
          [
           102738.64
          ],
          [
           111721.83
          ],
          [
           51644.99
          ],
          [
           57006.77
          ],
          [
           110641.61
          ],
          [
           142287.24
          ],
          [
           120944.15
          ],
          [
           89567.02
          ],
          [
           47417.83
          ],
          [
           116173.69
          ],
          [
           326733.66
          ],
          [
           247626.47
          ],
          [
           121178.91
          ],
          [
           105372.96
          ],
          [
           123813.23
          ],
          [
           142253.5
          ],
          [
           42159.18
          ],
          [
           37670.83
          ],
          [
           123052.11
          ],
          [
           46840.27
          ],
          [
           94835.67
          ],
          [
           97469.99
          ],
          [
           306529.96
          ],
          [
           136984.85
          ],
          [
           139652.29
          ],
          [
           89567.02
          ],
          [
           230874.8
          ],
          [
           147557.13
          ],
          [
           50579.02
          ],
          [
           105372.96
          ],
          [
           67965.56
          ],
          [
           110641.61
          ],
          [
           110667.85
          ],
          [
           136490.35
          ],
          [
           60589.45
          ],
          [
           68508.67
          ],
          [
           76413.51
          ],
          [
           87703.06
          ],
          [
           259470.39
          ],
          [
           237089.17
          ],
          [
           237089.17
          ],
          [
           143530.93
          ],
          [
           131747.44
          ],
          [
           79029.72
          ],
          [
           92223.21
          ],
          [
           42149.18
          ],
          [
           56387.9
          ],
          [
           60603.82
          ],
          [
           39514.86
          ],
          [
           110050.31
          ],
          [
           65858.1
          ],
          [
           171306.94
          ],
          [
           108007.29
          ],
          [
           63118.4
          ],
          [
           173865.39
          ],
          [
           94594.66
          ],
          [
           39524.23
          ],
          [
           84298.37
          ],
          [
           76677.01
          ],
          [
           181811.47
          ],
          [
           94308.8
          ],
          [
           84825.23
          ],
          [
           65858.1
          ],
          [
           49537.03
          ],
          [
           76413.51
          ],
          [
           283558.65
          ],
          [
           92201.34
          ],
          [
           158096.93
          ],
          [
           124501.99
          ],
          [
           41095.45
          ],
          [
           78502.86
          ],
          [
           96363.57
          ],
          [
           67438.69
          ],
          [
           76940.5
          ],
          [
           42149.18
          ],
          [
           93781.94
          ],
          [
           115937.75
          ],
          [
           109324.45
          ],
          [
           67702.13
          ],
          [
           36880.53
          ],
          [
           63223.78
          ],
          [
           36889.28
          ],
          [
           144922.18
          ],
          [
           78995.76
          ],
          [
           91169.23
          ],
          [
           104319.23
          ],
          [
           184182.92
          ],
          [
           123981.3
          ],
          [
           92223.21
          ],
          [
           144887.83
          ],
          [
           184446.42
          ],
          [
           57968.87
          ],
          [
           71126.75
          ],
          [
           39524.23
          ],
          [
           84298.37
          ],
          [
           62975.27
          ],
          [
           289844.37
          ],
          [
           102738.64
          ],
          [
           71126.75
          ],
          [
           131716.2
          ],
          [
           100104.31
          ],
          [
           215222.62
          ],
          [
           188398.84
          ],
          [
           144887.83
          ],
          [
           86932.69
          ],
          [
           226551.88
          ],
          [
           246994.23
          ],
          [
           42149.18
          ],
          [
           50087.3
          ],
          [
           63223.78
          ],
          [
           110588.92
          ],
          [
           39514.86
          ],
          [
           266066.74
          ],
          [
           39462.17
          ],
          [
           39514.86
          ],
          [
           71301.71
          ],
          [
           121207.64
          ],
          [
           242415.29
          ],
          [
           144887.83
          ],
          [
           131747.44
          ],
          [
           104343.97
          ],
          [
           74972.86
          ],
          [
           47417.83
          ],
          [
           41622.32
          ],
          [
           142253.5
          ],
          [
           34254.33
          ],
          [
           118544.58
          ],
          [
           52159.61
          ],
          [
           92023.21
          ],
          [
           83000.89
          ],
          [
           80112.98
          ],
          [
           51644.99
          ],
          [
           39514.86
          ],
          [
           121207.64
          ],
          [
           34781.32
          ],
          [
           68492.42
          ],
          [
           189716.32
          ],
          [
           89061.27
          ],
          [
           68492.42
          ],
          [
           144887.83
          ],
          [
           155461.98
          ],
          [
           210745.93
          ],
          [
           71765.83
          ],
          [
           39830.98
          ],
          [
           47681.26
          ],
          [
           44783.51
          ],
          [
           91042.24
          ],
          [
           45321.12
          ],
          [
           79048.46
          ],
          [
           94835.67
          ],
          [
           97469.99
          ],
          [
           183296.27
          ],
          [
           63223.78
          ],
          [
           48734.99
          ],
          [
           262967.9
          ],
          [
           130873.22
          ],
          [
           105372.96
          ],
          [
           60076.83
          ],
          [
           94308.8
          ],
          [
           50485.62
          ],
          [
           76395.4
          ],
          [
           136405.3
          ],
          [
           89567.02
          ],
          [
           105372.96
          ],
          [
           47429.08
          ],
          [
           99601.06
          ],
          [
           237145.4
          ],
          [
           44783.51
          ],
          [
           40568.59
          ],
          [
           65858.1
          ],
          [
           223970.65
          ],
          [
           33719.34
          ],
          [
           62570.46
          ],
          [
           66933.76
          ],
          [
           64277.51
          ],
          [
           68492.42
          ],
          [
           110641.61
          ],
          [
           100735.92
          ],
          [
           324021.87
          ],
          [
           47417.83
          ],
          [
           135931.12
          ],
          [
           39524.23
          ],
          [
           137017.34
          ],
          [
           79029.72
          ],
          [
           51632.75
          ],
          [
           86932.69
          ],
          [
           89040.15
          ],
          [
           86953.31
          ],
          [
           34246.21
          ],
          [
           84298.37
          ],
          [
           65858.1
          ],
          [
           176541.57
          ],
          [
           173865.39
          ],
          [
           123315.6
          ],
          [
           102763
          ],
          [
           173906.62
          ],
          [
           99577.45
          ],
          [
           315618.38
          ],
          [
           62696.91
          ],
          [
           131747.44
          ],
          [
           94818.28
          ],
          [
           50052.15
          ],
          [
           176541.57
          ],
          [
           51381.5
          ],
          [
           155425.12
          ],
          [
           68492.42
          ],
          [
           77975.99
          ],
          [
           121178.91
          ],
          [
           173865.39
          ],
          [
           184446.42
          ],
          [
           154950.94
          ],
          [
           112222.21
          ],
          [
           115910.26
          ],
          [
           135430.6
          ],
          [
           181084.17
          ],
          [
           35835.3
          ],
          [
           131747.44
          ],
          [
           97469.99
          ],
          [
           34254.33
          ],
          [
           237089.17
          ],
          [
           33358.45
          ],
          [
           68492.42
          ],
          [
           71653.61
          ],
          [
           192305.66
          ],
          [
           57955.13
          ],
          [
           65858.1
          ],
          [
           187081.37
          ],
          [
           44783.51
          ],
          [
           55320.8
          ],
          [
           88513.29
          ],
          [
           209955.63
          ],
          [
           134382.39
          ],
          [
           101158.04
          ],
          [
           34246.21
          ],
          [
           118544.58
          ],
          [
           139619.18
          ],
          [
           155461.98
          ],
          [
           279238.36
          ],
          [
           115937.75
          ],
          [
           98523.72
          ],
          [
           152790.8
          ],
          [
           144922.18
          ],
          [
           60589.45
          ],
          [
           52686.48
          ],
          [
           68492.42
          ],
          [
           133442.74
          ],
          [
           65873.72
          ],
          [
           110641.61
          ],
          [
           92728.21
          ],
          [
           156742.28
          ],
          [
           52686.48
          ],
          [
           147522.15
          ],
          [
           225024.63
          ],
          [
           226551.88
          ],
          [
           67981.68
          ],
          [
           42149.18
          ],
          [
           43993.21
          ],
          [
           121178.91
          ],
          [
           90589.54
          ],
          [
           77325.47
          ],
          [
           306635.33
          ],
          [
           110641.61
          ],
          [
           144922.18
          ],
          [
           136984.85
          ],
          [
           125950.55
          ],
          [
           147522.15
          ],
          [
           91463.73
          ],
          [
           89588.26
          ],
          [
           34246.21
          ],
          [
           263432.41
          ],
          [
           118572.7
          ],
          [
           102763
          ],
          [
           41105.2
          ],
          [
           100104.31
          ],
          [
           94256.11
          ],
          [
           75078.23
          ],
          [
           50052.15
          ],
          [
           109587.88
          ],
          [
           200208.63
          ],
          [
           50052.15
          ],
          [
           139619.18
          ],
          [
           47417.83
          ],
          [
           57955.13
          ],
          [
           210745.93
          ],
          [
           131716.2
          ],
          [
           168636.73
          ],
          [
           68205.43
          ],
          [
           144887.83
          ],
          [
           131716.2
          ],
          [
           78766.29
          ],
          [
           100075.35
          ],
          [
           37943.26
          ],
          [
           62184.79
          ],
          [
           189663.62
          ],
          [
           242415.29
          ],
          [
           68245.17
          ],
          [
           210795.91
          ],
          [
           316118.9
          ],
          [
           77975.99
          ],
          [
           51644.99
          ],
          [
           51644.99
          ],
          [
           110667.85
          ],
          [
           113302.8
          ],
          [
           150683.34
          ],
          [
           79029.72
          ],
          [
           72707.34
          ],
          [
           99577.45
          ],
          [
           72197.6
          ],
          [
           65858.1
          ],
          [
           37943.26
          ],
          [
           42969.88
          ],
          [
           124340.1
          ],
          [
           268701.06
          ],
          [
           84298.37
          ],
          [
           43729.78
          ],
          [
           189716.32
          ],
          [
           98656.43
          ],
          [
           53225.96
          ],
          [
           41105.2
          ],
          [
           83771.5
          ],
          [
           47417.83
          ],
          [
           142253.5
          ],
          [
           73761.07
          ],
          [
           79048.46
          ],
          [
           184446.42
          ],
          [
           147522.15
          ],
          [
           44941.57
          ],
          [
           201310.09
          ],
          [
           47417.83
          ],
          [
           79029.72
          ],
          [
           81664.04
          ],
          [
           209692.2
          ],
          [
           123813.23
          ],
          [
           84318.36
          ],
          [
           126447.56
          ],
          [
           226551.88
          ],
          [
           147522.15
          ],
          [
           194986.21
          ],
          [
           92542.77
          ],
          [
           41095.45
          ],
          [
           84318.36
          ],
          [
           37943.26
          ],
          [
           36889.28
          ],
          [
           64804.37
          ],
          [
           79029.72
          ],
          [
           90620.75
          ],
          [
           147557.13
          ],
          [
           149928.59
          ],
          [
           84298.37
          ],
          [
           137017.34
          ],
          [
           221283.23
          ],
          [
           34246.21
          ],
          [
           210795.91
          ],
          [
           68492.42
          ],
          [
           168596.74
          ],
          [
           168596.74
          ],
          [
           73761.07
          ],
          [
           42149.18
          ],
          [
           115910.26
          ],
          [
           71143.62
          ],
          [
           45310.37
          ],
          [
           208160.96
          ],
          [
           94278.47
          ],
          [
           97469.99
          ],
          [
           54267.07
          ],
          [
           115910.26
          ],
          [
           137017.34
          ],
          [
           110404.35
          ],
          [
           56637.97
          ],
          [
           278947.37
          ],
          [
           111578.95
          ],
          [
           35263.16
          ],
          [
           112473.68
          ],
          [
           110526.32
          ],
          [
           55000
          ],
          [
           163157.89
          ],
          [
           144736.84
          ],
          [
           104736.84
          ],
          [
           136842.11
          ],
          [
           71911.21
          ],
          [
           63157.89
          ],
          [
           94736.84
          ],
          [
           52631.58
          ],
          [
           97368.42
          ],
          [
           157894.74
          ],
          [
           115263.16
          ],
          [
           131578.95
          ],
          [
           81578.95
          ],
          [
           92105.26
          ],
          [
           94736.84
          ],
          [
           99473.68
          ],
          [
           150000
          ],
          [
           57894.74
          ],
          [
           118421.05
          ],
          [
           71052.63
          ],
          [
           73684.21
          ],
          [
           321052.63
          ],
          [
           189473.68
          ],
          [
           231578.95
          ],
          [
           124210.53
          ],
          [
           81052.63
          ],
          [
           36842.11
          ],
          [
           260526.32
          ],
          [
           105263.16
          ],
          [
           201061.21
          ],
          [
           178947.37
          ],
          [
           186842.11
          ],
          [
           97368.42
          ],
          [
           69473.68
          ],
          [
           89473.68
          ],
          [
           97368.42
          ],
          [
           123684.21
          ],
          [
           40000
          ],
          [
           147368.42
          ],
          [
           73684.21
          ],
          [
           71911.21
          ],
          [
           44736.84
          ],
          [
           37037.11
          ],
          [
           142105.26
          ],
          [
           42807.63
          ],
          [
           91315.79
          ],
          [
           134715.79
          ],
          [
           43157.89
          ],
          [
           103945.63
          ],
          [
           231478.95
          ],
          [
           76315.79
          ],
          [
           93684.21
          ],
          [
           226315.79
          ],
          [
           63157.89
          ],
          [
           34210.53
          ],
          [
           163157.89
          ],
          [
           105000
          ],
          [
           157894.74
          ],
          [
           155263.16
          ],
          [
           69473.68
          ],
          [
           65789.47
          ],
          [
           263157.89
          ],
          [
           213157.89
          ],
          [
           47368.42
          ],
          [
           98368.42
          ],
          [
           78947.37
          ],
          [
           65789.47
          ],
          [
           252631.58
          ],
          [
           147368.42
          ],
          [
           122894.74
          ],
          [
           75210.53
          ],
          [
           51578.95
          ],
          [
           44736.84
          ],
          [
           73684.21
          ],
          [
           184210.53
          ],
          [
           71052.63
          ],
          [
           314736.84
          ],
          [
           51842.11
          ],
          [
           122419.26
          ],
          [
           139473.68
          ],
          [
           69684.21
          ],
          [
           63157.89
          ],
          [
           118421.05
          ],
          [
           78947.37
          ],
          [
           231578.95
          ],
          [
           76315.79
          ],
          [
           44736.84
          ],
          [
           86842.11
          ],
          [
           78947.37
          ],
          [
           131578.95
          ],
          [
           94736.84
          ],
          [
           168421.05
          ],
          [
           197368.42
          ],
          [
           136842.11
          ],
          [
           42105.26
          ],
          [
           89210.53
          ],
          [
           97368.42
          ],
          [
           34021.74
          ],
          [
           47368.42
          ],
          [
           134210.53
          ],
          [
           197982.11
          ],
          [
           142105.26
          ],
          [
           184210.53
          ],
          [
           65789.47
          ],
          [
           41052.63
          ],
          [
           78947.37
          ],
          [
           251578.95
          ],
          [
           117894.74
          ],
          [
           206315.79
          ],
          [
           86842.11
          ],
          [
           113710.53
          ],
          [
           57894.74
          ],
          [
           131578.95
          ],
          [
           152368.42
          ],
          [
           165789.47
          ],
          [
           67894.74
          ],
          [
           66315.79
          ],
          [
           97368.42
          ],
          [
           127368.42
          ],
          [
           115789.47
          ],
          [
           51578.95
          ],
          [
           50000
          ],
          [
           151578.95
          ],
          [
           86842.11
          ],
          [
           260526.32
          ],
          [
           147631.58
          ],
          [
           144736.84
          ],
          [
           91052.63
          ],
          [
           205263.16
          ],
          [
           35789.47
          ],
          [
           44736.84
          ],
          [
           69473.68
          ],
          [
           184210.53
          ],
          [
           86842.11
          ],
          [
           74234.37
          ],
          [
           139473.68
          ],
          [
           69578.95
          ],
          [
           176842.11
          ],
          [
           44736.84
          ],
          [
           35526.32
          ],
          [
           168421.05
          ],
          [
           44736.84
          ],
          [
           77631.58
          ],
          [
           100000
          ],
          [
           60526.32
          ],
          [
           92105.26
          ],
          [
           240526.32
          ],
          [
           236842.11
          ],
          [
           45789.47
          ],
          [
           76315.79
          ],
          [
           221052.63
          ],
          [
           252631.58
          ],
          [
           273684.21
          ],
          [
           204000
          ],
          [
           50000
          ],
          [
           60526.32
          ],
          [
           86842.11
          ],
          [
           199473.68
          ],
          [
           65789.47
          ],
          [
           57894.74
          ],
          [
           83157.89
          ],
          [
           223684.21
          ],
          [
           63157.89
          ],
          [
           120263.16
          ],
          [
           65789.47
          ],
          [
           262631.58
          ],
          [
           207894.74
          ],
          [
           81578.95
          ],
          [
           94210.53
          ],
          [
           126315.79
          ],
          [
           52105.26
          ],
          [
           192105.26
          ],
          [
           113105.26
          ],
          [
           113684.21
          ],
          [
           242105.26
          ],
          [
           184210.53
          ],
          [
           51000
          ],
          [
           33684.21
          ],
          [
           68421.05
          ],
          [
           86789.47
          ],
          [
           230842.11
          ],
          [
           113157.89
          ],
          [
           92105.26
          ],
          [
           49473.68
          ],
          [
           141052.63
          ],
          [
           139473.68
          ],
          [
           236842.11
          ],
          [
           89421.05
          ],
          [
           227684.21
          ],
          [
           97894.74
          ],
          [
           127894.74
          ],
          [
           236842.11
          ],
          [
           192217.47
          ],
          [
           194736.84
          ],
          [
           110526.32
          ],
          [
           121052.63
          ],
          [
           78947.37
          ],
          [
           101157.89
          ],
          [
           63157.89
          ],
          [
           121052.63
          ],
          [
           173684.21
          ],
          [
           97368.42
          ],
          [
           151315.79
          ],
          [
           100000
          ],
          [
           137105.26
          ],
          [
           70263.16
          ],
          [
           84210.53
          ],
          [
           228947.37
          ],
          [
           98162.37
          ],
          [
           97368.42
          ],
          [
           89473.68
          ],
          [
           102631.58
          ],
          [
           125926.68
          ],
          [
           42105.26
          ],
          [
           65789.47
          ],
          [
           49473.68
          ],
          [
           128947.37
          ],
          [
           86842.11
          ],
          [
           76315.79
          ],
          [
           110000
          ],
          [
           234210.53
          ],
          [
           184210.53
          ],
          [
           48947.37
          ],
          [
           210526.32
          ],
          [
           65789.47
          ],
          [
           171949.05
          ],
          [
           149000
          ],
          [
           57894.74
          ],
          [
           104736.84
          ],
          [
           120000
          ],
          [
           94736.84
          ],
          [
           35368.42
          ],
          [
           184210.53
          ],
          [
           118421.05
          ],
          [
           78947.37
          ],
          [
           113157.89
          ],
          [
           118421.05
          ],
          [
           84210.53
          ],
          [
           194736.84
          ],
          [
           263157.89
          ],
          [
           77631.58
          ],
          [
           92105.26
          ],
          [
           115789.47
          ],
          [
           94210.53
          ],
          [
           181263.16
          ],
          [
           228947.37
          ],
          [
           221052.63
          ],
          [
           44789.47
          ],
          [
           66526.32
          ],
          [
           73684.21
          ],
          [
           63157.89
          ],
          [
           147368.42
          ],
          [
           67026.32
          ],
          [
           42631.58
          ],
          [
           44736.84
          ],
          [
           118421.05
          ],
          [
           205263.16
          ],
          [
           236842.11
          ],
          [
           39473.68
          ],
          [
           63157.89
          ],
          [
           78947.37
          ],
          [
           294736.84
          ],
          [
           101884.21
          ],
          [
           144736.84
          ],
          [
           36842.11
          ],
          [
           57894.74
          ],
          [
           144736.84
          ],
          [
           118421.05
          ],
          [
           110526.32
          ],
          [
           44736.84
          ],
          [
           158210.53
          ],
          [
           65789.47
          ],
          [
           77089.47
          ],
          [
           110526.32
          ],
          [
           165043.74
          ],
          [
           155263.16
          ],
          [
           184210.53
          ],
          [
           118421.05
          ],
          [
           57894.74
          ],
          [
           55263.16
          ],
          [
           103684.21
          ],
          [
           50000
          ],
          [
           157368.42
          ],
          [
           71052.63
          ],
          [
           105263.16
          ],
          [
           106368.42
          ],
          [
           92631.58
          ],
          [
           71052.63
          ],
          [
           50000
          ],
          [
           46315.79
          ],
          [
           103157.89
          ],
          [
           110526.32
          ],
          [
           35789.47
          ],
          [
           72578.95
          ],
          [
           68421.05
          ],
          [
           44736.84
          ],
          [
           60526.32
          ],
          [
           67368.42
          ],
          [
           55263.16
          ],
          [
           67631.58
          ],
          [
           46315.79
          ],
          [
           115789.47
          ],
          [
           97894.74
          ],
          [
           44105.26
          ],
          [
           53097.89
          ],
          [
           107894.74
          ],
          [
           194736.84
          ],
          [
           102631.58
          ],
          [
           84210.53
          ],
          [
           68421.05
          ],
          [
           194736.84
          ],
          [
           197368.42
          ],
          [
           184210.53
          ],
          [
           53684.21
          ],
          [
           105263.16
          ],
          [
           44736.84
          ],
          [
           51578.95
          ],
          [
           184210.53
          ],
          [
           71052.63
          ],
          [
           45789.47
          ],
          [
           89473.68
          ],
          [
           205263.16
          ],
          [
           157894.74
          ],
          [
           52631.58
          ],
          [
           136842.11
          ],
          [
           171578.95
          ],
          [
           163157.89
          ],
          [
           63157.89
          ],
          [
           71052.63
          ],
          [
           64210.53
          ],
          [
           41052.63
          ],
          [
           68421.05
          ],
          [
           247105.26
          ],
          [
           273684.21
          ],
          [
           202631.58
          ],
          [
           313105.26
          ],
          [
           71052.63
          ],
          [
           109210.53
          ],
          [
           97368.42
          ],
          [
           120252.63
          ],
          [
           52398.95
          ],
          [
           88947.37
          ],
          [
           71052.63
          ],
          [
           71052.63
          ],
          [
           41578.95
          ],
          [
           176315.79
          ],
          [
           113157.89
          ],
          [
           94736.84
          ],
          [
           310526.32
          ],
          [
           51578.95
          ],
          [
           81578.95
          ],
          [
           89473.68
          ],
          [
           78947.37
          ],
          [
           34210.53
          ],
          [
           118421.05
          ],
          [
           163157.89
          ],
          [
           82473.68
          ],
          [
           47368.42
          ],
          [
           189473.68
          ],
          [
           102631.58
          ],
          [
           41578.95
          ],
          [
           34210.53
          ],
          [
           83157.89
          ],
          [
           34210.53
          ],
          [
           104736.84
          ],
          [
           95343.42
          ],
          [
           160526.32
          ],
          [
           40000
          ],
          [
           89473.68
          ],
          [
           51578.95
          ],
          [
           100000
          ],
          [
           71052.63
          ],
          [
           89473.68
          ],
          [
           147368.42
          ],
          [
           118421.05
          ],
          [
           56842.11
          ],
          [
           79953.95
          ],
          [
           75263.16
          ],
          [
           142105.26
          ],
          [
           121052.63
          ],
          [
           100000
          ],
          [
           118421.05
          ],
          [
           81578.95
          ],
          [
           128218.68
          ],
          [
           44736.84
          ],
          [
           94210.53
          ],
          [
           197368.42
          ],
          [
           126315.79
          ],
          [
           55263.16
          ],
          [
           105789.47
          ],
          [
           125073.68
          ],
          [
           115789.47
          ],
          [
           103947.37
          ],
          [
           68421.05
          ],
          [
           105263.16
          ],
          [
           113084.21
          ],
          [
           80711.37
          ],
          [
           36842.11
          ],
          [
           99473.68
          ],
          [
           65789.47
          ],
          [
           45789.47
          ],
          [
           155263.16
          ],
          [
           131578.95
          ],
          [
           68421.05
          ],
          [
           94736.84
          ],
          [
           115789.47
          ],
          [
           84210.53
          ],
          [
           195526.32
          ],
          [
           39473.68
          ],
          [
           115789.47
          ],
          [
           93684.21
          ],
          [
           75694.74
          ],
          [
           62105.26
          ],
          [
           40789.47
          ],
          [
           52631.53
          ],
          [
           99473.68
          ],
          [
           100000
          ],
          [
           127894.74
          ],
          [
           131578.95
          ],
          [
           300000
          ],
          [
           139473.68
          ],
          [
           76000
          ],
          [
           41578.95
          ],
          [
           150000
          ],
          [
           65789.47
          ],
          [
           111578.95
          ],
          [
           134210.53
          ],
          [
           244736.84
          ],
          [
           68421.05
          ],
          [
           68421.05
          ],
          [
           194736.84
          ],
          [
           33157.89
          ],
          [
           65789.47
          ],
          [
           150000
          ],
          [
           57894.74
          ],
          [
           120526.32
          ],
          [
           76315.79
          ],
          [
           102263.16
          ],
          [
           110526.32
          ],
          [
           46842.11
          ],
          [
           89210.53
          ],
          [
           168636.73
          ],
          [
           86932.69
          ],
          [
           102763
          ],
          [
           126477.54
          ],
          [
           121207.64
          ],
          [
           226869.1
          ],
          [
           76395.4
          ],
          [
           152932.43
          ],
          [
           216014.58
          ],
          [
           158059.45
          ],
          [
           103500.79
          ],
          [
           104319.23
          ],
          [
           90115.25
          ],
          [
           110667.85
          ],
          [
           62585.3
          ],
          [
           91674.48
          ],
          [
           115910.26
          ],
          [
           52686.48
          ],
          [
           150192.08
          ],
          [
           105397.95
          ],
          [
           157532.58
          ],
          [
           173865.39
          ],
          [
           100104.31
          ],
          [
           110667.85
          ],
          [
           99577.45
          ],
          [
           92201.34
          ],
          [
           92130.98
          ],
          [
           99050.58
          ],
          [
           98523.72
          ],
          [
           52686.48
          ],
          [
           123842.59
          ],
          [
           142253.5
          ],
          [
           242357.82
          ],
          [
           123813.23
          ],
          [
           55039.77
          ],
          [
           92201.34
          ],
          [
           115910.26
          ],
          [
           189716.32
          ],
          [
           57955.13
          ],
          [
           105397.95
          ],
          [
           49986.51
          ],
          [
           55320.8
          ],
          [
           165962.42
          ],
          [
           89587.99
          ],
          [
           120652.04
          ],
          [
           158059.45
          ],
          [
           210795.91
          ],
          [
           52698.97
          ],
          [
           72724.58
          ],
          [
           44256.64
          ],
          [
           151210.2
          ],
          [
           131716.2
          ],
          [
           147557.13
          ],
          [
           162801.23
          ],
          [
           86247.77
          ],
          [
           134382.39
          ],
          [
           44730.82
          ],
          [
           250260.79
          ],
          [
           68508.67
          ],
          [
           115910.26
          ],
          [
           35036.51
          ],
          [
           83226.17
          ],
          [
           115910.26
          ],
          [
           124633.08
          ],
          [
           132559.19
          ],
          [
           184402.69
          ],
          [
           78521.47
          ],
          [
           289775.66
          ],
          [
           59022.85
          ],
          [
           71126.75
          ],
          [
           123842.59
          ],
          [
           84298.37
          ],
          [
           85178.23
          ],
          [
           86932.69
          ],
          [
           33350.54
          ],
          [
           237089.17
          ],
          [
           136984.85
          ],
          [
           36353.67
          ],
          [
           115910.26
          ],
          [
           205477.28
          ],
          [
           68492.42
          ],
          [
           104343.97
          ],
          [
           59022.85
          ],
          [
           237145.4
          ],
          [
           68492.42
          ],
          [
           85949.19
          ],
          [
           138598.31
          ],
          [
           122525.12
          ],
          [
           138334.81
          ],
          [
           163328.09
          ],
          [
           68492.42
          ],
          [
           77467.49
          ],
          [
           63223.78
          ],
          [
           289775.66
          ],
          [
           326733.66
          ],
          [
           168596.74
          ],
          [
           60589.45
          ],
          [
           202842.96
          ],
          [
           84087.62
          ],
          [
           33982.78
          ],
          [
           192305.66
          ],
          [
           91632.19
          ],
          [
           68492.42
          ],
          [
           125393.83
          ],
          [
           136405.3
          ],
          [
           104319.23
          ],
          [
           57955.13
          ],
          [
           111331.75
          ],
          [
           141199.77
          ],
          [
           67438.69
          ],
          [
           43213.16
          ],
          [
           163328.09
          ],
          [
           205526.01
          ],
          [
           289775.66
          ],
          [
           99577.45
          ],
          [
           184446.42
          ],
          [
           171271.67
          ],
          [
           205477.28
          ],
          [
           81664.04
          ],
          [
           62711.78
          ],
          [
           47417.83
          ],
          [
           51369.32
          ],
          [
           173906.62
          ],
          [
           146995.28
          ],
          [
           184446.42
          ],
          [
           57705.38
          ],
          [
           184446.42
          ],
          [
           102738.64
          ],
          [
           68245.17
          ],
          [
           200208.63
          ],
          [
           38470.25
          ],
          [
           226551.88
          ],
          [
           115410.76
          ],
          [
           250260.79
          ],
          [
           141990.07
          ],
          [
           92750.2
          ],
          [
           76150.02
          ],
          [
           44783.51
          ],
          [
           210795.91
          ],
          [
           262115.25
          ],
          [
           86932.69
          ],
          [
           70283.76
          ],
          [
           171271.67
          ],
          [
           131716.2
          ],
          [
           73234.21
          ],
          [
           43729.78
          ],
          [
           257531.53
          ],
          [
           168069.88
          ],
          [
           266975.89
          ],
          [
           183348.96
          ],
          [
           86953.31
          ],
          [
           52159.61
          ],
          [
           84298.37
          ],
          [
           34773.07
          ],
          [
           147557.13
          ],
          [
           172852.64
          ],
          [
           126477.54
          ],
          [
           35988.5
          ],
          [
           49999.47
          ],
          [
           50517.24
          ],
          [
           42623.36
          ],
          [
           50052.15
          ],
          [
           37670.83
          ],
          [
           165172.12
          ],
          [
           208111.61
          ],
          [
           127880.63
          ],
          [
           125920.69
          ],
          [
           81137.18
          ],
          [
           105397.95
          ],
          [
           110667.85
          ],
          [
           231820.52
          ],
          [
           47417.83
          ],
          [
           138058.14
          ],
          [
           134350.53
          ],
          [
           132769.93
          ],
          [
           65858.1
          ],
          [
           237145.4
          ],
          [
           115937.75
          ],
          [
           129112.49
          ],
          [
           115937.75
          ],
          [
           316193.86
          ],
          [
           150156.47
          ],
          [
           171231.07
          ],
          [
           62170.05
          ],
          [
           95499.52
          ],
          [
           36783.88
          ],
          [
           189716.32
          ],
          [
           228450.07
          ],
          [
           131747.44
          ],
          [
           143834.1
          ],
          [
           152790.8
          ],
          [
           82717.77
          ],
          [
           63223.78
          ],
          [
           158059.45
          ],
          [
           115937.75
          ],
          [
           131716.2
          ],
          [
           68492.42
          ],
          [
           35826.8
          ],
          [
           92201.34
          ],
          [
           155425.12
          ],
          [
           142253.5
          ],
          [
           208111.61
          ],
          [
           50064.02
          ],
          [
           89567.02
          ],
          [
           94331.17
          ],
          [
           207057.88
          ],
          [
           163366.83
          ],
          [
           34246.21
          ],
          [
           115937.75
          ],
          [
           179134.04
          ],
          [
           84054.87
          ],
          [
           131716.2
          ],
          [
           68492.42
          ],
          [
           200256.11
          ],
          [
           260798.09
          ],
          [
           292796.2
          ],
          [
           194986.21
          ],
          [
           255590.04
          ],
          [
           35563.37
          ],
          [
           255529.44
          ],
          [
           250260.79
          ],
          [
           123842.59
          ],
          [
           115937.75
          ],
          [
           57287.8
          ],
          [
           119651
          ],
          [
           105372.96
          ],
          [
           183875.82
          ],
          [
           231875.5
          ],
          [
           200208.63
          ],
          [
           83264.38
          ],
          [
           154371.39
          ],
          [
           55333.92
          ],
          [
           165962.42
          ],
          [
           50052.15
          ],
          [
           231820.52
          ],
          [
           110351.66
          ],
          [
           226551.88
          ],
          [
           115910.26
          ],
          [
           84318.36
          ],
          [
           129081.88
          ],
          [
           134350.53
          ],
          [
           35308.31
          ],
          [
           290434.24
          ],
          [
           61643.18
          ],
          [
           121705.77
          ],
          [
           111194.84
          ],
          [
           82842.79
          ],
          [
           118572.7
          ],
          [
           289775.66
          ],
          [
           86953.31
          ],
          [
           71126.75
          ],
          [
           179239.41
          ],
          [
           46715.31
          ],
          [
           118572.7
          ],
          [
           76395.4
          ],
          [
           97469.99
          ],
          [
           98787.15
          ],
          [
           38461.13
          ],
          [
           139652.29
          ],
          [
           173906.62
          ],
          [
           97469.99
          ],
          [
           288721.93
          ],
          [
           57968.87
          ],
          [
           138934.25
          ],
          [
           210745.93
          ],
          [
           60603.82
          ],
          [
           162393.9
          ],
          [
           135963.36
          ],
          [
           102369.83
          ],
          [
           252895.12
          ],
          [
           46890.97
          ],
          [
           60603.82
          ],
          [
           34254.33
          ],
          [
           37353.34
          ],
          [
           79029.72
          ],
          [
           147522.15
          ],
          [
           200256.11
          ],
          [
           51632.75
          ],
          [
           152790.8
          ],
          [
           52686.48
          ],
          [
           79048.46
          ],
          [
           191620.74
          ],
          [
           110140.86
          ],
          [
           184402.69
          ],
          [
           242357.82
          ],
          [
           51632.75
          ],
          [
           150192.08
          ],
          [
           36889.28
          ],
          [
           150894.08
          ],
          [
           194939.99
          ],
          [
           115910.26
          ],
          [
           108559.89
          ],
          [
           158096.93
          ],
          [
           38724.56
          ],
          [
           93781.94
          ],
          [
           52633.79
          ],
          [
           144700.85
          ],
          [
           242357.82
          ],
          [
           126214.05
          ],
          [
           229186.2
          ],
          [
           102738.64
          ],
          [
           161258.87
          ],
          [
           43202.91
          ],
          [
           155425.12
          ],
          [
           50157.53
          ],
          [
           92223.21
          ],
          [
           146995.28
          ],
          [
           118572.7
          ],
          [
           93804.18
          ],
          [
           158059.45
          ],
          [
           247421.7
          ],
          [
           73778.56
          ],
          [
           64556.24
          ],
          [
           108007.29
          ],
          [
           44783.51
          ],
          [
           292900.92
          ],
          [
           168596.74
          ],
          [
           139652.29
          ],
          [
           68492.42
          ],
          [
           210745.93
          ],
          [
           86953.31
          ],
          [
           125920.69
          ],
          [
           61643.18
          ],
          [
           106127.01
          ],
          [
           164947.8
          ],
          [
           94835.67
          ],
          [
           34246.21
          ],
          [
           47417.83
          ],
          [
           94858.16
          ],
          [
           237145.4
          ],
          [
           45848.11
          ],
          [
           34254.33
          ],
          [
           194939.99
          ],
          [
           240884.28
          ],
          [
           101445.53
          ],
          [
           78502.86
          ],
          [
           76413.51
          ],
          [
           168596.74
          ],
          [
           45057.62
          ],
          [
           51632.75
          ],
          [
           118544.58
          ],
          [
           99577.45
          ],
          [
           46469.47
          ],
          [
           73778.56
          ],
          [
           289775.66
          ],
          [
           39514.86
          ],
          [
           68508.67
          ],
          [
           36880.53
          ],
          [
           274034.68
          ],
          [
           187081.37
          ],
          [
           97493.1
          ],
          [
           67860.19
          ],
          [
           88513.29
          ],
          [
           80083.45
          ],
          [
           147557.13
          ],
          [
           150192.08
          ],
          [
           47944.7
          ],
          [
           36248.3
          ],
          [
           75783.82
          ],
          [
           126477.54
          ],
          [
           51644.99
          ],
          [
           262440.91
          ],
          [
           35826.8
          ],
          [
           94835.67
          ],
          [
           33192.48
          ],
          [
           163328.09
          ],
          [
           73761.07
          ],
          [
           97469.99
          ],
          [
           178607.18
          ],
          [
           51105.88
          ],
          [
           79029.72
          ],
          [
           71143.62
          ],
          [
           152790.8
          ],
          [
           121207.64
          ],
          [
           47417.83
          ],
          [
           104319.23
          ],
          [
           121207.64
          ],
          [
           200256.11
          ],
          [
           52605.29
          ],
          [
           236091.42
          ],
          [
           59535.72
          ],
          [
           81664.04
          ],
          [
           53666.55
          ],
          [
           224339.55
          ],
          [
           80083.45
          ],
          [
           46627.53
          ],
          [
           42941.43
          ],
          [
           41095.45
          ],
          [
           263432.41
          ],
          [
           55847.67
          ],
          [
           229240.55
          ],
          [
           121178.91
          ],
          [
           67438.69
          ],
          [
           63238.77
          ],
          [
           127584.22
          ],
          [
           57955.13
          ],
          [
           99601.06
          ],
          [
           165467.83
          ],
          [
           77994.48
          ],
          [
           94203.43
          ],
          [
           187037.01
          ],
          [
           81683.41
          ],
          [
           55333.92
          ],
          [
           193359.39
          ],
          [
           158096.93
          ],
          [
           72865.4
          ],
          [
           36090.24
          ],
          [
           45447.36
          ],
          [
           167543.01
          ],
          [
           183875.82
          ],
          [
           35299.94
          ],
          [
           55320.8
          ],
          [
           70757.94
          ],
          [
           115910.26
          ],
          [
           110969.16
          ],
          [
           173906.62
          ],
          [
           44256.64
          ],
          [
           118544.58
          ],
          [
           63223.78
          ],
          [
           252895.12
          ],
          [
           37934.26
          ],
          [
           157690.64
          ],
          [
           57968.87
          ],
          [
           316118.9
          ],
          [
           91632.19
          ],
          [
           88513.29
          ],
          [
           92223.21
          ],
          [
           44783.51
          ],
          [
           63223.78
          ],
          [
           44794.13
          ],
          [
           105372.96
          ],
          [
           51632.75
          ],
          [
           121178.91
          ],
          [
           47417.83
          ],
          [
           39524.23
          ],
          [
           245050.24
          ],
          [
           110667.85
          ]
         ],
         "hovertemplate": "property_type=house<br>lat=%{lat}<br>lon=%{lon}<br>price_usd=%{customdata[0]}<extra></extra>",
         "lat": [
          19.56,
          25.69,
          21.05,
          20.72,
          18.81,
          16.77,
          19.31,
          18.8,
          21.05,
          19.56,
          18.01,
          19.34,
          21.52,
          18.86,
          18.99,
          25.62,
          21,
          23.24,
          19.54,
          17.89,
          16.72,
          22.33,
          21.02,
          25.57,
          25.58,
          19.04,
          19.39,
          19.1,
          23.63,
          21.08,
          19.36,
          19.72,
          19.37,
          22.13,
          18.8,
          24.81,
          32.49,
          20.13,
          18.96,
          23.63,
          19.54,
          21.13,
          25.57,
          16.86,
          19.11,
          16.77,
          23.63,
          20.65,
          19.65,
          25.71,
          25.75,
          19.3,
          25.58,
          26.07,
          21.15,
          20.79,
          21,
          19.53,
          20.71,
          29.06,
          18.99,
          24.75,
          19.54,
          28.63,
          20.99,
          22.14,
          19.5,
          18.94,
          19.09,
          19.16,
          18.99,
          18.92,
          21,
          24.15,
          19.32,
          19.7,
          19,
          21.07,
          25.63,
          19.28,
          20.53,
          18.92,
          21.03,
          23.63,
          21.07,
          19.37,
          19.04,
          18.13,
          25.57,
          19.29,
          20.79,
          25.68,
          19.31,
          19.68,
          21.01,
          22.09,
          23.63,
          22.14,
          19.43,
          20.06,
          21.29,
          18.9,
          19.41,
          18.89,
          21.04,
          19.23,
          19.56,
          28.65,
          25.71,
          21.88,
          19.16,
          20.06,
          25.63,
          19.36,
          19.46,
          19.01,
          19.35,
          18.93,
          20.7,
          21.03,
          21,
          18.98,
          19.28,
          22.41,
          18.26,
          19.4,
          21.04,
          19.55,
          19.62,
          23.24,
          21.13,
          25.7,
          19.56,
          19.21,
          21.04,
          20.73,
          23.63,
          19.4,
          17.98,
          20.59,
          21.01,
          21.01,
          19.67,
          18.15,
          25.74,
          20.97,
          22.26,
          20.77,
          18.8,
          22.32,
          19.15,
          21.04,
          16.86,
          20.73,
          23.26,
          21.14,
          25.54,
          21,
          20.65,
          21.04,
          21.01,
          20.65,
          21.03,
          19.37,
          21.04,
          20.76,
          19.27,
          22.12,
          17.99,
          19.47,
          18.85,
          21.05,
          18.94,
          16.81,
          25.86,
          21.17,
          18.88,
          19.43,
          18.87,
          22.19,
          21.08,
          18.98,
          19.4,
          32.56,
          19.34,
          23.63,
          20.57,
          20.72,
          22.12,
          21.01,
          25.51,
          22.27,
          19.33,
          19.24,
          19.47,
          18.92,
          17.97,
          25.79,
          24.8,
          21.91,
          18.9,
          22.29,
          25.66,
          20.96,
          25.76,
          25.71,
          21.05,
          19.09,
          20.79,
          21.12,
          22.18,
          18.81,
          19.06,
          21.04,
          19.7,
          20.6,
          19.02,
          19.99,
          18.85,
          22.18,
          19.62,
          19.59,
          19.47,
          22.15,
          19.64,
          19.09,
          20.61,
          21,
          19,
          18.92,
          18.92,
          19.06,
          16.78,
          21.04,
          20.7,
          22.89,
          20.55,
          19.35,
          19.28,
          18.99,
          21.53,
          20.62,
          19.73,
          25.52,
          20.42,
          18.8,
          21.03,
          20.65,
          32.43,
          26.06,
          25.6,
          24.13,
          22.24,
          19.05,
          19.25,
          29.03,
          20.77,
          22.16,
          21.06,
          21.14,
          20.55,
          18.95,
          21.15,
          18.88,
          17.97,
          16.74,
          25.76,
          19.47,
          16.77,
          20.97,
          21.02,
          18.86,
          19.12,
          19.36,
          19.36,
          20.99,
          25.45,
          20.94,
          22.27,
          16.78,
          19.69,
          19.64,
          20.65,
          18.91,
          19.07,
          20.71,
          19.54,
          24.81,
          25.87,
          19.37,
          16.76,
          22.32,
          20.58,
          19.65,
          19.59,
          20.63,
          24.08,
          19.14,
          19.27,
          20.1,
          18.15,
          25.78,
          20.7,
          20.96,
          18.88,
          18.98,
          20.62,
          19.18,
          25.57,
          18.81,
          21.12,
          19.17,
          18.95,
          20.59,
          25.68,
          19.32,
          20.71,
          21.01,
          19.53,
          19.17,
          19.14,
          32.67,
          22.27,
          21.02,
          19.14,
          18.97,
          18.81,
          27.49,
          20.66,
          24.14,
          16.84,
          23.63,
          20.61,
          18.93,
          25.44,
          19.51,
          19.33,
          21.07,
          22.15,
          18.88,
          18.03,
          23.63,
          18.92,
          19.01,
          18.86,
          18.95,
          21.04,
          21.07,
          25.53,
          19.5,
          19.56,
          22.16,
          25.68,
          22.15,
          16.86,
          19.55,
          16.87,
          18.81,
          20.06,
          22.27,
          18.95,
          19.04,
          28.66,
          19.28,
          16.73,
          23.63,
          21.04,
          19.69,
          18.92,
          21.03,
          25.72,
          21.02,
          18.89,
          19.55,
          20.61,
          22.16,
          22.17,
          16.77,
          22.25,
          19.37,
          19.31,
          23.63,
          21.04,
          22.18,
          19.11,
          19.64,
          25.5,
          25.46,
          20.61,
          19.18,
          20.96,
          29.08,
          21.04,
          25.74,
          21.89,
          16.73,
          25.7,
          21.89,
          20.62,
          25.67,
          18.94,
          20.7,
          25.56,
          25.58,
          23.28,
          16.75,
          22.15,
          18.94,
          19.33,
          19.46,
          19.07,
          19.5,
          18.87,
          20.73,
          21.08,
          19.44,
          20.97,
          19.16,
          19.04,
          24.82,
          25.76,
          20.56,
          16.74,
          21.03,
          16.73,
          20.71,
          21.03,
          18.86,
          21.31,
          19.33,
          21.01,
          19.11,
          32.46,
          19.1,
          20.39,
          21.07,
          20.65,
          18.9,
          21.07,
          18.92,
          20.95,
          19.05,
          21.05,
          21.34,
          20.59,
          23.63,
          22.14,
          19.17,
          21.06,
          28.69,
          22.13,
          19.04,
          19.15,
          25.75,
          19.67,
          32.47,
          21.03,
          16.72,
          18.81,
          21.07,
          20.62,
          21.08,
          16.87,
          25.58,
          21.02,
          20.04,
          21.04,
          18.89,
          25.55,
          21.14,
          19.68,
          19.72,
          19.42,
          20.68,
          18.98,
          19.29,
          22.15,
          18.02,
          19.01,
          22.26,
          19.38,
          18.93,
          21.03,
          20.68,
          18.82,
          22.34,
          18.86,
          20.57,
          18.86,
          20.69,
          20.39,
          32.45,
          23.63,
          19.62,
          20.06,
          19.47,
          21.04,
          16.76,
          25.63,
          21.08,
          19.43,
          21.04,
          18.9,
          18.98,
          21.07,
          18.81,
          20.42,
          21.04,
          19.28,
          28.65,
          19.28,
          20.71,
          19.28,
          20.68,
          22.32,
          21.1,
          32.51,
          20.62,
          23.22,
          21.04,
          21.07,
          21.07,
          20.55,
          20.96,
          20.4,
          19.54,
          19.15,
          19.34,
          20.1,
          19.47,
          23.63,
          20.59,
          19.23,
          19.51,
          23.63,
          28.7,
          24.77,
          26.08,
          28.95,
          25.63,
          20.66,
          16.74,
          20.7,
          28.64,
          19.26,
          25.55,
          19.35,
          16.84,
          19.48,
          24.84,
          21.1,
          21.16,
          25.64,
          29.09,
          24.16,
          20.78,
          22.25,
          19.57,
          21.04,
          20.56,
          18.82,
          21.02,
          18.89,
          19.64,
          21.04,
          18.13,
          21.08,
          18.07,
          21.07,
          22.25,
          22.15,
          32.49,
          22.19,
          18.96,
          18.89,
          28.64,
          19.52,
          16.76,
          21.08,
          19.02,
          21.92,
          21.14,
          25.73,
          24.14,
          20.58,
          25.73,
          19.67,
          21,
          20.68,
          20.76,
          21.03,
          19.34,
          25.6,
          19.67,
          19.65,
          25.77,
          22.23,
          25.72,
          19.04,
          19.56,
          19.06,
          23.63,
          19.4,
          20.68,
          19.53,
          22.31,
          22.29,
          18.86,
          20.73,
          20.72,
          19.14,
          19.03,
          25.57,
          18.81,
          21.04,
          18.8,
          25.58,
          19.23,
          20.76,
          19.38,
          20.65,
          20.6,
          21.93,
          22.13,
          19.03,
          18.95,
          20.96,
          19.55,
          22.31,
          18.89,
          21.03,
          19.35,
          21.01,
          19.26,
          19.42,
          19.47,
          19.13,
          19.41,
          32.47,
          19.52,
          21.04,
          20.63,
          19.17,
          16.76,
          20.57,
          20.62,
          25.75,
          19.04,
          19.36,
          19.7,
          18.15,
          20.59,
          18.92,
          19.07,
          16.76,
          19.65,
          19.73,
          23.63,
          21,
          21.04,
          19.11,
          19.14,
          32.63,
          21.04,
          25.54,
          20.71,
          25.66,
          22.27,
          18.87,
          20.7,
          19.29,
          19.5,
          23.63,
          20.39,
          20.71,
          18.86,
          19.34,
          23.63,
          29.06,
          25.8,
          20.6,
          19.06,
          23.63,
          21.03,
          18.91,
          20.97,
          25.67,
          21.04,
          18.85,
          20.73,
          22.27,
          20.75,
          20.61,
          22.15,
          21.04,
          25.72,
          19.56,
          18.86,
          19.51,
          20.97,
          22.25,
          22.3,
          20.75,
          26.85,
          23.63,
          20.05,
          21.06,
          19.4,
          24.04,
          25.55,
          20.57,
          18.95,
          19.27,
          21.07,
          18.46,
          19.6,
          27.93,
          24.79,
          19.5,
          21.07,
          19.42,
          21.01,
          18.86,
          19.37,
          23.63,
          16.76,
          20.7,
          19.02,
          21.18,
          16.86,
          17.97,
          19.31,
          25.59,
          21.16,
          21.03,
          21.06,
          19.51,
          20.6,
          23.27,
          23.63,
          18.88,
          18.86,
          25.56,
          25.57,
          18.86,
          28.66,
          28.68,
          22.25,
          16.77,
          20.55,
          22.19,
          18.86,
          26.08,
          19.52,
          19.55,
          19.69,
          19.33,
          20.62,
          32.65,
          22.14,
          18.98,
          20.62,
          18.89,
          22.33,
          16.71,
          19.3,
          20.95,
          20.97,
          19.32,
          18.88,
          25.63,
          18.93,
          20.52,
          25.66,
          23.25,
          18.97,
          19.34,
          19.68,
          25.72,
          20.6,
          25.67,
          20.96,
          16.23,
          19.26,
          20.73,
          21.9,
          20.3,
          19.08,
          19.32,
          21.13,
          19.05,
          18.86,
          20.65,
          25.75,
          21.01,
          18.89,
          19.32,
          22.25,
          20.59,
          25.69,
          20.59,
          23.63,
          18.99,
          19.04,
          20.12,
          20.73,
          21.02,
          20.12,
          25.51,
          21.03,
          20.68,
          21.96,
          32.47,
          22.33,
          19.7,
          19.77,
          19.28,
          21.04,
          19.67,
          19.01,
          32.49,
          22.14,
          20.64,
          30.73,
          19.55,
          20.6,
          23.63,
          19.34,
          21.08,
          22.26,
          19.03,
          19.31,
          23.2,
          28.63,
          21.04,
          16.88,
          24.13,
          19.27,
          21,
          18.95,
          19.49,
          17.65,
          19.27,
          21.16,
          20.66,
          20.96,
          22.14,
          21.05,
          19.62,
          18.92,
          17.96,
          19.63,
          24.04,
          21.11,
          18.91,
          18.84,
          25.56,
          20.76,
          28.63,
          19,
          20.73,
          18.8,
          18.89,
          20.4,
          22.13,
          19.56,
          25.76,
          22.16,
          20.73,
          19.48,
          20.65,
          19.06,
          25.37,
          32.59,
          18.97,
          25.76,
          19.04,
          19.39,
          19.53,
          19.3,
          23.63,
          20.71,
          19.05,
          25.74,
          19.1,
          22.15,
          21.13,
          18.92,
          19.47,
          19.23,
          18.92,
          21.08,
          19.26,
          19.27,
          20.69,
          21.04,
          21.13,
          21,
          19.67,
          21.13,
          25.63,
          20.95,
          18.92,
          19.14,
          21.04,
          25.44,
          32.43,
          19.48,
          25.74,
          16.77,
          20.65,
          18.89,
          19.41,
          18.9,
          19.6,
          18.82,
          23.63,
          21.14,
          18.77,
          22.17,
          23.63,
          19.1,
          19.52,
          19.28,
          19.34,
          18.93,
          19.53,
          19.04,
          18.98,
          18.86,
          20.59,
          18.99,
          19.3,
          20.7,
          19.67,
          20.96,
          20.64,
          19.67,
          18.98,
          20.6,
          21.02,
          28.63,
          20.72,
          20.73,
          18.77,
          19.41,
          19.67,
          28.61,
          23.63,
          20.57,
          19.16,
          20.96,
          25.78,
          21.04,
          20.54,
          19.16,
          19.28,
          18.91,
          20.57,
          18.93,
          20.58,
          16.77,
          18.9,
          16.75,
          20.52,
          18.89,
          19.68,
          20.58,
          21.16,
          18.8,
          25.48,
          20.54,
          19.34,
          19.27,
          20.54,
          25.73,
          18.84,
          19.29,
          19.29,
          20.54,
          19.07,
          20.61,
          19.66,
          21.03,
          19.71,
          19.48,
          28.66,
          20.73,
          19.14,
          19.52,
          20.09,
          32.6,
          16.77,
          21.04,
          18.9,
          19.12,
          19.35,
          22.14,
          29.08,
          19.04,
          19.51,
          18.85,
          25.76,
          20.73,
          19.56,
          18.94,
          19.03,
          19.23,
          21.04,
          18.94,
          18.05,
          21,
          20.98,
          18.86,
          19.4,
          20.71,
          24.81,
          21.01,
          18.95,
          18.95,
          18.88,
          20.59,
          21,
          16.77,
          28.63,
          20.59,
          18.86,
          16.86,
          21,
          19.67,
          25.67,
          20.66,
          23.29,
          19.42,
          19.64,
          20.08,
          18.85,
          19.3,
          19.4,
          19.67,
          16.86,
          18.98,
          20.62,
          19.53,
          18.88,
          18.96,
          20.63,
          18.66,
          19.07,
          22.29,
          19.36,
          22.19,
          19.57,
          18.89,
          18.99,
          21.46,
          22.14,
          19.55,
          19.54,
          23.23,
          21.01,
          18.14,
          18.99,
          25.54,
          21.04,
          20.7,
          19.26,
          20.65,
          23.63,
          20.59,
          19.12,
          18.15,
          19.49,
          19.54,
          19.67,
          19.3,
          32.42,
          18.86,
          18.94,
          19.35,
          25.66,
          19.56,
          25.65,
          16.77,
          23.63,
          19.32,
          16.85,
          19.36,
          19.34,
          22.39,
          24.03,
          25.58,
          19.52,
          20.61,
          22.16,
          18.85,
          19.12,
          19.3,
          16.76,
          18.81,
          19.83,
          20.59,
          20.04,
          20.62,
          21.2,
          21.03,
          19.34,
          25.68,
          21.03,
          18.94,
          20.61,
          19.47,
          19.52,
          20.57,
          18.15,
          19.4,
          19.28,
          18.9,
          19.46,
          20.73,
          20.55,
          20.65,
          16.77,
          18.95,
          25.7,
          23.63,
          19.23,
          21.07,
          19.04,
          18,
          19.11,
          18.91,
          20.78,
          25.77,
          24.17,
          32.46,
          20.73,
          19.55,
          21.04,
          18.92,
          18.95,
          20.61,
          16.77,
          19.49,
          19.36,
          20.63,
          25.64,
          21.14,
          16.87,
          19.55,
          22.28,
          18.96,
          19.67,
          19.51,
          19.3,
          19.49,
          29.11,
          19.71,
          25.59,
          24.16,
          19.48,
          19.4,
          28.68,
          21.01,
          19.58,
          20.57,
          20.99,
          18.95,
          25.69,
          32.49,
          20.75,
          19.56,
          20.53,
          19.49,
          20.65,
          20.88,
          25.69,
          18.8,
          20.7,
          19.59,
          18.97,
          25.53,
          20.59,
          19.02,
          21.14,
          19.2,
          23.29,
          19.28,
          25.74,
          18.9,
          21.04,
          23.63,
          18.93,
          19.38,
          18.89,
          25.68,
          22.1,
          19.55,
          21.06,
          22.29,
          20.52,
          25.44,
          21,
          22.33,
          18.86,
          19.05,
          18.88,
          18.93,
          18.94,
          25.74,
          19.27,
          19.49,
          20.55,
          20.57,
          32.46,
          19.35,
          21.04,
          20.3,
          20.38,
          18.8,
          20.6,
          22.27,
          22.31,
          18.81,
          20.71,
          25.66,
          19.06,
          21.9,
          19.83,
          19.49,
          19.51,
          28.7,
          19.08,
          23.63,
          18.92,
          16.74,
          20.95,
          22.19,
          19.5,
          21.14,
          20.66,
          21.31,
          21.07,
          20.95,
          25.72,
          19.41,
          22.13,
          21.02,
          19.32,
          20.65,
          19.71,
          21.07,
          22.31,
          20.55,
          19.31,
          19.7,
          25.53,
          22.14,
          18.83,
          20.56,
          21.18,
          20.54,
          19.53,
          20.76,
          23.63,
          22.27,
          16.86,
          19.13,
          20.39,
          21.17,
          32.47,
          20.75,
          19.06,
          18.97,
          19.3,
          21,
          19.66,
          19.26,
          18.74,
          21.04,
          18.95,
          24.82,
          19.52,
          20.69,
          19.55,
          28.67,
          20.91,
          23.63,
          20.62,
          22.19,
          21.03,
          19.28,
          21.08,
          19.38,
          21,
          22,
          25.71,
          19.29,
          24.02,
          19.54,
          19.34,
          20.59,
          20.67,
          23.26,
          19.52,
          27.49,
          25.71,
          28.63,
          22.29,
          18.93,
          18.84,
          25.72,
          19.75,
          19.48,
          19.16,
          16.78,
          21.04,
          18.01,
          20.12,
          20.97,
          23.63,
          24.81,
          18.84,
          25.51,
          20.53,
          18.93,
          21.03,
          22.12,
          19.23
         ],
         "legendgroup": "house",
         "lon": [
          -99.23,
          -100.2,
          -89.54,
          -100.45,
          -98.95,
          -93.09,
          -99.65,
          -98.93,
          -89.68,
          -99.23,
          -92.9,
          -99.22,
          -104.91,
          -99.24,
          -98.28,
          -103.4,
          -89.6,
          -106.41,
          -99.18,
          -92.92,
          -93.16,
          -97.89,
          -89.59,
          -103.33,
          -103.38,
          -98.21,
          -99.11,
          -96.16,
          -102.55,
          -89.52,
          -99.23,
          -99.21,
          -99.02,
          -101.02,
          -98.93,
          -107.47,
          -116.91,
          -98.74,
          -99.21,
          -102.55,
          -99.24,
          -86.82,
          -100.24,
          -99.87,
          -96.11,
          -99.77,
          -102.55,
          -100.35,
          -99.22,
          -100.15,
          -100.24,
          -99.21,
          -103.38,
          -98.35,
          -86.82,
          -103.44,
          -89.64,
          -99.23,
          -100.44,
          -110.98,
          -98.28,
          -107.4,
          -99.11,
          -106.07,
          -89.57,
          -100.9,
          -99.1,
          -99.24,
          -98.29,
          -96.15,
          -98.2,
          -98.96,
          -89.59,
          -110.32,
          -99.24,
          -99.23,
          -98.18,
          -89.66,
          -100.17,
          -99.59,
          -103.48,
          -98.94,
          -89.6,
          -102.55,
          -89.66,
          -99.22,
          -98.33,
          -94.48,
          -103.43,
          -99.69,
          -103.44,
          -100.46,
          -98.9,
          -99.23,
          -89.59,
          -100.9,
          -102.55,
          -101.02,
          -99.23,
          -98.79,
          -89.6,
          -99.06,
          -99.17,
          -99.22,
          -89.56,
          -99.56,
          -99.23,
          -106.11,
          -100.21,
          -102.33,
          -96.14,
          -98.77,
          -100.3,
          -99.3,
          -99.11,
          -98.22,
          -99.13,
          -99.25,
          -100.47,
          -89.6,
          -89.58,
          -98.27,
          -99.66,
          -97.93,
          -93.18,
          -99.07,
          -89.56,
          -99.21,
          -99.2,
          -106.43,
          -86.82,
          -100.3,
          -96.94,
          -96.2,
          -89.56,
          -100.44,
          -102.55,
          -99.2,
          -92.97,
          -100.39,
          -89.57,
          -89.59,
          -101.21,
          -94.44,
          -100.41,
          -89.63,
          -97.82,
          -103.41,
          -99.23,
          -97.89,
          -96.16,
          -89.64,
          -99.89,
          -100.44,
          -106.41,
          -86.85,
          -103.38,
          -89.56,
          -100.35,
          -89.6,
          -89.59,
          -100.35,
          -89.6,
          -99.14,
          -89.56,
          -103.41,
          -99.58,
          -100.95,
          -92.93,
          -99.59,
          -98.95,
          -89.67,
          -99.24,
          -99.82,
          -97.5,
          -101.63,
          -99.15,
          -99.23,
          -99.19,
          -101.01,
          -89.52,
          -98.22,
          -99.15,
          -115.32,
          -99.1,
          -102.55,
          -103.48,
          -105.27,
          -101.02,
          -89.57,
          -103.36,
          -97.88,
          -99.58,
          -99.62,
          -99.27,
          -98.96,
          -92.95,
          -100.27,
          -107.46,
          -102.29,
          -99.23,
          -97.84,
          -100.29,
          -89.62,
          -100.41,
          -100.25,
          -89.54,
          -98.23,
          -103.48,
          -101.6,
          -101.03,
          -99.21,
          -98.27,
          -89.55,
          -98.98,
          -100.36,
          -98.26,
          -102.28,
          -99.21,
          -101.03,
          -99.21,
          -99.28,
          -99.18,
          -100.89,
          -99.18,
          -96.13,
          -100.33,
          -89.6,
          -98.24,
          -99.18,
          -99.21,
          -98.3,
          -93.12,
          -89.56,
          -103.33,
          -109.95,
          -100.38,
          -99.24,
          -99.56,
          -98.19,
          -104.92,
          -100.35,
          -99.46,
          -103.41,
          -100,
          -98.93,
          -89.62,
          -105.2,
          -117.03,
          -98.32,
          -103.41,
          -110.32,
          -97.84,
          -98.19,
          -99.61,
          -110.97,
          -103.39,
          -100.99,
          -89.61,
          -89.64,
          -100.41,
          -99.27,
          -86.85,
          -99.16,
          -92.92,
          -93.09,
          -100.26,
          -99.09,
          -93.18,
          -89.59,
          -89.57,
          -99.21,
          -96.11,
          -99.13,
          -98.98,
          -89.63,
          -100.94,
          -89.62,
          -97.85,
          -93.1,
          -101.18,
          -99.1,
          -103.45,
          -99.22,
          -96.07,
          -100.44,
          -99.22,
          -107.39,
          -97.51,
          -99.1,
          -93.13,
          -97.87,
          -101.2,
          -101.24,
          -99.29,
          -100.39,
          -110.3,
          -96.14,
          -99.55,
          -98.76,
          -94.51,
          -100.19,
          -100.47,
          -89.66,
          -96.92,
          -98.25,
          -100.39,
          -99.59,
          -103.38,
          -98.95,
          -86.88,
          -96.16,
          -99.27,
          -100.39,
          -100.26,
          -99.09,
          -100.45,
          -89.61,
          -96.9,
          -96.13,
          -96.11,
          -115.43,
          -97.85,
          -89.63,
          -96.13,
          -99.29,
          -98.95,
          -109.96,
          -87.05,
          -110.34,
          -99.85,
          -102.55,
          -103.39,
          -99.21,
          -100.95,
          -99.26,
          -99.23,
          -89.66,
          -101.04,
          -99.18,
          -92.98,
          -102.55,
          -98.42,
          -98.17,
          -99.2,
          -99.22,
          -89.59,
          -89.66,
          -103.32,
          -99.05,
          -99.25,
          -100.94,
          -100.45,
          -101.02,
          -99.85,
          -99.02,
          -99.87,
          -98.95,
          -98.77,
          -97.87,
          -99.48,
          -98.33,
          -106.07,
          -99.21,
          -93.14,
          -102.55,
          -89.59,
          -99.21,
          -99.17,
          -89.6,
          -100.39,
          -89.66,
          -99.19,
          -99.23,
          -100.34,
          -100.98,
          -100.95,
          -93.11,
          -97.86,
          -99.23,
          -98.22,
          -102.55,
          -89.56,
          -100.98,
          -98.28,
          -99.1,
          -103.41,
          -100.88,
          -100.39,
          -96.13,
          -97.4,
          -110.99,
          -89.56,
          -100.37,
          -102.26,
          -93.1,
          -100.46,
          -102.29,
          -103.39,
          -100.31,
          -99.24,
          -100.47,
          -103.39,
          -100.24,
          -106.41,
          -93.09,
          -101.04,
          -99.22,
          -99.13,
          -99.21,
          -98.27,
          -99.23,
          -99.23,
          -100.44,
          -89.52,
          -98.1,
          -89.62,
          -99.57,
          -98.21,
          -107.43,
          -100.27,
          -100.37,
          -93.18,
          -89.58,
          -92.63,
          -100.44,
          -89.6,
          -98.93,
          -89.53,
          -99.08,
          -89.62,
          -96.11,
          -116.88,
          -98.36,
          -99.97,
          -89.62,
          -100.38,
          -99.07,
          -89.66,
          -98.96,
          -97.36,
          -98.28,
          -89.56,
          -89.26,
          -100.42,
          -102.55,
          -101,
          -96.16,
          -89.66,
          -106.14,
          -100.94,
          -98.2,
          -96.12,
          -100.27,
          -101.19,
          -116.82,
          -89.65,
          -93.16,
          -99.2,
          -89.66,
          -100.35,
          -89.52,
          -99.87,
          -103.38,
          -89.57,
          -98.78,
          -89.6,
          -99.22,
          -103.39,
          -86.85,
          -101.21,
          -101.12,
          -99.25,
          -101.41,
          -98.22,
          -99.16,
          -101.01,
          -92.9,
          -98.17,
          -97.85,
          -99.22,
          -99.25,
          -89.6,
          -100.33,
          -98.95,
          -97.89,
          -99.21,
          -103.5,
          -99.18,
          -100.47,
          -99.97,
          -117.04,
          -102.55,
          -99.15,
          -98.79,
          -99.04,
          -89.56,
          -99.77,
          -100.2,
          -89.52,
          -99.21,
          -89.56,
          -99.17,
          -98.22,
          -89.66,
          -99.2,
          -103.3,
          -89.59,
          -99.57,
          -106.09,
          -98.95,
          -105.27,
          -99.17,
          -103.42,
          -97.86,
          -86.87,
          -116.99,
          -103.41,
          -106.42,
          -89.56,
          -89.66,
          -89.66,
          -100.39,
          -97.41,
          -99.99,
          -99.23,
          -96.12,
          -99.13,
          -98.77,
          -99.12,
          -102.55,
          -100.45,
          -103.7,
          -96.9,
          -102.55,
          -106.09,
          -107.44,
          -98.33,
          -111.05,
          -100.19,
          -100.44,
          -93.13,
          -100.46,
          -106.11,
          -99.58,
          -103.51,
          -99.01,
          -99.9,
          -99.26,
          -107.39,
          -86.86,
          -86.87,
          -100.3,
          -110.97,
          -110.31,
          -103.47,
          -97.87,
          -99.3,
          -89.56,
          -100.38,
          -99.23,
          -89.57,
          -99.2,
          -99.1,
          -89.56,
          -94.48,
          -89.63,
          -93.17,
          -89.66,
          -97.88,
          -101,
          -117.02,
          -100.95,
          -98.28,
          -99.19,
          -106.13,
          -99.15,
          -99.77,
          -89.52,
          -98.21,
          -102.28,
          -86.84,
          -100.23,
          -110.35,
          -103.43,
          -100.35,
          -99.02,
          -89.57,
          -87.04,
          -103.38,
          -89.56,
          -98.22,
          -103.42,
          -101.24,
          -99.22,
          -100.43,
          -97.86,
          -100.4,
          -98.33,
          -99.25,
          -98.21,
          -102.55,
          -99.26,
          -100.46,
          -99.23,
          -97.86,
          -97.89,
          -98.93,
          -100.44,
          -105.27,
          -96.11,
          -98.27,
          -100.22,
          -98.95,
          -89.56,
          -98.96,
          -100.26,
          -99.57,
          -103.39,
          -99.08,
          -105.23,
          -100.41,
          -102.3,
          -101.02,
          -98.31,
          -99.2,
          -97.39,
          -99.21,
          -97.86,
          -99.02,
          -89.6,
          -99.18,
          -89.58,
          -99.54,
          -98.92,
          -99.09,
          -96.1,
          -99.1,
          -117,
          -99.26,
          -89.56,
          -87.07,
          -96.12,
          -93.18,
          -100.41,
          -103.26,
          -100.3,
          -98.19,
          -99.13,
          -101.27,
          -94.46,
          -100.37,
          -98.98,
          -96.09,
          -99.77,
          -99.22,
          -99.46,
          -102.55,
          -89.63,
          -89.56,
          -98.24,
          -96.12,
          -115.39,
          -89.56,
          -103.3,
          -105.27,
          -103.37,
          -97.85,
          -99.18,
          -100.45,
          -99.19,
          -99.24,
          -102.55,
          -99.96,
          -100.44,
          -98.93,
          -99.22,
          -102.55,
          -110.98,
          -100.2,
          -100.35,
          -98.29,
          -102.55,
          -89.59,
          -98.94,
          -89.63,
          -100.46,
          -89.56,
          -98.94,
          -100.44,
          -97.85,
          -103.43,
          -100.42,
          -100.97,
          -89.56,
          -100.39,
          -96.94,
          -99.21,
          -98.88,
          -89.59,
          -97.84,
          -97.9,
          -103.67,
          -101.42,
          -102.55,
          -98.76,
          -89.61,
          -99.16,
          -104.64,
          -103.43,
          -100.39,
          -99.22,
          -99.6,
          -89.52,
          -97.41,
          -99.05,
          -110.94,
          -107.38,
          -99.12,
          -89.66,
          -98.14,
          -89.59,
          -98.93,
          -99.08,
          -102.55,
          -93.13,
          -105.27,
          -98.21,
          -86.82,
          -99.92,
          -92.92,
          -99.23,
          -103.46,
          -86.85,
          -89.62,
          -89.66,
          -99.23,
          -100.33,
          -106.39,
          -102.55,
          -98.98,
          -99.21,
          -103.48,
          -103.44,
          -99.2,
          -106.09,
          -100.54,
          -97.82,
          -93.11,
          -100.41,
          -100.96,
          -98.93,
          -98.28,
          -99.27,
          -99.25,
          -99.23,
          -99.1,
          -103.32,
          -115.42,
          -100.9,
          -98.25,
          -100.39,
          -99.2,
          -97.88,
          -93.18,
          -99.64,
          -97.42,
          -89.6,
          -99.09,
          -99.18,
          -103.5,
          -99.25,
          -99.9,
          -100.18,
          -106.4,
          -99.25,
          -99.22,
          -99.12,
          -100.27,
          -100.43,
          -100.26,
          -89.68,
          -92.13,
          -99.6,
          -100.44,
          -102.34,
          -103.24,
          -98.27,
          -99.06,
          -86.82,
          -98.25,
          -99.2,
          -100.35,
          -100.4,
          -89.57,
          -99.07,
          -99.24,
          -97.86,
          -100.33,
          -100.36,
          -103.4,
          -102.55,
          -98.23,
          -98.26,
          -98.78,
          -105.29,
          -89.61,
          -98.74,
          -103.36,
          -89.6,
          -100.34,
          -102.34,
          -116.96,
          -97.88,
          -101.15,
          -98.65,
          -99.03,
          -89.56,
          -99.22,
          -98.2,
          -117.02,
          -101.03,
          -103.43,
          -115.98,
          -99.25,
          -100.33,
          -102.55,
          -99.19,
          -89.52,
          -97.87,
          -98.27,
          -99.6,
          -106.42,
          -106.12,
          -89.6,
          -99.94,
          -110.33,
          -99.59,
          -89.58,
          -99.27,
          -99.27,
          -101.55,
          -99.64,
          -86.85,
          -103.32,
          -97.41,
          -100.9,
          -89.54,
          -99.15,
          -98.44,
          -92.97,
          -99.3,
          -110.31,
          -86.85,
          -99.24,
          -98.93,
          -103.45,
          -103.34,
          -106.07,
          -98.24,
          -100.44,
          -99.23,
          -98.97,
          -99.99,
          -100.93,
          -99.27,
          -100.4,
          -101.04,
          -100.44,
          -99.14,
          -100.44,
          -98.33,
          -100.99,
          -115.36,
          -98.21,
          -100.32,
          -98.3,
          -99.04,
          -99.16,
          -98.26,
          -102.55,
          -100.47,
          -98.1,
          -100.28,
          -96.12,
          -100.96,
          -101.61,
          -98.96,
          -99.15,
          -99.56,
          -98.43,
          -89.52,
          -99.57,
          -99.67,
          -103.37,
          -89.62,
          -86.82,
          -101.29,
          -101.23,
          -101.62,
          -100.28,
          -97.4,
          -99.24,
          -96.12,
          -89.56,
          -100.99,
          -117.03,
          -98.87,
          -100.39,
          -93.09,
          -103.37,
          -99.18,
          -99.14,
          -99.21,
          -99.05,
          -98.94,
          -102.55,
          -86.87,
          -95.76,
          -101.05,
          -102.55,
          -98.87,
          -96.89,
          -99.21,
          -99.21,
          -99.25,
          -99.02,
          -98.27,
          -99.21,
          -99.21,
          -103.43,
          -98.22,
          -99.69,
          -101.34,
          -101.19,
          -89.63,
          -103.43,
          -101.19,
          -98.29,
          -100.33,
          -89.64,
          -106.04,
          -100.46,
          -100.47,
          -95.76,
          -99.14,
          -99.02,
          -106.11,
          -102.55,
          -103.47,
          -96.17,
          -97.41,
          -100.19,
          -89.56,
          -100.41,
          -96.11,
          -99.13,
          -98.97,
          -100.36,
          -99.21,
          -100.42,
          -93.08,
          -98.93,
          -93.08,
          -100.39,
          -99.18,
          -98.98,
          -100.39,
          -86.85,
          -99.23,
          -100.97,
          -100.44,
          -99.14,
          -103.74,
          -100.4,
          -100.29,
          -98.95,
          -99.11,
          -99.18,
          -100.45,
          -96.07,
          -103.46,
          -101.18,
          -89.62,
          -101.22,
          -99.26,
          -106.13,
          -103.47,
          -96.11,
          -99.25,
          -98.74,
          -115.47,
          -93.11,
          -89.56,
          -97,
          -96.11,
          -99.24,
          -101,
          -110.99,
          -98.33,
          -99.1,
          -98.94,
          -100.27,
          -100.44,
          -99.27,
          -99.23,
          -98.2,
          -99.6,
          -89.56,
          -99.22,
          -92.94,
          -89.58,
          -89.58,
          -98.93,
          -99.07,
          -100.44,
          -107.37,
          -89.64,
          -99.24,
          -99.26,
          -99.16,
          -100.4,
          -89.63,
          -93.12,
          -106.1,
          -100.37,
          -99.21,
          -99.89,
          -89.57,
          -99.24,
          -100.41,
          -103.43,
          -106.43,
          -99.26,
          -99.2,
          -98.37,
          -98.94,
          -99.71,
          -99.15,
          -101.21,
          -99.85,
          -99.21,
          -100.39,
          -99.23,
          -99.19,
          -99.21,
          -100.4,
          -91.77,
          -96.07,
          -97.84,
          -99.19,
          -100.96,
          -96.92,
          -99.06,
          -98.23,
          -104.89,
          -101.03,
          -99.25,
          -99.19,
          -106.38,
          -89.57,
          -94.46,
          -98.23,
          -103.39,
          -89.56,
          -100.44,
          -99.6,
          -105.21,
          -102.55,
          -100.39,
          -96.11,
          -94.48,
          -99.26,
          -99.22,
          -101.18,
          -103.74,
          -117.03,
          -99.24,
          -99.2,
          -99.21,
          -100.41,
          -99.22,
          -100.27,
          -93.16,
          -102.55,
          -99.61,
          -99.85,
          -99.16,
          -99.14,
          -97.91,
          -104.65,
          -103.44,
          -96.89,
          -100.38,
          -100.93,
          -99.22,
          -96.11,
          -99.21,
          -93.18,
          -98.95,
          -90.53,
          -100.37,
          -99.35,
          -103.31,
          -101.68,
          -89.6,
          -99.22,
          -100.39,
          -89.6,
          -99.22,
          -100.34,
          -99.27,
          -99.24,
          -100.36,
          -94.44,
          -99.12,
          -99.13,
          -99.24,
          -99.13,
          -100.44,
          -100.44,
          -100.35,
          -93.15,
          -99.27,
          -100.35,
          -102.55,
          -99.6,
          -89.66,
          -98.33,
          -92.95,
          -98.33,
          -99.2,
          -103.69,
          -100.26,
          -110.31,
          -116.88,
          -100.44,
          -99.24,
          -89.55,
          -98.96,
          -99.22,
          -100.33,
          -93.1,
          -99.13,
          -99.22,
          -100.39,
          -100.38,
          -86.84,
          -99.89,
          -96.91,
          -97.88,
          -99.27,
          -101.2,
          -99.25,
          -99.69,
          -99.23,
          -110.94,
          -101.25,
          -100.24,
          -110.32,
          -99.19,
          -99.26,
          -106.04,
          -89.69,
          -99.05,
          -100.38,
          -89.6,
          -99.27,
          -100.38,
          -117.02,
          -103.38,
          -99.06,
          -99.88,
          -99.06,
          -100.35,
          -103.84,
          -100.32,
          -98.93,
          -100.45,
          -99.05,
          -98.28,
          -100.21,
          -100.36,
          -98.32,
          -86.85,
          -99.55,
          -106.43,
          -103.73,
          -100.23,
          -99.24,
          -89.6,
          -102.55,
          -99.25,
          -99.2,
          -99.06,
          -100.34,
          -100.87,
          -99.25,
          -89.61,
          -97.84,
          -100.43,
          -100.99,
          -89.61,
          -97.89,
          -99.2,
          -96.06,
          -99.22,
          -99.19,
          -99.23,
          -100.32,
          -99.45,
          -99.25,
          -100.42,
          -100.41,
          -116.88,
          -99.11,
          -89.56,
          -103.19,
          -99.97,
          -98.96,
          -101.19,
          -97.88,
          -97.89,
          -99.2,
          -103.39,
          -100.37,
          -98.29,
          -102.32,
          -90.54,
          -99.26,
          -99.13,
          -106.09,
          -98.23,
          -102.55,
          -99.04,
          -93.12,
          -97.39,
          -101.01,
          -99.26,
          -86.88,
          -100.44,
          -89.25,
          -89.66,
          -97.36,
          -100.23,
          -99.01,
          -101.04,
          -89.61,
          -99.58,
          -100.48,
          -98.97,
          -89.66,
          -97.88,
          -103.48,
          -98.21,
          -101.17,
          -103.38,
          -101.04,
          -99.68,
          -100.43,
          -101.71,
          -100.41,
          -96.94,
          -103.39,
          -102.55,
          -97.86,
          -99.91,
          -96.11,
          -99.98,
          -86.83,
          -116.82,
          -100.46,
          -98.25,
          -99.22,
          -99.57,
          -89.62,
          -99.1,
          -103.68,
          -99.25,
          -89.65,
          -99.22,
          -107.44,
          -99.24,
          -100.45,
          -99.04,
          -106.09,
          -100.75,
          -102.55,
          -100.35,
          -101,
          -89.65,
          -99.55,
          -86.86,
          -99.09,
          -89.64,
          -102.19,
          -100.23,
          -99.6,
          -104.62,
          -99.03,
          -99.05,
          -100.37,
          -105.2,
          -106.42,
          -99.1,
          -109.96,
          -100.46,
          -106.07,
          -97.89,
          -99.22,
          -99.25,
          -100.39,
          -101.18,
          -99.22,
          -99.62,
          -99.8,
          -89.56,
          -92.96,
          -98.74,
          -97.39,
          -102.55,
          -107.46,
          -99.23,
          -103.39,
          -103.48,
          -99.18,
          -89.65,
          -101.03,
          -99.56
         ],
         "marker": {
          "color": "#636efa"
         },
         "mode": "markers",
         "name": "house",
         "showlegend": true,
         "subplot": "mapbox",
         "type": "scattermapbox"
        },
        {
         "customdata": [
          [
           84298.37
          ],
          [
           94308.8
          ],
          [
           157269.15
          ],
          [
           131716.2
          ],
          [
           203167.1
          ],
          [
           173570.3
          ],
          [
           131716.2
          ],
          [
           67175.26
          ],
          [
           104846.1
          ],
          [
           84845.35
          ],
          [
           120125.18
          ],
          [
           97598.5
          ],
          [
           86300.46
          ],
          [
           44794.13
          ],
          [
           40841.7
          ],
          [
           192087.77
          ],
          [
           237089.17
          ],
          [
           43887.84
          ],
          [
           81630.71
          ],
          [
           35563.37
          ],
          [
           118386.52
          ],
          [
           142253.5
          ],
          [
           189716.32
          ],
          [
           137017.34
          ],
          [
           78502.86
          ],
          [
           88270.78
          ],
          [
           82875.83
          ],
          [
           197100.13
          ],
          [
           34599.16
          ],
          [
           160866.42
          ],
          [
           104870.96
          ],
          [
           102211.77
          ],
          [
           79029.72
          ],
          [
           120652.04
          ],
          [
           236144.12
          ],
          [
           84318.36
          ],
          [
           73234.21
          ],
          [
           90115.25
          ],
          [
           114487.72
          ],
          [
           217911.29
          ],
          [
           42676.05
          ],
          [
           68508.67
          ],
          [
           46890.97
          ],
          [
           106848.18
          ],
          [
           93255.07
          ],
          [
           64281.19
          ],
          [
           37386.32
          ],
          [
           50064.02
          ],
          [
           56514.99
          ],
          [
           270872.74
          ],
          [
           62448.28
          ],
          [
           326656.19
          ],
          [
           173986.78
          ],
          [
           139652.29
          ],
          [
           57955.13
          ],
          [
           36269.27
          ],
          [
           274034.68
          ],
          [
           312957.71
          ],
          [
           34077.61
          ],
          [
           103606.19
          ],
          [
           263494.89
          ],
          [
           209902.95
          ],
          [
           284507.01
          ],
          [
           156958.3
          ],
          [
           109587.88
          ],
          [
           52698.97
          ],
          [
           109387.67
          ],
          [
           104497.22
          ],
          [
           93465.82
          ],
          [
           166001.78
          ],
          [
           210745.93
          ],
          [
           75375.18
          ],
          [
           157479.9
          ],
          [
           39260.73
          ],
          [
           43202.91
          ],
          [
           135085.08
          ],
          [
           53740.21
          ],
          [
           273969.71
          ],
          [
           66911.83
          ],
          [
           121355.2
          ],
          [
           74920.17
          ],
          [
           131716.2
          ],
          [
           40645.77
          ],
          [
           178080.31
          ],
          [
           179134.04
          ],
          [
           174140.42
          ],
          [
           183989.52
          ],
          [
           179134.04
          ],
          [
           209692.2
          ],
          [
           180187.77
          ],
          [
           284047.49
          ],
          [
           55333.92
          ],
          [
           43213.16
          ],
          [
           40041.72
          ],
          [
           250320.14
          ],
          [
           57968.87
          ],
          [
           147557.13
          ],
          [
           101196.61
          ],
          [
           224660.17
          ],
          [
           316118.9
          ],
          [
           279238.36
          ],
          [
           139619.18
          ],
          [
           80635.87
          ],
          [
           50064.02
          ],
          [
           208160.96
          ],
          [
           57422.47
          ],
          [
           39946.36
          ],
          [
           83771.5
          ],
          [
           210743.21
          ],
          [
           51393.55
          ],
          [
           99577.45
          ],
          [
           176979.24
          ],
          [
           84318.36
          ],
          [
           40568.59
          ],
          [
           84318.36
          ],
          [
           218648.9
          ],
          [
           128098.38
          ],
          [
           43202.91
          ],
          [
           131768.89
          ],
          [
           42676.05
          ],
          [
           236091.42
          ],
          [
           76395.4
          ],
          [
           237145.4
          ],
          [
           123813.23
          ],
          [
           177695.7
          ],
          [
           113302.8
          ],
          [
           269754.79
          ],
          [
           40568.59
          ],
          [
           94858.16
          ],
          [
           121178.91
          ],
          [
           68070.93
          ],
          [
           147522.15
          ],
          [
           161826.53
          ],
          [
           102738.64
          ],
          [
           112402.96
          ],
          [
           197146.87
          ],
          [
           183989.47
          ],
          [
           77572.89
          ],
          [
           68421.05
          ],
          [
           65789.47
          ],
          [
           39904.74
          ],
          [
           157368.42
          ],
          [
           88947.37
          ],
          [
           184210.53
          ],
          [
           105263.16
          ],
          [
           65789.47
          ],
          [
           35841.58
          ],
          [
           130842.11
          ],
          [
           46280.68
          ],
          [
           184210.53
          ],
          [
           57894.74
          ],
          [
           121052.63
          ],
          [
           88947.37
          ],
          [
           47105.26
          ],
          [
           279193.58
          ],
          [
           236842.11
          ],
          [
           78189.47
          ],
          [
           289421.05
          ],
          [
           166315.79
          ],
          [
           100000
          ],
          [
           51578.95
          ],
          [
           77368.42
          ],
          [
           233473.68
          ],
          [
           97368.42
          ],
          [
           229400
          ],
          [
           97368.42
          ],
          [
           57894.74
          ],
          [
           90014.95
          ],
          [
           176315.79
          ],
          [
           53684.21
          ],
          [
           236842.11
          ],
          [
           209311.05
          ],
          [
           52631.58
          ],
          [
           160263.16
          ],
          [
           36263.16
          ],
          [
           205578.95
          ],
          [
           53102.79
          ],
          [
           57894.74
          ],
          [
           47631.58
          ],
          [
           166863.16
          ],
          [
           173421.05
          ],
          [
           94736.84
          ],
          [
           200000
          ],
          [
           225263.16
          ],
          [
           147368.42
          ],
          [
           106736.84
          ],
          [
           116403.58
          ],
          [
           236842.11
          ],
          [
           77894.74
          ],
          [
           157489.47
          ],
          [
           305263.16
          ],
          [
           44736.84
          ],
          [
           104210.53
          ],
          [
           97678.95
          ],
          [
           48000
          ],
          [
           39473.68
          ],
          [
           147368.42
          ],
          [
           165789.47
          ],
          [
           46973.68
          ],
          [
           244736.84
          ],
          [
           92105.26
          ],
          [
           46789.47
          ],
          [
           36421.05
          ],
          [
           207894.74
          ],
          [
           148739.68
          ],
          [
           157894.74
          ],
          [
           97368.42
          ],
          [
           68157.89
          ],
          [
           115789.47
          ],
          [
           115789.47
          ],
          [
           71052.63
          ],
          [
           142105.26
          ],
          [
           52428.26
          ],
          [
           307127.16
          ],
          [
           101315.79
          ],
          [
           78947.37
          ],
          [
           49473.68
          ],
          [
           89421.05
          ],
          [
           175368.42
          ],
          [
           110526.32
          ],
          [
           93368.42
          ],
          [
           72631.58
          ],
          [
           152631.58
          ],
          [
           121052.63
          ],
          [
           139473.68
          ],
          [
           150000
          ],
          [
           91052.63
          ],
          [
           36000
          ],
          [
           43684.21
          ],
          [
           61242.11
          ],
          [
           120000
          ],
          [
           274592.89
          ],
          [
           241060.53
          ],
          [
           36092.11
          ],
          [
           52631.58
          ],
          [
           152631.58
          ],
          [
           78947.37
          ],
          [
           65789.47
          ],
          [
           273684.21
          ],
          [
           45789.47
          ],
          [
           126296.53
          ],
          [
           192105.26
          ],
          [
           56571.16
          ],
          [
           263157.89
          ],
          [
           244736.84
          ],
          [
           225263.16
          ],
          [
           68421.05
          ],
          [
           289473.68
          ],
          [
           106736.84
          ],
          [
           40593.79
          ],
          [
           238684.21
          ],
          [
           86842.11
          ],
          [
           194736.84
          ],
          [
           66842.11
          ],
          [
           178447.37
          ],
          [
           79342.11
          ],
          [
           91052.63
          ],
          [
           231578.95
          ],
          [
           105263.16
          ],
          [
           176327.37
          ],
          [
           42105.26
          ],
          [
           104013.16
          ],
          [
           48550.59
          ],
          [
           68508.67
          ],
          [
           50052.15
          ],
          [
           51076.22
          ],
          [
           34246.21
          ],
          [
           100104.31
          ],
          [
           237145.4
          ],
          [
           65633.66
          ],
          [
           79443.7
          ],
          [
           50942.31
          ],
          [
           189716.32
          ],
          [
           273969.71
          ],
          [
           56689.55
          ],
          [
           144922.18
          ],
          [
           68245.17
          ],
          [
           103370.88
          ],
          [
           79029.72
          ],
          [
           81683.41
          ],
          [
           53158.13
          ],
          [
           100128.05
          ],
          [
           173490.81
          ],
          [
           210745.93
          ],
          [
           153686.47
          ],
          [
           131747.44
          ],
          [
           36817.31
          ],
          [
           35826.8
          ],
          [
           52574.87
          ],
          [
           89430.16
          ],
          [
           177267.41
          ],
          [
           79029.72
          ],
          [
           184446.42
          ],
          [
           137017.34
          ],
          [
           149629.61
          ],
          [
           222924.2
          ],
          [
           121207.64
          ],
          [
           93781.94
          ],
          [
           55847.67
          ],
          [
           46943.65
          ],
          [
           101182.03
          ],
          [
           163366.83
          ],
          [
           147522.15
          ],
          [
           57428.26
          ],
          [
           34254.33
          ],
          [
           140741.38
          ],
          [
           173865.39
          ],
          [
           171231.07
          ],
          [
           41680.96
          ],
          [
           36817.31
          ],
          [
           237145.4
          ],
          [
           84298.37
          ],
          [
           105397.95
          ],
          [
           153686.47
          ],
          [
           154987.69
          ],
          [
           113302.8
          ],
          [
           107322.36
          ],
          [
           93856.88
          ],
          [
           41095.45
          ],
          [
           92750.2
          ],
          [
           313695.32
          ],
          [
           49051.11
          ],
          [
           121178.91
          ],
          [
           226551.88
          ],
          [
           44794.13
          ],
          [
           59426.13
          ],
          [
           91411.04
          ],
          [
           157917.19
          ],
          [
           81664.04
          ],
          [
           187081.37
          ],
          [
           66911.83
          ],
          [
           40645.77
          ],
          [
           171231.07
          ],
          [
           38812.39
          ],
          [
           106110.57
          ],
          [
           34421.81
          ],
          [
           48471.56
          ],
          [
           79048.46
          ],
          [
           79029.72
          ],
          [
           36882.11
          ],
          [
           59711.33
          ],
          [
           73234.21
          ],
          [
           85899.33
          ],
          [
           34245.11
          ],
          [
           76740.25
          ],
          [
           131400.09
          ],
          [
           142253.5
          ],
          [
           215482.45
          ],
          [
           38461.13
          ],
          [
           39146.05
          ],
          [
           51118
          ],
          [
           84298.37
          ],
          [
           262378.68
          ],
          [
           115437.11
          ],
          [
           175924.99
          ],
          [
           53158.18
          ],
          [
           76395.4
          ],
          [
           34983.82
          ],
          [
           77467.49
          ],
          [
           49273.54
          ],
          [
           94835.67
          ],
          [
           143868.21
          ],
          [
           135225.12
          ],
          [
           123813.23
          ],
          [
           50591.01
          ],
          [
           115910.26
          ],
          [
           100104.31
          ],
          [
           289775.66
          ],
          [
           44048.85
          ],
          [
           154898.26
          ],
          [
           177695.7
          ],
          [
           84318.36
          ],
          [
           137017.34
          ],
          [
           90620.75
          ],
          [
           35890.24
          ],
          [
           150830.86
          ],
          [
           53832.41
          ],
          [
           76413.51
          ],
          [
           71653.61
          ],
          [
           131716.2
          ],
          [
           46364.1
          ],
          [
           115814.11
          ],
          [
           54235.15
          ],
          [
           115910.26
          ],
          [
           91169.23
          ],
          [
           44178.77
          ],
          [
           57884.47
          ],
          [
           44794.13
          ],
          [
           84313.09
          ],
          [
           85878.96
          ],
          [
           67438.69
          ],
          [
           62696.91
          ],
          [
           80015.91
          ],
          [
           85668.22
          ],
          [
           52686.48
          ],
          [
           163064.66
          ],
          [
           289775.66
          ],
          [
           159320.71
          ],
          [
           92201.34
          ],
          [
           43729.78
          ],
          [
           84845.35
          ],
          [
           43202.91
          ],
          [
           65120.49
          ],
          [
           71653.61
          ],
          [
           105372.96
          ],
          [
           36260.68
          ],
          [
           121863.83
          ]
         ],
         "hovertemplate": "property_type=apartment<br>lat=%{lat}<br>lon=%{lon}<br>price_usd=%{customdata[0]}<extra></extra>",
         "lat": [
          16.77,
          16.83,
          16.78,
          19.39,
          21.34,
          19.02,
          19.4,
          19.43,
          19.43,
          21.03,
          19.39,
          19.03,
          19.35,
          19.41,
          18.99,
          21.03,
          19.34,
          22.22,
          21.03,
          19.35,
          19.37,
          19.38,
          19.38,
          19.38,
          19.4,
          22.14,
          20.65,
          19.38,
          19.56,
          25.65,
          16.86,
          20.71,
          19.43,
          19.37,
          21.29,
          19.05,
          19.45,
          19.34,
          16.83,
          19.4,
          19.45,
          21.16,
          19.49,
          19.37,
          19.36,
          19.37,
          19.35,
          19.14,
          19.38,
          19.38,
          19.19,
          19.53,
          19,
          19.37,
          18.92,
          19.45,
          19.4,
          19.39,
          19.38,
          19.02,
          19.41,
          19.4,
          19.37,
          19.34,
          19.04,
          18.96,
          19.37,
          25.73,
          19.37,
          19.04,
          19.36,
          19.47,
          20.68,
          16.88,
          16.75,
          19.43,
          22.13,
          19.4,
          19.45,
          19.46,
          19.34,
          20.61,
          19.27,
          20.72,
          19.01,
          19.38,
          19.4,
          19.33,
          19.39,
          19.37,
          19.4,
          25.65,
          24.01,
          19.47,
          20.65,
          17.97,
          19.35,
          19.4,
          19.41,
          20.59,
          19.13,
          21.03,
          19.47,
          19.47,
          25.65,
          19.42,
          19.4,
          21.02,
          21.34,
          19.49,
          16.8,
          18.97,
          21.14,
          23.26,
          19.36,
          19.43,
          19.37,
          16.75,
          19.43,
          19.45,
          19.38,
          19.48,
          23.63,
          18.97,
          19.3,
          19.39,
          23.3,
          19.36,
          19.39,
          21.15,
          19.4,
          19.34,
          19.37,
          19.46,
          19.5,
          19.38,
          19.4,
          19.31,
          25.72,
          19.27,
          19.39,
          19.33,
          20.64,
          19.37,
          16.85,
          19.54,
          19.47,
          19.27,
          19.44,
          21.07,
          18.92,
          16.85,
          19.05,
          21.02,
          19.39,
          19.44,
          19.38,
          19.42,
          21.16,
          16.86,
          16.87,
          20.69,
          19.38,
          19.03,
          19.39,
          19.57,
          19.14,
          19.44,
          21.02,
          22.13,
          20.68,
          19.4,
          19.45,
          20.58,
          32.44,
          21.05,
          19.4,
          18.96,
          19.31,
          19.38,
          19.28,
          18.93,
          25.65,
          19.41,
          19.26,
          19.38,
          19.4,
          19.35,
          19.38,
          19.39,
          19.4,
          16.86,
          25.58,
          19.34,
          19.29,
          18.92,
          21.15,
          19.37,
          19.05,
          19.34,
          19.1,
          21.06,
          19.42,
          16.79,
          21.04,
          23.63,
          16.83,
          19.36,
          20.73,
          19.06,
          19.47,
          19.37,
          19.3,
          16.79,
          19.02,
          19.48,
          18.89,
          22.14,
          19.4,
          16.86,
          19.4,
          22.13,
          19.13,
          19.34,
          19.36,
          19.32,
          19.4,
          19.47,
          16.75,
          19.4,
          19.4,
          20.69,
          19.4,
          32.45,
          19.49,
          19.35,
          23.63,
          19.37,
          19.4,
          19.48,
          21.04,
          16.87,
          19.37,
          19.39,
          19.31,
          19.41,
          16.85,
          19.41,
          19.38,
          19.28,
          19.44,
          19.3,
          20.95,
          19.45,
          19.38,
          19.39,
          19.4,
          20.73,
          23.63,
          19.38,
          24.16,
          21.07,
          19.53,
          19.51,
          19.44,
          19.4,
          19.52,
          19.39,
          16.86,
          19.4,
          19.38,
          19.39,
          21.14,
          19.41,
          19.43,
          19.53,
          15.75,
          19.3,
          16.87,
          19.05,
          19.4,
          22.13,
          25.59,
          18,
          19.51,
          18.94,
          32.49,
          17.93,
          19.34,
          19.37,
          19.43,
          19.46,
          19.07,
          18.95,
          19.37,
          19.39,
          18.98,
          20.7,
          18.99,
          19.35,
          18.94,
          21.17,
          19.34,
          20.6,
          21.18,
          25.67,
          23.3,
          19.52,
          19.44,
          32.49,
          20.71,
          19.1,
          19.48,
          19.51,
          19.39,
          20.59,
          19.31,
          20.73,
          19.42,
          22.15,
          19.43,
          19.45,
          19.33,
          19.38,
          20.54,
          19.45,
          19.38,
          16.86,
          16.85,
          19.34,
          19.45,
          19.28,
          19.03,
          19.49,
          25.67,
          19.45,
          16.87,
          21.03,
          19.45,
          19.31,
          19.37,
          22.14,
          19.4,
          19.63,
          19.4,
          19.27,
          19.4,
          19.38,
          19.65,
          19.61,
          17.06,
          19.37,
          25.66,
          20.63,
          25.65,
          19.4,
          19.48,
          19.52,
          21.03,
          19.33,
          23.63,
          22.13,
          19.3,
          19.38,
          19.45,
          19.37,
          19.38,
          19.41,
          19.41,
          19.37,
          19.3,
          19.57,
          19.44,
          22.14,
          19.41,
          19.36,
          19.45,
          19.12,
          19.39,
          19.46,
          16.75,
          21.04,
          19.4,
          19.34,
          21.01,
          19.38,
          19.08,
          21.06,
          23.63,
          22.29,
          19.4,
          21.03,
          21.15,
          19.38,
          16.75,
          19.45,
          19.39,
          19.29,
          19.06,
          18.96,
          19.39,
          19.61,
          19.44,
          19.39,
          19.38,
          19.5,
          19.31
         ],
         "legendgroup": "apartment",
         "lon": [
          -99.76,
          -99.91,
          -99.79,
          -99.16,
          -89.32,
          -98.19,
          -99.16,
          -99.11,
          -99.17,
          -89.6,
          -99.15,
          -98.21,
          -99.25,
          -99.15,
          -98.21,
          -89.63,
          -99.22,
          -97.85,
          -89.62,
          -99.16,
          -99.14,
          -99.16,
          -99.18,
          -99.16,
          -99.18,
          -101.03,
          -103.45,
          -99.18,
          -99.23,
          -100.41,
          -99.91,
          -100.45,
          -99.11,
          -99.17,
          -89.6,
          -98.25,
          -99.18,
          -99.05,
          -99.91,
          -99.17,
          -99.14,
          -86.85,
          -99.21,
          -99.16,
          -99.16,
          -99.22,
          -99.09,
          -96.11,
          -99.19,
          -99.17,
          -96.13,
          -99.25,
          -98.27,
          -99.15,
          -99.22,
          -99.12,
          -99.16,
          -99.17,
          -99.14,
          -98.22,
          -99.17,
          -99.18,
          -99.16,
          -99.22,
          -98.22,
          -99.26,
          -99.3,
          -100.4,
          -99.14,
          -98.3,
          -99.27,
          -99.16,
          -103.43,
          -99.88,
          -93.07,
          -99.18,
          -100.98,
          -99.18,
          -99.17,
          -99.16,
          -99.24,
          -100.37,
          -99.21,
          -103.42,
          -98.25,
          -99.16,
          -99.15,
          -99.24,
          -99.17,
          -99.26,
          -99.29,
          -100.3,
          -104.61,
          -99.19,
          -100.38,
          -92.96,
          -99.29,
          -99.28,
          -99.16,
          -100.39,
          -96.11,
          -89.61,
          -99.18,
          -99.19,
          -100.34,
          -99.27,
          -99.13,
          -89.57,
          -89.26,
          -99.18,
          -99.82,
          -98.28,
          -86.77,
          -106.46,
          -99.15,
          -99.2,
          -99.29,
          -93.15,
          -99.18,
          -99.14,
          -99.29,
          -99.2,
          -102.55,
          -99.24,
          -99.11,
          -99.17,
          -106.48,
          -99.18,
          -99.19,
          -86.83,
          -99.13,
          -99.22,
          -99.17,
          -99.13,
          -99.11,
          -99.18,
          -99.15,
          -99.17,
          -100.35,
          -99.57,
          -99.13,
          -99.14,
          -103.42,
          -99.19,
          -99.84,
          -99.24,
          -99.09,
          -99.15,
          -99.14,
          -89.66,
          -99.24,
          -99.82,
          -98.28,
          -89.59,
          -99.18,
          -99.15,
          -99.19,
          -99.17,
          -86.82,
          -99.87,
          -99.88,
          -103.45,
          -99.17,
          -98.31,
          -99.18,
          -99.26,
          -96.11,
          -99.17,
          -89.71,
          -100.99,
          -103.4,
          -99.18,
          -99.18,
          -100.37,
          -116.98,
          -86.85,
          -99.15,
          -99.27,
          -99.12,
          -99.29,
          -99.17,
          -99.25,
          -100.36,
          -99.16,
          -99.16,
          -99.19,
          -99.15,
          -99.17,
          -99.14,
          -99.15,
          -99.28,
          -99.88,
          -100.24,
          -99.17,
          -99.67,
          -99.22,
          -86.87,
          -99.17,
          -98.25,
          -99.22,
          -96.11,
          -89.61,
          -99.15,
          -99.83,
          -89.59,
          -102.55,
          -99.86,
          -99.15,
          -100.44,
          -98.24,
          -99.19,
          -99.3,
          -99.24,
          -99.83,
          -98.21,
          -99.19,
          -99.22,
          -101.04,
          -99.14,
          -99.86,
          -99.15,
          -100.98,
          -96.11,
          -99.21,
          -99.29,
          -99.14,
          -99.15,
          -99.08,
          -99.76,
          -99.2,
          -99.15,
          -103.39,
          -99.16,
          -116.97,
          -99.11,
          -99.29,
          -102.55,
          -99.23,
          -99.18,
          -99.18,
          -89.56,
          -99.87,
          -99.13,
          -99.16,
          -99.14,
          -99.16,
          -99.82,
          -99.18,
          -99.19,
          -99.21,
          -99.2,
          -99.14,
          -97.36,
          -99.17,
          -99.19,
          -99.19,
          -99.15,
          -100.44,
          -102.55,
          -99.16,
          -110.31,
          -89.66,
          -99.15,
          -96.87,
          -99.14,
          -99.13,
          -99.16,
          -99.22,
          -99.88,
          -99.15,
          -99.19,
          -99.2,
          -86.85,
          -99.17,
          -99.15,
          -99.24,
          -96.14,
          -99.23,
          -99.89,
          -98.23,
          -99.15,
          -101.04,
          -100,
          -92.92,
          -99.25,
          -99.25,
          -117.05,
          -92.91,
          -99.05,
          -99.18,
          -99.16,
          -99.14,
          -98.27,
          -99.23,
          -99.18,
          -99.15,
          -98.29,
          -100.45,
          -98.25,
          -99.19,
          -99.23,
          -86.84,
          -99.22,
          -100.34,
          -86.81,
          -100.35,
          -106.48,
          -99.23,
          -99.19,
          -117.05,
          -103.4,
          -96.11,
          -99.24,
          -99.25,
          -99.15,
          -100.38,
          -99.13,
          -100.44,
          -99.15,
          -101,
          -99.26,
          -99.15,
          -99.24,
          -99.29,
          -100.44,
          -99.14,
          -99.19,
          -99.86,
          -99.85,
          -99.15,
          -99.17,
          -99.21,
          -98.26,
          -99.2,
          -100.37,
          -99.12,
          -99.87,
          -89.59,
          -99.14,
          -99.13,
          -99.29,
          -101.03,
          -99.15,
          -99.09,
          -99.18,
          -99.15,
          -99.14,
          -99.15,
          -99.2,
          -99.23,
          -96.75,
          -99.13,
          -100.34,
          -87.08,
          -100.34,
          -99.15,
          -99.2,
          -99.14,
          -89.62,
          -99.12,
          -102.55,
          -101.02,
          -99.11,
          -99.15,
          -99.2,
          -99.11,
          -99.09,
          -99.17,
          -99.15,
          -99.19,
          -99.11,
          -99.26,
          -99.18,
          -101.04,
          -99.13,
          -99.15,
          -99.2,
          -96.11,
          -99.16,
          -99.13,
          -93.15,
          -89.56,
          -99.16,
          -99.14,
          -89.59,
          -99.14,
          -98.24,
          -89.61,
          -102.55,
          -97.87,
          -99.15,
          -89.6,
          -86.85,
          -99.19,
          -92.65,
          -99.16,
          -99.18,
          -99.15,
          -98.26,
          -99.21,
          -99.13,
          -99.19,
          -99.16,
          -99.19,
          -99.14,
          -99.2,
          -99.22
         ],
         "marker": {
          "color": "#EF553B"
         },
         "mode": "markers",
         "name": "apartment",
         "showlegend": true,
         "subplot": "mapbox",
         "type": "scattermapbox"
        }
       ],
       "layout": {
        "height": 600,
        "legend": {
         "title": {
          "text": "property_type"
         },
         "tracegroupgap": 0
        },
        "mapbox": {
         "center": {
          "lat": 19.43,
          "lon": -99.13
         },
         "domain": {
          "x": [
           0,
           1
          ],
          "y": [
           0,
           1
          ]
         },
         "style": "open-street-map",
         "zoom": 8
        },
        "margin": {
         "t": 60
        },
        "template": {
         "data": {
          "bar": [
           {
            "error_x": {
             "color": "#2a3f5f"
            },
            "error_y": {
             "color": "#2a3f5f"
            },
            "marker": {
             "line": {
              "color": "#E5ECF6",
              "width": 0.5
             },
             "pattern": {
              "fillmode": "overlay",
              "size": 10,
              "solidity": 0.2
             }
            },
            "type": "bar"
           }
          ],
          "barpolar": [
           {
            "marker": {
             "line": {
              "color": "#E5ECF6",
              "width": 0.5
             },
             "pattern": {
              "fillmode": "overlay",
              "size": 10,
              "solidity": 0.2
             }
            },
            "type": "barpolar"
           }
          ],
          "carpet": [
           {
            "aaxis": {
             "endlinecolor": "#2a3f5f",
             "gridcolor": "white",
             "linecolor": "white",
             "minorgridcolor": "white",
             "startlinecolor": "#2a3f5f"
            },
            "baxis": {
             "endlinecolor": "#2a3f5f",
             "gridcolor": "white",
             "linecolor": "white",
             "minorgridcolor": "white",
             "startlinecolor": "#2a3f5f"
            },
            "type": "carpet"
           }
          ],
          "choropleth": [
           {
            "colorbar": {
             "outlinewidth": 0,
             "ticks": ""
            },
            "type": "choropleth"
           }
          ],
          "contour": [
           {
            "colorbar": {
             "outlinewidth": 0,
             "ticks": ""
            },
            "colorscale": [
             [
              0,
              "#0d0887"
             ],
             [
              0.1111111111111111,
              "#46039f"
             ],
             [
              0.2222222222222222,
              "#7201a8"
             ],
             [
              0.3333333333333333,
              "#9c179e"
             ],
             [
              0.4444444444444444,
              "#bd3786"
             ],
             [
              0.5555555555555556,
              "#d8576b"
             ],
             [
              0.6666666666666666,
              "#ed7953"
             ],
             [
              0.7777777777777778,
              "#fb9f3a"
             ],
             [
              0.8888888888888888,
              "#fdca26"
             ],
             [
              1,
              "#f0f921"
             ]
            ],
            "type": "contour"
           }
          ],
          "contourcarpet": [
           {
            "colorbar": {
             "outlinewidth": 0,
             "ticks": ""
            },
            "type": "contourcarpet"
           }
          ],
          "heatmap": [
           {
            "colorbar": {
             "outlinewidth": 0,
             "ticks": ""
            },
            "colorscale": [
             [
              0,
              "#0d0887"
             ],
             [
              0.1111111111111111,
              "#46039f"
             ],
             [
              0.2222222222222222,
              "#7201a8"
             ],
             [
              0.3333333333333333,
              "#9c179e"
             ],
             [
              0.4444444444444444,
              "#bd3786"
             ],
             [
              0.5555555555555556,
              "#d8576b"
             ],
             [
              0.6666666666666666,
              "#ed7953"
             ],
             [
              0.7777777777777778,
              "#fb9f3a"
             ],
             [
              0.8888888888888888,
              "#fdca26"
             ],
             [
              1,
              "#f0f921"
             ]
            ],
            "type": "heatmap"
           }
          ],
          "heatmapgl": [
           {
            "colorbar": {
             "outlinewidth": 0,
             "ticks": ""
            },
            "colorscale": [
             [
              0,
              "#0d0887"
             ],
             [
              0.1111111111111111,
              "#46039f"
             ],
             [
              0.2222222222222222,
              "#7201a8"
             ],
             [
              0.3333333333333333,
              "#9c179e"
             ],
             [
              0.4444444444444444,
              "#bd3786"
             ],
             [
              0.5555555555555556,
              "#d8576b"
             ],
             [
              0.6666666666666666,
              "#ed7953"
             ],
             [
              0.7777777777777778,
              "#fb9f3a"
             ],
             [
              0.8888888888888888,
              "#fdca26"
             ],
             [
              1,
              "#f0f921"
             ]
            ],
            "type": "heatmapgl"
           }
          ],
          "histogram": [
           {
            "marker": {
             "pattern": {
              "fillmode": "overlay",
              "size": 10,
              "solidity": 0.2
             }
            },
            "type": "histogram"
           }
          ],
          "histogram2d": [
           {
            "colorbar": {
             "outlinewidth": 0,
             "ticks": ""
            },
            "colorscale": [
             [
              0,
              "#0d0887"
             ],
             [
              0.1111111111111111,
              "#46039f"
             ],
             [
              0.2222222222222222,
              "#7201a8"
             ],
             [
              0.3333333333333333,
              "#9c179e"
             ],
             [
              0.4444444444444444,
              "#bd3786"
             ],
             [
              0.5555555555555556,
              "#d8576b"
             ],
             [
              0.6666666666666666,
              "#ed7953"
             ],
             [
              0.7777777777777778,
              "#fb9f3a"
             ],
             [
              0.8888888888888888,
              "#fdca26"
             ],
             [
              1,
              "#f0f921"
             ]
            ],
            "type": "histogram2d"
           }
          ],
          "histogram2dcontour": [
           {
            "colorbar": {
             "outlinewidth": 0,
             "ticks": ""
            },
            "colorscale": [
             [
              0,
              "#0d0887"
             ],
             [
              0.1111111111111111,
              "#46039f"
             ],
             [
              0.2222222222222222,
              "#7201a8"
             ],
             [
              0.3333333333333333,
              "#9c179e"
             ],
             [
              0.4444444444444444,
              "#bd3786"
             ],
             [
              0.5555555555555556,
              "#d8576b"
             ],
             [
              0.6666666666666666,
              "#ed7953"
             ],
             [
              0.7777777777777778,
              "#fb9f3a"
             ],
             [
              0.8888888888888888,
              "#fdca26"
             ],
             [
              1,
              "#f0f921"
             ]
            ],
            "type": "histogram2dcontour"
           }
          ],
          "mesh3d": [
           {
            "colorbar": {
             "outlinewidth": 0,
             "ticks": ""
            },
            "type": "mesh3d"
           }
          ],
          "parcoords": [
           {
            "line": {
             "colorbar": {
              "outlinewidth": 0,
              "ticks": ""
             }
            },
            "type": "parcoords"
           }
          ],
          "pie": [
           {
            "automargin": true,
            "type": "pie"
           }
          ],
          "scatter": [
           {
            "fillpattern": {
             "fillmode": "overlay",
             "size": 10,
             "solidity": 0.2
            },
            "type": "scatter"
           }
          ],
          "scatter3d": [
           {
            "line": {
             "colorbar": {
              "outlinewidth": 0,
              "ticks": ""
             }
            },
            "marker": {
             "colorbar": {
              "outlinewidth": 0,
              "ticks": ""
             }
            },
            "type": "scatter3d"
           }
          ],
          "scattercarpet": [
           {
            "marker": {
             "colorbar": {
              "outlinewidth": 0,
              "ticks": ""
             }
            },
            "type": "scattercarpet"
           }
          ],
          "scattergeo": [
           {
            "marker": {
             "colorbar": {
              "outlinewidth": 0,
              "ticks": ""
             }
            },
            "type": "scattergeo"
           }
          ],
          "scattergl": [
           {
            "marker": {
             "colorbar": {
              "outlinewidth": 0,
              "ticks": ""
             }
            },
            "type": "scattergl"
           }
          ],
          "scattermapbox": [
           {
            "marker": {
             "colorbar": {
              "outlinewidth": 0,
              "ticks": ""
             }
            },
            "type": "scattermapbox"
           }
          ],
          "scatterpolar": [
           {
            "marker": {
             "colorbar": {
              "outlinewidth": 0,
              "ticks": ""
             }
            },
            "type": "scatterpolar"
           }
          ],
          "scatterpolargl": [
           {
            "marker": {
             "colorbar": {
              "outlinewidth": 0,
              "ticks": ""
             }
            },
            "type": "scatterpolargl"
           }
          ],
          "scatterternary": [
           {
            "marker": {
             "colorbar": {
              "outlinewidth": 0,
              "ticks": ""
             }
            },
            "type": "scatterternary"
           }
          ],
          "surface": [
           {
            "colorbar": {
             "outlinewidth": 0,
             "ticks": ""
            },
            "colorscale": [
             [
              0,
              "#0d0887"
             ],
             [
              0.1111111111111111,
              "#46039f"
             ],
             [
              0.2222222222222222,
              "#7201a8"
             ],
             [
              0.3333333333333333,
              "#9c179e"
             ],
             [
              0.4444444444444444,
              "#bd3786"
             ],
             [
              0.5555555555555556,
              "#d8576b"
             ],
             [
              0.6666666666666666,
              "#ed7953"
             ],
             [
              0.7777777777777778,
              "#fb9f3a"
             ],
             [
              0.8888888888888888,
              "#fdca26"
             ],
             [
              1,
              "#f0f921"
             ]
            ],
            "type": "surface"
           }
          ],
          "table": [
           {
            "cells": {
             "fill": {
              "color": "#EBF0F8"
             },
             "line": {
              "color": "white"
             }
            },
            "header": {
             "fill": {
              "color": "#C8D4E3"
             },
             "line": {
              "color": "white"
             }
            },
            "type": "table"
           }
          ]
         },
         "layout": {
          "annotationdefaults": {
           "arrowcolor": "#2a3f5f",
           "arrowhead": 0,
           "arrowwidth": 1
          },
          "autotypenumbers": "strict",
          "coloraxis": {
           "colorbar": {
            "outlinewidth": 0,
            "ticks": ""
           }
          },
          "colorscale": {
           "diverging": [
            [
             0,
             "#8e0152"
            ],
            [
             0.1,
             "#c51b7d"
            ],
            [
             0.2,
             "#de77ae"
            ],
            [
             0.3,
             "#f1b6da"
            ],
            [
             0.4,
             "#fde0ef"
            ],
            [
             0.5,
             "#f7f7f7"
            ],
            [
             0.6,
             "#e6f5d0"
            ],
            [
             0.7,
             "#b8e186"
            ],
            [
             0.8,
             "#7fbc41"
            ],
            [
             0.9,
             "#4d9221"
            ],
            [
             1,
             "#276419"
            ]
           ],
           "sequential": [
            [
             0,
             "#0d0887"
            ],
            [
             0.1111111111111111,
             "#46039f"
            ],
            [
             0.2222222222222222,
             "#7201a8"
            ],
            [
             0.3333333333333333,
             "#9c179e"
            ],
            [
             0.4444444444444444,
             "#bd3786"
            ],
            [
             0.5555555555555556,
             "#d8576b"
            ],
            [
             0.6666666666666666,
             "#ed7953"
            ],
            [
             0.7777777777777778,
             "#fb9f3a"
            ],
            [
             0.8888888888888888,
             "#fdca26"
            ],
            [
             1,
             "#f0f921"
            ]
           ],
           "sequentialminus": [
            [
             0,
             "#0d0887"
            ],
            [
             0.1111111111111111,
             "#46039f"
            ],
            [
             0.2222222222222222,
             "#7201a8"
            ],
            [
             0.3333333333333333,
             "#9c179e"
            ],
            [
             0.4444444444444444,
             "#bd3786"
            ],
            [
             0.5555555555555556,
             "#d8576b"
            ],
            [
             0.6666666666666666,
             "#ed7953"
            ],
            [
             0.7777777777777778,
             "#fb9f3a"
            ],
            [
             0.8888888888888888,
             "#fdca26"
            ],
            [
             1,
             "#f0f921"
            ]
           ]
          },
          "colorway": [
           "#636efa",
           "#EF553B",
           "#00cc96",
           "#ab63fa",
           "#FFA15A",
           "#19d3f3",
           "#FF6692",
           "#B6E880",
           "#FF97FF",
           "#FECB52"
          ],
          "font": {
           "color": "#2a3f5f"
          },
          "geo": {
           "bgcolor": "white",
           "lakecolor": "white",
           "landcolor": "#E5ECF6",
           "showlakes": true,
           "showland": true,
           "subunitcolor": "white"
          },
          "hoverlabel": {
           "align": "left"
          },
          "hovermode": "closest",
          "mapbox": {
           "style": "light"
          },
          "paper_bgcolor": "white",
          "plot_bgcolor": "#E5ECF6",
          "polar": {
           "angularaxis": {
            "gridcolor": "white",
            "linecolor": "white",
            "ticks": ""
           },
           "bgcolor": "#E5ECF6",
           "radialaxis": {
            "gridcolor": "white",
            "linecolor": "white",
            "ticks": ""
           }
          },
          "scene": {
           "xaxis": {
            "backgroundcolor": "#E5ECF6",
            "gridcolor": "white",
            "gridwidth": 2,
            "linecolor": "white",
            "showbackground": true,
            "ticks": "",
            "zerolinecolor": "white"
           },
           "yaxis": {
            "backgroundcolor": "#E5ECF6",
            "gridcolor": "white",
            "gridwidth": 2,
            "linecolor": "white",
            "showbackground": true,
            "ticks": "",
            "zerolinecolor": "white"
           },
           "zaxis": {
            "backgroundcolor": "#E5ECF6",
            "gridcolor": "white",
            "gridwidth": 2,
            "linecolor": "white",
            "showbackground": true,
            "ticks": "",
            "zerolinecolor": "white"
           }
          },
          "shapedefaults": {
           "line": {
            "color": "#2a3f5f"
           }
          },
          "ternary": {
           "aaxis": {
            "gridcolor": "white",
            "linecolor": "white",
            "ticks": ""
           },
           "baxis": {
            "gridcolor": "white",
            "linecolor": "white",
            "ticks": ""
           },
           "bgcolor": "#E5ECF6",
           "caxis": {
            "gridcolor": "white",
            "linecolor": "white",
            "ticks": ""
           }
          },
          "title": {
           "x": 0.05
          },
          "xaxis": {
           "automargin": true,
           "gridcolor": "white",
           "linecolor": "white",
           "ticks": "",
           "title": {
            "standoff": 15
           },
           "zerolinecolor": "white",
           "zerolinewidth": 2
          },
          "yaxis": {
           "automargin": true,
           "gridcolor": "white",
           "linecolor": "white",
           "ticks": "",
           "title": {
            "standoff": 15
           },
           "zerolinecolor": "white",
           "zerolinewidth": 2
          }
         }
        },
        "width": 800
       }
      }
     },
     "metadata": {},
     "output_type": "display_data"
    }
   ],
   "source": [
    "fig = px.scatter_mapbox(df, \n",
    "                  lat=\"lat\", \n",
    "                  lon=\"lon\", \n",
    "                  center={\"lat\": 19.43, \"lon\": -99.13},\n",
    "                  width=800,\n",
    "                  height=600,\n",
    "                  color=\"property_type\", \n",
    "                  hover_data=[\"price_usd\"])\n",
    "\n",
    "fig.update_layout(mapbox_style=\"open-street-map\")\n",
    "fig.show()"
   ]
  },
  {
   "cell_type": "code",
   "execution_count": 21,
   "metadata": {},
   "outputs": [
    {
     "data": {
      "application/vnd.plotly.v1+json": {
       "config": {
        "plotlyServerURL": "https://plot.ly"
       },
       "data": [
        {
         "coloraxis": "coloraxis",
         "customdata": [
          [
           67965.56
          ],
          [
           63223.78
          ],
          [
           84298.37
          ],
          [
           94308.8
          ],
          [
           105191.37
          ],
          [
           274034.68
          ],
          [
           151509.56
          ],
          [
           79029.72
          ],
          [
           115937.75
          ],
          [
           63223.78
          ],
          [
           157269.15
          ],
          [
           104607.47
          ],
          [
           63238.77
          ],
          [
           77994.48
          ],
          [
           131716.2
          ],
          [
           203167.1
          ],
          [
           264390.77
          ],
          [
           63238.77
          ],
          [
           36775.16
          ],
          [
           173570.3
          ],
          [
           131716.2
          ],
          [
           67175.26
          ],
          [
           262905.55
          ],
          [
           40041.72
          ],
          [
           64556.24
          ],
          [
           44783.51
          ],
          [
           104846.1
          ],
          [
           158059.45
          ],
          [
           84845.35
          ],
          [
           39514.86
          ],
          [
           158059.45
          ],
          [
           92223.21
          ],
          [
           129639.48
          ],
          [
           120125.18
          ],
          [
           158059.45
          ],
          [
           51632.75
          ],
          [
           155461.98
          ],
          [
           126447.56
          ],
          [
           51662.25
          ],
          [
           97598.5
          ],
          [
           57955.13
          ],
          [
           108534.15
          ],
          [
           247626.47
          ],
          [
           86300.46
          ],
          [
           44794.13
          ],
          [
           40841.7
          ],
          [
           95309.84
          ],
          [
           150719.07
          ],
          [
           81683.41
          ],
          [
           65858.1
          ],
          [
           192087.77
          ],
          [
           60603.82
          ],
          [
           237089.17
          ],
          [
           41095.45
          ],
          [
           158096.93
          ],
          [
           227351.46
          ],
          [
           67438.69
          ],
          [
           136984.85
          ],
          [
           93781.94
          ],
          [
           205477.28
          ],
          [
           43887.84
          ],
          [
           94835.67
          ],
          [
           105372.96
          ],
          [
           79029.72
          ],
          [
           176499.72
          ],
          [
           81630.71
          ],
          [
           105372.96
          ],
          [
           126477.54
          ],
          [
           34254.33
          ],
          [
           72707.34
          ],
          [
           35563.37
          ],
          [
           207057.88
          ],
          [
           76395.4
          ],
          [
           126447.56
          ],
          [
           216014.58
          ],
          [
           52423.05
          ],
          [
           118386.52
          ],
          [
           63238.77
          ],
          [
           173865.39
          ],
          [
           226551.88
          ],
          [
           34254.33
          ],
          [
           139652.29
          ],
          [
           84298.37
          ],
          [
           68492.42
          ],
          [
           63238.77
          ],
          [
           65873.72
          ],
          [
           50591.01
          ],
          [
           126447.56
          ],
          [
           142253.5
          ],
          [
           242415.29
          ],
          [
           72707.34
          ],
          [
           147557.13
          ],
          [
           150192.08
          ],
          [
           110641.61
          ],
          [
           86953.31
          ],
          [
           131747.44
          ],
          [
           189716.32
          ],
          [
           176499.72
          ],
          [
           152000.5
          ],
          [
           137017.34
          ],
          [
           78502.86
          ],
          [
           102738.64
          ],
          [
           88270.78
          ],
          [
           111721.83
          ],
          [
           51644.99
          ],
          [
           57006.77
          ],
          [
           110641.61
          ],
          [
           142287.24
          ],
          [
           82875.83
          ],
          [
           120944.15
          ],
          [
           89567.02
          ],
          [
           197100.13
          ],
          [
           34599.16
          ],
          [
           47417.83
          ],
          [
           116173.69
          ],
          [
           326733.66
          ],
          [
           247626.47
          ],
          [
           121178.91
          ],
          [
           105372.96
          ],
          [
           123813.23
          ],
          [
           160866.42
          ],
          [
           142253.5
          ],
          [
           42159.18
          ],
          [
           37670.83
          ],
          [
           123052.11
          ],
          [
           104870.96
          ],
          [
           46840.27
          ],
          [
           94835.67
          ],
          [
           97469.99
          ],
          [
           306529.96
          ],
          [
           136984.85
          ],
          [
           139652.29
          ],
          [
           89567.02
          ],
          [
           230874.8
          ],
          [
           147557.13
          ],
          [
           50579.02
          ],
          [
           102211.77
          ],
          [
           79029.72
          ],
          [
           105372.96
          ],
          [
           67965.56
          ],
          [
           110641.61
          ],
          [
           110667.85
          ],
          [
           136490.35
          ],
          [
           60589.45
          ],
          [
           68508.67
          ],
          [
           76413.51
          ],
          [
           120652.04
          ],
          [
           87703.06
          ],
          [
           259470.39
          ],
          [
           237089.17
          ],
          [
           236144.12
          ],
          [
           237089.17
          ],
          [
           143530.93
          ],
          [
           131747.44
          ],
          [
           79029.72
          ],
          [
           92223.21
          ],
          [
           42149.18
          ],
          [
           56387.9
          ],
          [
           60603.82
          ],
          [
           39514.86
          ],
          [
           110050.31
          ],
          [
           65858.1
          ],
          [
           171306.94
          ],
          [
           84318.36
          ],
          [
           108007.29
          ],
          [
           63118.4
          ],
          [
           73234.21
          ],
          [
           173865.39
          ],
          [
           90115.25
          ],
          [
           94594.66
          ],
          [
           39524.23
          ],
          [
           84298.37
          ],
          [
           76677.01
          ],
          [
           114487.72
          ],
          [
           181811.47
          ],
          [
           94308.8
          ],
          [
           84825.23
          ],
          [
           217911.29
          ],
          [
           65858.1
          ],
          [
           49537.03
          ],
          [
           76413.51
          ],
          [
           283558.65
          ],
          [
           92201.34
          ],
          [
           158096.93
          ],
          [
           124501.99
          ],
          [
           41095.45
          ],
          [
           78502.86
          ],
          [
           96363.57
          ],
          [
           67438.69
          ],
          [
           42676.05
          ],
          [
           68508.67
          ],
          [
           76940.5
          ],
          [
           46890.97
          ],
          [
           106848.18
          ],
          [
           42149.18
          ],
          [
           93781.94
          ],
          [
           115937.75
          ],
          [
           109324.45
          ],
          [
           67702.13
          ],
          [
           36880.53
          ],
          [
           63223.78
          ],
          [
           36889.28
          ],
          [
           93255.07
          ],
          [
           64281.19
          ],
          [
           144922.18
          ],
          [
           78995.76
          ],
          [
           37386.32
          ],
          [
           91169.23
          ],
          [
           104319.23
          ],
          [
           184182.92
          ],
          [
           123981.3
          ],
          [
           50064.02
          ],
          [
           56514.99
          ],
          [
           270872.74
          ],
          [
           92223.21
          ],
          [
           144887.83
          ],
          [
           184446.42
          ],
          [
           62448.28
          ],
          [
           57968.87
          ],
          [
           71126.75
          ],
          [
           39524.23
          ],
          [
           84298.37
          ],
          [
           62975.27
          ],
          [
           289844.37
          ],
          [
           102738.64
          ],
          [
           326656.19
          ],
          [
           71126.75
          ],
          [
           131716.2
          ],
          [
           100104.31
          ],
          [
           173986.78
          ],
          [
           215222.62
          ],
          [
           188398.84
          ],
          [
           144887.83
          ],
          [
           86932.69
          ],
          [
           226551.88
          ],
          [
           139652.29
          ],
          [
           57955.13
          ],
          [
           246994.23
          ],
          [
           42149.18
          ],
          [
           36269.27
          ],
          [
           50087.3
          ],
          [
           63223.78
          ],
          [
           110588.92
          ],
          [
           39514.86
          ],
          [
           274034.68
          ],
          [
           266066.74
          ],
          [
           39462.17
          ],
          [
           39514.86
          ],
          [
           71301.71
          ],
          [
           121207.64
          ],
          [
           242415.29
          ],
          [
           144887.83
          ],
          [
           131747.44
          ],
          [
           104343.97
          ],
          [
           74972.86
          ],
          [
           312957.71
          ],
          [
           47417.83
          ],
          [
           41622.32
          ],
          [
           142253.5
          ],
          [
           34254.33
          ],
          [
           34077.61
          ],
          [
           118544.58
          ],
          [
           103606.19
          ],
          [
           52159.61
          ],
          [
           263494.89
          ],
          [
           92023.21
          ],
          [
           83000.89
          ],
          [
           80112.98
          ],
          [
           51644.99
          ],
          [
           39514.86
          ],
          [
           121207.64
          ],
          [
           34781.32
          ],
          [
           209902.95
          ],
          [
           68492.42
          ],
          [
           284507.01
          ],
          [
           189716.32
          ],
          [
           89061.27
          ],
          [
           68492.42
          ],
          [
           156958.3
          ],
          [
           144887.83
          ],
          [
           109587.88
          ],
          [
           155461.98
          ],
          [
           210745.93
          ],
          [
           52698.97
          ],
          [
           71765.83
          ],
          [
           109387.67
          ],
          [
           39830.98
          ],
          [
           47681.26
          ],
          [
           44783.51
          ],
          [
           91042.24
          ],
          [
           45321.12
          ],
          [
           79048.46
          ],
          [
           94835.67
          ],
          [
           97469.99
          ],
          [
           183296.27
          ],
          [
           104497.22
          ],
          [
           63223.78
          ],
          [
           48734.99
          ],
          [
           262967.9
          ],
          [
           130873.22
          ],
          [
           93465.82
          ],
          [
           166001.78
          ],
          [
           210745.93
          ],
          [
           105372.96
          ],
          [
           60076.83
          ],
          [
           75375.18
          ],
          [
           94308.8
          ],
          [
           50485.62
          ],
          [
           76395.4
          ],
          [
           136405.3
          ],
          [
           89567.02
          ],
          [
           105372.96
          ],
          [
           157479.9
          ],
          [
           39260.73
          ],
          [
           47429.08
          ],
          [
           43202.91
          ],
          [
           135085.08
          ],
          [
           99601.06
          ],
          [
           237145.4
          ],
          [
           44783.51
          ],
          [
           40568.59
          ],
          [
           65858.1
          ],
          [
           53740.21
          ],
          [
           273969.71
          ],
          [
           223970.65
          ],
          [
           33719.34
          ],
          [
           62570.46
          ],
          [
           66933.76
          ],
          [
           64277.51
          ],
          [
           68492.42
          ],
          [
           110641.61
          ],
          [
           100735.92
          ],
          [
           66911.83
          ],
          [
           324021.87
          ],
          [
           47417.83
          ],
          [
           121355.2
          ],
          [
           135931.12
          ],
          [
           74920.17
          ],
          [
           39524.23
          ],
          [
           137017.34
          ],
          [
           79029.72
          ],
          [
           51632.75
          ],
          [
           86932.69
          ],
          [
           89040.15
          ],
          [
           86953.31
          ],
          [
           34246.21
          ],
          [
           84298.37
          ],
          [
           65858.1
          ],
          [
           131716.2
          ],
          [
           176541.57
          ],
          [
           40645.77
          ],
          [
           178080.31
          ],
          [
           173865.39
          ],
          [
           123315.6
          ],
          [
           102763
          ],
          [
           173906.62
          ],
          [
           99577.45
          ],
          [
           315618.38
          ],
          [
           62696.91
          ],
          [
           131747.44
          ],
          [
           94818.28
          ],
          [
           50052.15
          ],
          [
           176541.57
          ],
          [
           51381.5
          ],
          [
           155425.12
          ],
          [
           68492.42
          ],
          [
           179134.04
          ],
          [
           77975.99
          ],
          [
           121178.91
          ],
          [
           173865.39
          ],
          [
           184446.42
          ],
          [
           154950.94
          ],
          [
           112222.21
          ],
          [
           115910.26
          ],
          [
           135430.6
          ],
          [
           174140.42
          ],
          [
           181084.17
          ],
          [
           35835.3
          ],
          [
           131747.44
          ],
          [
           183989.52
          ],
          [
           97469.99
          ],
          [
           34254.33
          ],
          [
           237089.17
          ],
          [
           33358.45
          ],
          [
           68492.42
          ],
          [
           71653.61
          ],
          [
           192305.66
          ],
          [
           57955.13
          ],
          [
           179134.04
          ],
          [
           209692.2
          ],
          [
           65858.1
          ],
          [
           187081.37
          ],
          [
           180187.77
          ],
          [
           44783.51
          ],
          [
           284047.49
          ],
          [
           55320.8
          ],
          [
           88513.29
          ],
          [
           209955.63
          ],
          [
           55333.92
          ],
          [
           134382.39
          ],
          [
           43213.16
          ],
          [
           40041.72
          ],
          [
           250320.14
          ],
          [
           101158.04
          ],
          [
           34246.21
          ],
          [
           118544.58
          ],
          [
           57968.87
          ],
          [
           139619.18
          ],
          [
           147557.13
          ],
          [
           101196.61
          ],
          [
           155461.98
          ],
          [
           279238.36
          ],
          [
           224660.17
          ],
          [
           115937.75
          ],
          [
           98523.72
          ],
          [
           152790.8
          ],
          [
           144922.18
          ],
          [
           60589.45
          ],
          [
           52686.48
          ],
          [
           68492.42
          ],
          [
           133442.74
          ],
          [
           65873.72
          ],
          [
           110641.61
          ],
          [
           316118.9
          ],
          [
           92728.21
          ],
          [
           156742.28
          ],
          [
           52686.48
          ],
          [
           147522.15
          ],
          [
           225024.63
          ],
          [
           226551.88
          ],
          [
           67981.68
          ],
          [
           279238.36
          ],
          [
           42149.18
          ],
          [
           43993.21
          ],
          [
           139619.18
          ],
          [
           121178.91
          ],
          [
           90589.54
          ],
          [
           80635.87
          ],
          [
           77325.47
          ],
          [
           306635.33
          ],
          [
           110641.61
          ],
          [
           144922.18
          ],
          [
           136984.85
          ],
          [
           125950.55
          ],
          [
           147522.15
          ],
          [
           91463.73
          ],
          [
           89588.26
          ],
          [
           34246.21
          ],
          [
           263432.41
          ],
          [
           118572.7
          ],
          [
           50064.02
          ],
          [
           102763
          ],
          [
           41105.2
          ],
          [
           208160.96
          ],
          [
           100104.31
          ],
          [
           94256.11
          ],
          [
           75078.23
          ],
          [
           50052.15
          ],
          [
           109587.88
          ],
          [
           200208.63
          ],
          [
           57422.47
          ],
          [
           50052.15
          ],
          [
           139619.18
          ],
          [
           47417.83
          ],
          [
           39946.36
          ],
          [
           83771.5
          ],
          [
           57955.13
          ],
          [
           210745.93
          ],
          [
           131716.2
          ],
          [
           210743.21
          ],
          [
           168636.73
          ],
          [
           68205.43
          ],
          [
           144887.83
          ],
          [
           51393.55
          ],
          [
           131716.2
          ],
          [
           78766.29
          ],
          [
           100075.35
          ],
          [
           99577.45
          ],
          [
           37943.26
          ],
          [
           62184.79
          ],
          [
           189663.62
          ],
          [
           176979.24
          ],
          [
           242415.29
          ],
          [
           68245.17
          ],
          [
           84318.36
          ],
          [
           210795.91
          ],
          [
           40568.59
          ],
          [
           84318.36
          ],
          [
           218648.9
          ],
          [
           128098.38
          ],
          [
           43202.91
          ],
          [
           131768.89
          ],
          [
           42676.05
          ],
          [
           316118.9
          ],
          [
           77975.99
          ],
          [
           51644.99
          ],
          [
           51644.99
          ],
          [
           110667.85
          ],
          [
           113302.8
          ],
          [
           150683.34
          ],
          [
           236091.42
          ],
          [
           79029.72
          ],
          [
           72707.34
          ],
          [
           99577.45
          ],
          [
           72197.6
          ],
          [
           65858.1
          ],
          [
           37943.26
          ],
          [
           42969.88
          ],
          [
           124340.1
          ],
          [
           76395.4
          ],
          [
           268701.06
          ],
          [
           84298.37
          ],
          [
           43729.78
          ],
          [
           189716.32
          ],
          [
           237145.4
          ],
          [
           98656.43
          ],
          [
           53225.96
          ],
          [
           123813.23
          ],
          [
           41105.2
          ],
          [
           177695.7
          ],
          [
           83771.5
          ],
          [
           47417.83
          ],
          [
           142253.5
          ],
          [
           73761.07
          ],
          [
           79048.46
          ],
          [
           184446.42
          ],
          [
           147522.15
          ],
          [
           44941.57
          ],
          [
           201310.09
          ],
          [
           47417.83
          ],
          [
           79029.72
          ],
          [
           113302.8
          ],
          [
           81664.04
          ],
          [
           209692.2
          ],
          [
           123813.23
          ],
          [
           84318.36
          ],
          [
           126447.56
          ],
          [
           226551.88
          ],
          [
           147522.15
          ],
          [
           194986.21
          ],
          [
           92542.77
          ],
          [
           41095.45
          ],
          [
           84318.36
          ],
          [
           37943.26
          ],
          [
           36889.28
          ],
          [
           64804.37
          ],
          [
           269754.79
          ],
          [
           40568.59
          ],
          [
           94858.16
          ],
          [
           79029.72
          ],
          [
           90620.75
          ],
          [
           147557.13
          ],
          [
           149928.59
          ],
          [
           121178.91
          ],
          [
           84298.37
          ],
          [
           137017.34
          ],
          [
           68070.93
          ],
          [
           147522.15
          ],
          [
           161826.53
          ],
          [
           221283.23
          ],
          [
           34246.21
          ],
          [
           102738.64
          ],
          [
           210795.91
          ],
          [
           68492.42
          ],
          [
           112402.96
          ],
          [
           197146.87
          ],
          [
           168596.74
          ],
          [
           168596.74
          ],
          [
           73761.07
          ],
          [
           42149.18
          ],
          [
           115910.26
          ],
          [
           71143.62
          ],
          [
           45310.37
          ],
          [
           208160.96
          ],
          [
           94278.47
          ],
          [
           97469.99
          ],
          [
           54267.07
          ],
          [
           183989.47
          ],
          [
           115910.26
          ],
          [
           77572.89
          ],
          [
           137017.34
          ],
          [
           110404.35
          ],
          [
           56637.97
          ],
          [
           68421.05
          ],
          [
           278947.37
          ],
          [
           65789.47
          ],
          [
           111578.95
          ],
          [
           39904.74
          ],
          [
           35263.16
          ],
          [
           157368.42
          ],
          [
           112473.68
          ],
          [
           110526.32
          ],
          [
           88947.37
          ],
          [
           55000
          ],
          [
           163157.89
          ],
          [
           184210.53
          ],
          [
           105263.16
          ],
          [
           144736.84
          ],
          [
           104736.84
          ],
          [
           65789.47
          ],
          [
           136842.11
          ],
          [
           71911.21
          ],
          [
           63157.89
          ],
          [
           94736.84
          ],
          [
           52631.58
          ],
          [
           35841.58
          ],
          [
           97368.42
          ],
          [
           157894.74
          ],
          [
           115263.16
          ],
          [
           131578.95
          ],
          [
           81578.95
          ],
          [
           92105.26
          ],
          [
           94736.84
          ],
          [
           99473.68
          ],
          [
           150000
          ],
          [
           57894.74
          ],
          [
           118421.05
          ],
          [
           71052.63
          ],
          [
           130842.11
          ],
          [
           73684.21
          ],
          [
           321052.63
          ],
          [
           189473.68
          ],
          [
           231578.95
          ],
          [
           124210.53
          ],
          [
           81052.63
          ],
          [
           46280.68
          ],
          [
           36842.11
          ],
          [
           260526.32
          ],
          [
           105263.16
          ],
          [
           201061.21
          ],
          [
           178947.37
          ],
          [
           186842.11
          ],
          [
           184210.53
          ],
          [
           57894.74
          ],
          [
           97368.42
          ],
          [
           69473.68
          ],
          [
           121052.63
          ],
          [
           88947.37
          ],
          [
           89473.68
          ],
          [
           97368.42
          ],
          [
           47105.26
          ],
          [
           123684.21
          ],
          [
           279193.58
          ],
          [
           236842.11
          ],
          [
           78189.47
          ],
          [
           289421.05
          ],
          [
           40000
          ],
          [
           147368.42
          ],
          [
           73684.21
          ],
          [
           71911.21
          ],
          [
           44736.84
          ],
          [
           37037.11
          ],
          [
           142105.26
          ],
          [
           42807.63
          ],
          [
           91315.79
          ],
          [
           134715.79
          ],
          [
           43157.89
          ],
          [
           166315.79
          ],
          [
           100000
          ],
          [
           51578.95
          ],
          [
           77368.42
          ],
          [
           103945.63
          ],
          [
           233473.68
          ],
          [
           97368.42
          ],
          [
           231478.95
          ],
          [
           229400
          ],
          [
           76315.79
          ],
          [
           93684.21
          ],
          [
           226315.79
          ],
          [
           63157.89
          ],
          [
           34210.53
          ],
          [
           163157.89
          ],
          [
           105000
          ],
          [
           157894.74
          ],
          [
           155263.16
          ],
          [
           97368.42
          ],
          [
           69473.68
          ],
          [
           65789.47
          ],
          [
           263157.89
          ],
          [
           57894.74
          ],
          [
           213157.89
          ],
          [
           47368.42
          ],
          [
           90014.95
          ],
          [
           98368.42
          ],
          [
           78947.37
          ],
          [
           65789.47
          ],
          [
           252631.58
          ],
          [
           147368.42
          ],
          [
           122894.74
          ],
          [
           75210.53
          ],
          [
           176315.79
          ],
          [
           53684.21
          ],
          [
           51578.95
          ],
          [
           236842.11
          ],
          [
           44736.84
          ],
          [
           209311.05
          ],
          [
           73684.21
          ],
          [
           184210.53
          ],
          [
           52631.58
          ],
          [
           71052.63
          ],
          [
           314736.84
          ],
          [
           51842.11
          ],
          [
           122419.26
          ],
          [
           160263.16
          ],
          [
           139473.68
          ],
          [
           69684.21
          ],
          [
           63157.89
          ],
          [
           36263.16
          ],
          [
           118421.05
          ],
          [
           78947.37
          ],
          [
           231578.95
          ],
          [
           76315.79
          ],
          [
           44736.84
          ],
          [
           86842.11
          ],
          [
           78947.37
          ],
          [
           131578.95
          ],
          [
           205578.95
          ],
          [
           94736.84
          ],
          [
           53102.79
          ],
          [
           57894.74
          ],
          [
           168421.05
          ],
          [
           197368.42
          ],
          [
           47631.58
          ],
          [
           166863.16
          ],
          [
           136842.11
          ],
          [
           173421.05
          ],
          [
           42105.26
          ],
          [
           94736.84
          ],
          [
           89210.53
          ],
          [
           97368.42
          ],
          [
           34021.74
          ],
          [
           47368.42
          ],
          [
           134210.53
          ],
          [
           197982.11
          ],
          [
           200000
          ],
          [
           142105.26
          ],
          [
           184210.53
          ],
          [
           65789.47
          ],
          [
           41052.63
          ],
          [
           78947.37
          ],
          [
           251578.95
          ],
          [
           117894.74
          ],
          [
           206315.79
          ],
          [
           225263.16
          ],
          [
           147368.42
          ],
          [
           86842.11
          ],
          [
           106736.84
          ],
          [
           113710.53
          ],
          [
           57894.74
          ],
          [
           131578.95
          ],
          [
           152368.42
          ],
          [
           165789.47
          ],
          [
           67894.74
          ],
          [
           116403.58
          ],
          [
           66315.79
          ],
          [
           97368.42
          ],
          [
           127368.42
          ],
          [
           115789.47
          ],
          [
           51578.95
          ],
          [
           50000
          ],
          [
           151578.95
          ],
          [
           86842.11
          ],
          [
           260526.32
          ],
          [
           236842.11
          ],
          [
           77894.74
          ],
          [
           147631.58
          ],
          [
           144736.84
          ],
          [
           91052.63
          ],
          [
           205263.16
          ],
          [
           35789.47
          ],
          [
           44736.84
          ],
          [
           157489.47
          ],
          [
           69473.68
          ],
          [
           184210.53
          ],
          [
           86842.11
          ],
          [
           74234.37
          ],
          [
           139473.68
          ],
          [
           305263.16
          ],
          [
           69578.95
          ],
          [
           176842.11
          ],
          [
           44736.84
          ],
          [
           44736.84
          ],
          [
           35526.32
          ],
          [
           168421.05
          ],
          [
           44736.84
          ],
          [
           77631.58
          ],
          [
           100000
          ],
          [
           60526.32
          ],
          [
           92105.26
          ],
          [
           240526.32
          ],
          [
           236842.11
          ],
          [
           45789.47
          ],
          [
           104210.53
          ],
          [
           76315.79
          ],
          [
           221052.63
          ],
          [
           97678.95
          ],
          [
           252631.58
          ],
          [
           273684.21
          ],
          [
           204000
          ],
          [
           50000
          ],
          [
           60526.32
          ],
          [
           86842.11
          ],
          [
           199473.68
          ],
          [
           65789.47
          ],
          [
           57894.74
          ],
          [
           48000
          ],
          [
           39473.68
          ],
          [
           147368.42
          ],
          [
           83157.89
          ],
          [
           223684.21
          ],
          [
           63157.89
          ],
          [
           120263.16
          ],
          [
           65789.47
          ],
          [
           262631.58
          ],
          [
           207894.74
          ],
          [
           81578.95
          ],
          [
           94210.53
          ],
          [
           126315.79
          ],
          [
           165789.47
          ],
          [
           52105.26
          ],
          [
           192105.26
          ],
          [
           113105.26
          ],
          [
           46973.68
          ],
          [
           113684.21
          ],
          [
           242105.26
          ],
          [
           244736.84
          ],
          [
           184210.53
          ],
          [
           51000
          ],
          [
           33684.21
          ],
          [
           68421.05
          ],
          [
           86789.47
          ],
          [
           92105.26
          ],
          [
           230842.11
          ],
          [
           113157.89
          ],
          [
           92105.26
          ],
          [
           49473.68
          ],
          [
           141052.63
          ],
          [
           139473.68
          ],
          [
           236842.11
          ],
          [
           89421.05
          ],
          [
           227684.21
          ],
          [
           97894.74
          ],
          [
           127894.74
          ],
          [
           236842.11
          ],
          [
           192217.47
          ],
          [
           194736.84
          ],
          [
           110526.32
          ],
          [
           46789.47
          ],
          [
           121052.63
          ],
          [
           78947.37
          ],
          [
           101157.89
          ],
          [
           63157.89
          ],
          [
           36421.05
          ],
          [
           121052.63
          ],
          [
           207894.74
          ],
          [
           173684.21
          ],
          [
           97368.42
          ],
          [
           151315.79
          ],
          [
           100000
          ],
          [
           137105.26
          ],
          [
           70263.16
          ],
          [
           84210.53
          ],
          [
           228947.37
          ],
          [
           98162.37
          ],
          [
           97368.42
          ],
          [
           148739.68
          ],
          [
           89473.68
          ],
          [
           102631.58
          ],
          [
           125926.68
          ],
          [
           42105.26
          ],
          [
           65789.47
          ],
          [
           49473.68
          ],
          [
           128947.37
          ],
          [
           86842.11
          ],
          [
           76315.79
          ],
          [
           110000
          ],
          [
           234210.53
          ],
          [
           157894.74
          ],
          [
           184210.53
          ],
          [
           48947.37
          ],
          [
           97368.42
          ],
          [
           210526.32
          ],
          [
           68157.89
          ],
          [
           65789.47
          ],
          [
           171949.05
          ],
          [
           149000
          ],
          [
           57894.74
          ],
          [
           104736.84
          ],
          [
           120000
          ],
          [
           94736.84
          ],
          [
           35368.42
          ],
          [
           115789.47
          ],
          [
           184210.53
          ],
          [
           118421.05
          ],
          [
           78947.37
          ],
          [
           113157.89
          ],
          [
           118421.05
          ],
          [
           84210.53
          ],
          [
           194736.84
          ],
          [
           115789.47
          ],
          [
           263157.89
          ],
          [
           77631.58
          ],
          [
           92105.26
          ],
          [
           115789.47
          ],
          [
           94210.53
          ],
          [
           181263.16
          ],
          [
           228947.37
          ],
          [
           71052.63
          ],
          [
           221052.63
          ],
          [
           44789.47
          ],
          [
           66526.32
          ],
          [
           142105.26
          ],
          [
           73684.21
          ],
          [
           52428.26
          ],
          [
           307127.16
          ],
          [
           63157.89
          ],
          [
           147368.42
          ],
          [
           67026.32
          ],
          [
           42631.58
          ],
          [
           101315.79
          ],
          [
           44736.84
          ],
          [
           118421.05
          ],
          [
           205263.16
          ],
          [
           236842.11
          ],
          [
           39473.68
          ],
          [
           63157.89
          ],
          [
           78947.37
          ],
          [
           78947.37
          ],
          [
           49473.68
          ],
          [
           89421.05
          ],
          [
           294736.84
          ],
          [
           101884.21
          ],
          [
           144736.84
          ],
          [
           36842.11
          ],
          [
           57894.74
          ],
          [
           144736.84
          ],
          [
           118421.05
          ],
          [
           110526.32
          ],
          [
           44736.84
          ],
          [
           158210.53
          ],
          [
           65789.47
          ],
          [
           77089.47
          ],
          [
           110526.32
          ],
          [
           165043.74
          ],
          [
           155263.16
          ],
          [
           184210.53
          ],
          [
           118421.05
          ],
          [
           57894.74
          ],
          [
           55263.16
          ],
          [
           103684.21
          ],
          [
           50000
          ],
          [
           157368.42
          ],
          [
           71052.63
          ],
          [
           175368.42
          ],
          [
           105263.16
          ],
          [
           106368.42
          ],
          [
           92631.58
          ],
          [
           71052.63
          ],
          [
           50000
          ],
          [
           110526.32
          ],
          [
           46315.79
          ],
          [
           103157.89
          ],
          [
           93368.42
          ],
          [
           110526.32
          ],
          [
           35789.47
          ],
          [
           72578.95
          ],
          [
           68421.05
          ],
          [
           44736.84
          ],
          [
           60526.32
          ],
          [
           67368.42
          ],
          [
           55263.16
          ],
          [
           67631.58
          ],
          [
           46315.79
          ],
          [
           72631.58
          ],
          [
           115789.47
          ],
          [
           152631.58
          ],
          [
           121052.63
          ],
          [
           97894.74
          ],
          [
           44105.26
          ],
          [
           139473.68
          ],
          [
           53097.89
          ],
          [
           107894.74
          ],
          [
           194736.84
          ],
          [
           102631.58
          ],
          [
           84210.53
          ],
          [
           68421.05
          ],
          [
           194736.84
          ],
          [
           197368.42
          ],
          [
           184210.53
          ],
          [
           150000
          ],
          [
           53684.21
          ],
          [
           105263.16
          ],
          [
           44736.84
          ],
          [
           51578.95
          ],
          [
           184210.53
          ],
          [
           71052.63
          ],
          [
           45789.47
          ],
          [
           91052.63
          ],
          [
           36000
          ],
          [
           89473.68
          ],
          [
           205263.16
          ],
          [
           157894.74
          ],
          [
           52631.58
          ],
          [
           136842.11
          ],
          [
           43684.21
          ],
          [
           171578.95
          ],
          [
           61242.11
          ],
          [
           163157.89
          ],
          [
           63157.89
          ],
          [
           71052.63
          ],
          [
           64210.53
          ],
          [
           120000
          ],
          [
           41052.63
          ],
          [
           68421.05
          ],
          [
           274592.89
          ],
          [
           247105.26
          ],
          [
           273684.21
          ],
          [
           241060.53
          ],
          [
           36092.11
          ],
          [
           202631.58
          ],
          [
           313105.26
          ],
          [
           71052.63
          ],
          [
           52631.58
          ],
          [
           109210.53
          ],
          [
           97368.42
          ],
          [
           120252.63
          ],
          [
           152631.58
          ],
          [
           52398.95
          ],
          [
           88947.37
          ],
          [
           71052.63
          ],
          [
           71052.63
          ],
          [
           41578.95
          ],
          [
           176315.79
          ],
          [
           113157.89
          ],
          [
           78947.37
          ],
          [
           65789.47
          ],
          [
           94736.84
          ],
          [
           310526.32
          ],
          [
           51578.95
          ],
          [
           81578.95
          ],
          [
           89473.68
          ],
          [
           78947.37
          ],
          [
           34210.53
          ],
          [
           118421.05
          ],
          [
           273684.21
          ],
          [
           163157.89
          ],
          [
           82473.68
          ],
          [
           47368.42
          ],
          [
           45789.47
          ],
          [
           189473.68
          ],
          [
           102631.58
          ],
          [
           41578.95
          ],
          [
           34210.53
          ],
          [
           83157.89
          ],
          [
           126296.53
          ],
          [
           34210.53
          ],
          [
           192105.26
          ],
          [
           104736.84
          ],
          [
           56571.16
          ],
          [
           95343.42
          ],
          [
           263157.89
          ],
          [
           160526.32
          ],
          [
           40000
          ],
          [
           89473.68
          ],
          [
           51578.95
          ],
          [
           244736.84
          ],
          [
           100000
          ],
          [
           71052.63
          ],
          [
           89473.68
          ],
          [
           147368.42
          ],
          [
           225263.16
          ],
          [
           118421.05
          ],
          [
           56842.11
          ],
          [
           79953.95
          ],
          [
           75263.16
          ],
          [
           142105.26
          ],
          [
           68421.05
          ],
          [
           121052.63
          ],
          [
           100000
          ],
          [
           118421.05
          ],
          [
           81578.95
          ],
          [
           128218.68
          ],
          [
           44736.84
          ],
          [
           94210.53
          ],
          [
           197368.42
          ],
          [
           289473.68
          ],
          [
           126315.79
          ],
          [
           55263.16
          ],
          [
           105789.47
          ],
          [
           125073.68
          ],
          [
           115789.47
          ],
          [
           103947.37
          ],
          [
           106736.84
          ],
          [
           40593.79
          ],
          [
           68421.05
          ],
          [
           105263.16
          ],
          [
           113084.21
          ],
          [
           238684.21
          ],
          [
           80711.37
          ],
          [
           36842.11
          ],
          [
           99473.68
          ],
          [
           65789.47
          ],
          [
           86842.11
          ],
          [
           194736.84
          ],
          [
           45789.47
          ],
          [
           155263.16
          ],
          [
           131578.95
          ],
          [
           66842.11
          ],
          [
           68421.05
          ],
          [
           94736.84
          ],
          [
           178447.37
          ],
          [
           115789.47
          ],
          [
           84210.53
          ],
          [
           79342.11
          ],
          [
           195526.32
          ],
          [
           39473.68
          ],
          [
           91052.63
          ],
          [
           115789.47
          ],
          [
           93684.21
          ],
          [
           75694.74
          ],
          [
           62105.26
          ],
          [
           40789.47
          ],
          [
           52631.53
          ],
          [
           231578.95
          ],
          [
           99473.68
          ],
          [
           100000
          ],
          [
           127894.74
          ],
          [
           131578.95
          ],
          [
           300000
          ],
          [
           139473.68
          ],
          [
           76000
          ],
          [
           105263.16
          ],
          [
           41578.95
          ],
          [
           176327.37
          ],
          [
           150000
          ],
          [
           42105.26
          ],
          [
           104013.16
          ],
          [
           65789.47
          ],
          [
           111578.95
          ],
          [
           134210.53
          ],
          [
           244736.84
          ],
          [
           68421.05
          ],
          [
           68421.05
          ],
          [
           194736.84
          ],
          [
           33157.89
          ],
          [
           65789.47
          ],
          [
           150000
          ],
          [
           57894.74
          ],
          [
           120526.32
          ],
          [
           76315.79
          ],
          [
           102263.16
          ],
          [
           110526.32
          ],
          [
           46842.11
          ],
          [
           89210.53
          ],
          [
           48550.59
          ],
          [
           168636.73
          ],
          [
           86932.69
          ],
          [
           68508.67
          ],
          [
           102763
          ],
          [
           126477.54
          ],
          [
           121207.64
          ],
          [
           226869.1
          ],
          [
           76395.4
          ],
          [
           50052.15
          ],
          [
           51076.22
          ],
          [
           152932.43
          ],
          [
           216014.58
          ],
          [
           34246.21
          ],
          [
           100104.31
          ],
          [
           158059.45
          ],
          [
           103500.79
          ],
          [
           237145.4
          ],
          [
           104319.23
          ],
          [
           65633.66
          ],
          [
           90115.25
          ],
          [
           110667.85
          ],
          [
           62585.3
          ],
          [
           91674.48
          ],
          [
           79443.7
          ],
          [
           115910.26
          ],
          [
           52686.48
          ],
          [
           150192.08
          ],
          [
           50942.31
          ],
          [
           105397.95
          ],
          [
           189716.32
          ],
          [
           273969.71
          ],
          [
           157532.58
          ],
          [
           173865.39
          ],
          [
           56689.55
          ],
          [
           100104.31
          ],
          [
           144922.18
          ],
          [
           110667.85
          ],
          [
           99577.45
          ],
          [
           92201.34
          ],
          [
           92130.98
          ],
          [
           99050.58
          ],
          [
           98523.72
          ],
          [
           52686.48
          ],
          [
           123842.59
          ],
          [
           142253.5
          ],
          [
           68245.17
          ],
          [
           103370.88
          ],
          [
           242357.82
          ],
          [
           79029.72
          ],
          [
           123813.23
          ],
          [
           55039.77
          ],
          [
           92201.34
          ],
          [
           81683.41
          ],
          [
           115910.26
          ],
          [
           53158.13
          ],
          [
           189716.32
          ],
          [
           57955.13
          ],
          [
           105397.95
          ],
          [
           100128.05
          ],
          [
           173490.81
          ],
          [
           49986.51
          ],
          [
           55320.8
          ],
          [
           165962.42
          ],
          [
           89587.99
          ],
          [
           120652.04
          ],
          [
           158059.45
          ],
          [
           210745.93
          ],
          [
           153686.47
          ],
          [
           131747.44
          ],
          [
           36817.31
          ],
          [
           210795.91
          ],
          [
           52698.97
          ],
          [
           72724.58
          ],
          [
           44256.64
          ],
          [
           151210.2
          ],
          [
           131716.2
          ],
          [
           147557.13
          ],
          [
           162801.23
          ],
          [
           86247.77
          ],
          [
           134382.39
          ],
          [
           44730.82
          ],
          [
           35826.8
          ],
          [
           250260.79
          ],
          [
           68508.67
          ],
          [
           115910.26
          ],
          [
           35036.51
          ],
          [
           83226.17
          ],
          [
           115910.26
          ],
          [
           124633.08
          ],
          [
           132559.19
          ],
          [
           184402.69
          ],
          [
           52574.87
          ],
          [
           78521.47
          ],
          [
           289775.66
          ],
          [
           89430.16
          ],
          [
           59022.85
          ],
          [
           177267.41
          ],
          [
           71126.75
          ],
          [
           79029.72
          ],
          [
           123842.59
          ],
          [
           84298.37
          ],
          [
           85178.23
          ],
          [
           86932.69
          ],
          [
           33350.54
          ],
          [
           237089.17
          ],
          [
           184446.42
          ],
          [
           136984.85
          ],
          [
           137017.34
          ],
          [
           36353.67
          ],
          [
           115910.26
          ],
          [
           205477.28
          ],
          [
           68492.42
          ],
          [
           104343.97
          ],
          [
           59022.85
          ],
          [
           237145.4
          ],
          [
           68492.42
          ],
          [
           149629.61
          ],
          [
           85949.19
          ],
          [
           222924.2
          ],
          [
           138598.31
          ],
          [
           122525.12
          ],
          [
           138334.81
          ],
          [
           163328.09
          ],
          [
           121207.64
          ],
          [
           68492.42
          ],
          [
           77467.49
          ],
          [
           63223.78
          ],
          [
           289775.66
          ],
          [
           326733.66
          ],
          [
           168596.74
          ],
          [
           60589.45
          ],
          [
           202842.96
          ],
          [
           93781.94
          ],
          [
           84087.62
          ],
          [
           33982.78
          ],
          [
           192305.66
          ],
          [
           91632.19
          ],
          [
           55847.67
          ],
          [
           68492.42
          ],
          [
           125393.83
          ],
          [
           136405.3
          ],
          [
           104319.23
          ],
          [
           57955.13
          ],
          [
           111331.75
          ],
          [
           141199.77
          ],
          [
           67438.69
          ],
          [
           43213.16
          ],
          [
           163328.09
          ],
          [
           205526.01
          ],
          [
           46943.65
          ],
          [
           289775.66
          ],
          [
           99577.45
          ],
          [
           184446.42
          ],
          [
           171271.67
          ],
          [
           205477.28
          ],
          [
           81664.04
          ],
          [
           62711.78
          ],
          [
           47417.83
          ],
          [
           51369.32
          ],
          [
           173906.62
          ],
          [
           146995.28
          ],
          [
           184446.42
          ],
          [
           101182.03
          ],
          [
           57705.38
          ],
          [
           163366.83
          ],
          [
           184446.42
          ],
          [
           102738.64
          ],
          [
           68245.17
          ],
          [
           200208.63
          ],
          [
           38470.25
          ],
          [
           147522.15
          ],
          [
           226551.88
          ],
          [
           115410.76
          ],
          [
           250260.79
          ],
          [
           141990.07
          ],
          [
           57428.26
          ],
          [
           34254.33
          ],
          [
           140741.38
          ],
          [
           92750.2
          ],
          [
           173865.39
          ],
          [
           76150.02
          ],
          [
           44783.51
          ],
          [
           210795.91
          ],
          [
           262115.25
          ],
          [
           171231.07
          ],
          [
           86932.69
          ],
          [
           70283.76
          ],
          [
           171271.67
          ],
          [
           131716.2
          ],
          [
           73234.21
          ],
          [
           43729.78
          ],
          [
           41680.96
          ],
          [
           257531.53
          ],
          [
           168069.88
          ],
          [
           36817.31
          ],
          [
           237145.4
          ],
          [
           266975.89
          ],
          [
           84298.37
          ],
          [
           105397.95
          ],
          [
           183348.96
          ],
          [
           86953.31
          ],
          [
           153686.47
          ],
          [
           52159.61
          ],
          [
           154987.69
          ],
          [
           84298.37
          ],
          [
           113302.8
          ],
          [
           34773.07
          ],
          [
           147557.13
          ],
          [
           172852.64
          ],
          [
           126477.54
          ],
          [
           35988.5
          ],
          [
           107322.36
          ],
          [
           49999.47
          ],
          [
           50517.24
          ],
          [
           93856.88
          ],
          [
           41095.45
          ],
          [
           42623.36
          ],
          [
           50052.15
          ],
          [
           92750.2
          ],
          [
           37670.83
          ],
          [
           313695.32
          ],
          [
           49051.11
          ],
          [
           165172.12
          ],
          [
           121178.91
          ],
          [
           226551.88
          ],
          [
           208111.61
          ],
          [
           127880.63
          ],
          [
           44794.13
          ],
          [
           59426.13
          ],
          [
           125920.69
          ],
          [
           91411.04
          ],
          [
           157917.19
          ],
          [
           81137.18
          ],
          [
           105397.95
          ],
          [
           81664.04
          ],
          [
           110667.85
          ],
          [
           231820.52
          ],
          [
           47417.83
          ],
          [
           138058.14
          ],
          [
           187081.37
          ],
          [
           134350.53
          ],
          [
           66911.83
          ],
          [
           132769.93
          ],
          [
           40645.77
          ],
          [
           65858.1
          ],
          [
           237145.4
          ],
          [
           115937.75
          ],
          [
           171231.07
          ],
          [
           38812.39
          ],
          [
           129112.49
          ],
          [
           115937.75
          ],
          [
           316193.86
          ],
          [
           106110.57
          ],
          [
           150156.47
          ],
          [
           171231.07
          ],
          [
           62170.05
          ],
          [
           95499.52
          ],
          [
           36783.88
          ],
          [
           189716.32
          ],
          [
           228450.07
          ],
          [
           131747.44
          ],
          [
           143834.1
          ],
          [
           152790.8
          ],
          [
           34421.81
          ],
          [
           48471.56
          ],
          [
           82717.77
          ],
          [
           63223.78
          ],
          [
           158059.45
          ],
          [
           115937.75
          ],
          [
           79048.46
          ],
          [
           131716.2
          ],
          [
           68492.42
          ],
          [
           79029.72
          ],
          [
           35826.8
          ],
          [
           36882.11
          ],
          [
           92201.34
          ],
          [
           59711.33
          ],
          [
           73234.21
          ],
          [
           155425.12
          ],
          [
           142253.5
          ],
          [
           208111.61
          ],
          [
           50064.02
          ],
          [
           89567.02
          ],
          [
           94331.17
          ],
          [
           207057.88
          ],
          [
           163366.83
          ],
          [
           34246.21
          ],
          [
           115937.75
          ],
          [
           179134.04
          ],
          [
           84054.87
          ],
          [
           85899.33
          ],
          [
           131716.2
          ],
          [
           68492.42
          ],
          [
           200256.11
          ],
          [
           260798.09
          ],
          [
           292796.2
          ],
          [
           194986.21
          ],
          [
           255590.04
          ],
          [
           35563.37
          ],
          [
           255529.44
          ],
          [
           250260.79
          ],
          [
           123842.59
          ],
          [
           115937.75
          ],
          [
           57287.8
          ],
          [
           119651
          ],
          [
           34245.11
          ],
          [
           105372.96
          ],
          [
           183875.82
          ],
          [
           231875.5
          ],
          [
           200208.63
          ],
          [
           76740.25
          ],
          [
           83264.38
          ],
          [
           154371.39
          ],
          [
           55333.92
          ],
          [
           165962.42
          ],
          [
           131400.09
          ],
          [
           50052.15
          ],
          [
           142253.5
          ],
          [
           231820.52
          ],
          [
           215482.45
          ],
          [
           110351.66
          ],
          [
           226551.88
          ],
          [
           38461.13
          ],
          [
           39146.05
          ],
          [
           115910.26
          ],
          [
           84318.36
          ],
          [
           129081.88
          ],
          [
           134350.53
          ],
          [
           35308.31
          ],
          [
           290434.24
          ],
          [
           61643.18
          ],
          [
           121705.77
          ],
          [
           51118
          ],
          [
           111194.84
          ],
          [
           82842.79
          ],
          [
           84298.37
          ],
          [
           118572.7
          ],
          [
           262378.68
          ],
          [
           289775.66
          ],
          [
           86953.31
          ],
          [
           71126.75
          ],
          [
           179239.41
          ],
          [
           115437.11
          ],
          [
           175924.99
          ],
          [
           46715.31
          ],
          [
           118572.7
          ],
          [
           76395.4
          ],
          [
           97469.99
          ],
          [
           98787.15
          ],
          [
           53158.18
          ],
          [
           76395.4
          ],
          [
           38461.13
          ],
          [
           139652.29
          ],
          [
           173906.62
          ],
          [
           34983.82
          ],
          [
           77467.49
          ],
          [
           97469.99
          ],
          [
           288721.93
          ],
          [
           57968.87
          ],
          [
           138934.25
          ],
          [
           49273.54
          ],
          [
           210745.93
          ],
          [
           60603.82
          ],
          [
           162393.9
          ],
          [
           135963.36
          ],
          [
           102369.83
          ],
          [
           252895.12
          ],
          [
           46890.97
          ],
          [
           60603.82
          ],
          [
           94835.67
          ],
          [
           34254.33
          ],
          [
           37353.34
          ],
          [
           79029.72
          ],
          [
           147522.15
          ],
          [
           200256.11
          ],
          [
           51632.75
          ],
          [
           152790.8
          ],
          [
           52686.48
          ],
          [
           79048.46
          ],
          [
           143868.21
          ],
          [
           135225.12
          ],
          [
           191620.74
          ],
          [
           110140.86
          ],
          [
           123813.23
          ],
          [
           184402.69
          ],
          [
           242357.82
          ],
          [
           51632.75
          ],
          [
           150192.08
          ],
          [
           36889.28
          ],
          [
           150894.08
          ],
          [
           194939.99
          ],
          [
           115910.26
          ],
          [
           108559.89
          ],
          [
           50591.01
          ],
          [
           158096.93
          ],
          [
           38724.56
          ],
          [
           93781.94
          ],
          [
           52633.79
          ],
          [
           144700.85
          ],
          [
           242357.82
          ],
          [
           115910.26
          ],
          [
           126214.05
          ],
          [
           229186.2
          ],
          [
           100104.31
          ],
          [
           102738.64
          ],
          [
           161258.87
          ],
          [
           43202.91
          ],
          [
           155425.12
          ],
          [
           289775.66
          ],
          [
           44048.85
          ],
          [
           154898.26
          ],
          [
           50157.53
          ],
          [
           177695.7
          ],
          [
           84318.36
          ],
          [
           92223.21
          ],
          [
           146995.28
          ],
          [
           118572.7
          ],
          [
           93804.18
          ],
          [
           137017.34
          ],
          [
           158059.45
          ],
          [
           90620.75
          ],
          [
           247421.7
          ],
          [
           73778.56
          ],
          [
           64556.24
          ],
          [
           108007.29
          ],
          [
           44783.51
          ],
          [
           292900.92
          ],
          [
           168596.74
          ],
          [
           139652.29
          ],
          [
           35890.24
          ],
          [
           150830.86
          ],
          [
           68492.42
          ],
          [
           210745.93
          ],
          [
           86953.31
          ],
          [
           125920.69
          ],
          [
           61643.18
          ],
          [
           106127.01
          ],
          [
           164947.8
          ],
          [
           94835.67
          ],
          [
           34246.21
          ],
          [
           47417.83
          ],
          [
           94858.16
          ],
          [
           237145.4
          ],
          [
           45848.11
          ],
          [
           34254.33
          ],
          [
           194939.99
          ],
          [
           240884.28
          ],
          [
           101445.53
          ],
          [
           78502.86
          ],
          [
           76413.51
          ],
          [
           168596.74
          ],
          [
           45057.62
          ],
          [
           51632.75
          ],
          [
           53832.41
          ],
          [
           118544.58
          ],
          [
           99577.45
          ],
          [
           46469.47
          ],
          [
           73778.56
          ],
          [
           289775.66
          ],
          [
           39514.86
          ],
          [
           76413.51
          ],
          [
           68508.67
          ],
          [
           36880.53
          ],
          [
           274034.68
          ],
          [
           187081.37
          ],
          [
           71653.61
          ],
          [
           97493.1
          ],
          [
           67860.19
          ],
          [
           88513.29
          ],
          [
           80083.45
          ],
          [
           147557.13
          ],
          [
           150192.08
          ],
          [
           47944.7
          ],
          [
           36248.3
          ],
          [
           75783.82
          ],
          [
           131716.2
          ],
          [
           126477.54
          ],
          [
           51644.99
          ],
          [
           262440.91
          ],
          [
           35826.8
          ],
          [
           46364.1
          ],
          [
           94835.67
          ],
          [
           33192.48
          ],
          [
           163328.09
          ],
          [
           115814.11
          ],
          [
           73761.07
          ],
          [
           97469.99
          ],
          [
           178607.18
          ],
          [
           54235.15
          ],
          [
           51105.88
          ],
          [
           115910.26
          ],
          [
           79029.72
          ],
          [
           71143.62
          ],
          [
           91169.23
          ],
          [
           44178.77
          ],
          [
           152790.8
          ],
          [
           121207.64
          ],
          [
           47417.83
          ],
          [
           104319.23
          ],
          [
           57884.47
          ],
          [
           121207.64
          ],
          [
           200256.11
          ],
          [
           52605.29
          ],
          [
           44794.13
          ],
          [
           84313.09
          ],
          [
           236091.42
          ],
          [
           85878.96
          ],
          [
           59535.72
          ],
          [
           81664.04
          ],
          [
           53666.55
          ],
          [
           224339.55
          ],
          [
           67438.69
          ],
          [
           80083.45
          ],
          [
           62696.91
          ],
          [
           46627.53
          ],
          [
           42941.43
          ],
          [
           41095.45
          ],
          [
           80015.91
          ],
          [
           263432.41
          ],
          [
           85668.22
          ],
          [
           55847.67
          ],
          [
           229240.55
          ],
          [
           121178.91
          ],
          [
           67438.69
          ],
          [
           63238.77
          ],
          [
           127584.22
          ],
          [
           57955.13
          ],
          [
           99601.06
          ],
          [
           165467.83
          ],
          [
           77994.48
          ],
          [
           52686.48
          ],
          [
           94203.43
          ],
          [
           187037.01
          ],
          [
           81683.41
          ],
          [
           163064.66
          ],
          [
           55333.92
          ],
          [
           193359.39
          ],
          [
           158096.93
          ],
          [
           72865.4
          ],
          [
           36090.24
          ],
          [
           45447.36
          ],
          [
           167543.01
          ],
          [
           183875.82
          ],
          [
           35299.94
          ],
          [
           55320.8
          ],
          [
           70757.94
          ],
          [
           115910.26
          ],
          [
           289775.66
          ],
          [
           110969.16
          ],
          [
           173906.62
          ],
          [
           44256.64
          ],
          [
           118544.58
          ],
          [
           159320.71
          ],
          [
           63223.78
          ],
          [
           252895.12
          ],
          [
           37934.26
          ],
          [
           92201.34
          ],
          [
           157690.64
          ],
          [
           43729.78
          ],
          [
           84845.35
          ],
          [
           43202.91
          ],
          [
           57968.87
          ],
          [
           316118.9
          ],
          [
           91632.19
          ],
          [
           88513.29
          ],
          [
           65120.49
          ],
          [
           92223.21
          ],
          [
           44783.51
          ],
          [
           71653.61
          ],
          [
           105372.96
          ],
          [
           63223.78
          ],
          [
           36260.68
          ],
          [
           44794.13
          ],
          [
           121863.83
          ],
          [
           105372.96
          ],
          [
           51632.75
          ],
          [
           121178.91
          ],
          [
           47417.83
          ],
          [
           39524.23
          ],
          [
           245050.24
          ],
          [
           110667.85
          ]
         ],
         "hovertemplate": "lat=%{lat}<br>lon=%{lon}<br>price_usd=%{customdata[0]}<extra></extra>",
         "lat": [
          19.56,
          25.69,
          16.77,
          16.83,
          21.05,
          20.72,
          18.81,
          16.77,
          19.31,
          18.8,
          16.78,
          21.05,
          19.56,
          18.01,
          19.39,
          21.34,
          19.34,
          21.52,
          18.86,
          19.02,
          19.4,
          19.43,
          18.99,
          25.62,
          21,
          23.24,
          19.43,
          19.54,
          21.03,
          17.89,
          16.72,
          22.33,
          21.02,
          19.39,
          25.57,
          25.58,
          19.04,
          19.39,
          19.1,
          19.03,
          23.63,
          21.08,
          19.36,
          19.35,
          19.41,
          18.99,
          19.72,
          19.37,
          22.13,
          18.8,
          21.03,
          24.81,
          19.34,
          32.49,
          20.13,
          18.96,
          23.63,
          19.54,
          21.13,
          25.57,
          22.22,
          16.86,
          19.11,
          16.77,
          23.63,
          21.03,
          20.65,
          19.65,
          25.71,
          25.75,
          19.35,
          19.3,
          25.58,
          26.07,
          21.15,
          20.79,
          19.37,
          21,
          19.53,
          20.71,
          29.06,
          18.99,
          24.75,
          19.54,
          28.63,
          20.99,
          22.14,
          19.5,
          19.38,
          18.94,
          19.09,
          19.16,
          18.99,
          18.92,
          21,
          24.15,
          19.38,
          19.32,
          19.7,
          19.38,
          19.4,
          19,
          22.14,
          21.07,
          25.63,
          19.28,
          20.53,
          18.92,
          20.65,
          21.03,
          23.63,
          19.38,
          19.56,
          21.07,
          19.37,
          19.04,
          18.13,
          25.57,
          19.29,
          20.79,
          25.65,
          25.68,
          19.31,
          19.68,
          21.01,
          16.86,
          22.09,
          23.63,
          22.14,
          19.43,
          20.06,
          21.29,
          18.9,
          19.41,
          18.89,
          21.04,
          20.71,
          19.43,
          19.23,
          19.56,
          28.65,
          25.71,
          21.88,
          19.16,
          20.06,
          25.63,
          19.37,
          19.36,
          19.46,
          19.01,
          21.29,
          19.35,
          18.93,
          20.7,
          21.03,
          21,
          18.98,
          19.28,
          22.41,
          18.26,
          19.4,
          21.04,
          19.55,
          19.05,
          19.62,
          23.24,
          19.45,
          21.13,
          19.34,
          25.7,
          19.56,
          19.21,
          21.04,
          16.83,
          20.73,
          23.63,
          19.4,
          19.4,
          17.98,
          20.59,
          21.01,
          21.01,
          19.67,
          18.15,
          25.74,
          20.97,
          22.26,
          20.77,
          18.8,
          19.45,
          21.16,
          22.32,
          19.49,
          19.37,
          19.15,
          21.04,
          16.86,
          20.73,
          23.26,
          21.14,
          25.54,
          21,
          19.36,
          19.37,
          20.65,
          21.04,
          19.35,
          21.01,
          20.65,
          21.03,
          19.37,
          19.14,
          19.38,
          19.38,
          21.04,
          20.76,
          19.27,
          19.19,
          22.12,
          17.99,
          19.47,
          18.85,
          21.05,
          18.94,
          16.81,
          19.53,
          25.86,
          21.17,
          18.88,
          19,
          19.43,
          18.87,
          22.19,
          21.08,
          18.98,
          19.37,
          18.92,
          19.4,
          32.56,
          19.45,
          19.34,
          23.63,
          20.57,
          20.72,
          19.4,
          22.12,
          21.01,
          25.51,
          22.27,
          19.33,
          19.24,
          19.47,
          18.92,
          17.97,
          25.79,
          19.39,
          24.8,
          21.91,
          18.9,
          22.29,
          19.38,
          25.66,
          19.02,
          20.96,
          19.41,
          25.76,
          25.71,
          21.05,
          19.09,
          20.79,
          21.12,
          22.18,
          19.4,
          18.81,
          19.37,
          19.06,
          21.04,
          19.7,
          19.34,
          20.6,
          19.04,
          19.02,
          19.99,
          18.96,
          18.85,
          19.37,
          22.18,
          19.62,
          19.59,
          19.47,
          22.15,
          19.64,
          19.09,
          20.61,
          21,
          25.73,
          19,
          18.92,
          18.92,
          19.06,
          19.37,
          19.04,
          19.36,
          16.78,
          21.04,
          19.47,
          20.7,
          22.89,
          20.55,
          19.35,
          19.28,
          18.99,
          20.68,
          16.88,
          21.53,
          16.75,
          19.43,
          20.62,
          19.73,
          25.52,
          20.42,
          18.8,
          22.13,
          19.4,
          21.03,
          20.65,
          32.43,
          26.06,
          25.6,
          24.13,
          22.24,
          19.05,
          19.45,
          19.25,
          29.03,
          19.46,
          20.77,
          19.34,
          22.16,
          21.06,
          21.14,
          20.55,
          18.95,
          21.15,
          18.88,
          17.97,
          16.74,
          25.76,
          20.61,
          19.47,
          19.27,
          20.72,
          16.77,
          20.97,
          21.02,
          18.86,
          19.12,
          19.36,
          19.36,
          20.99,
          25.45,
          20.94,
          22.27,
          16.78,
          19.69,
          19.64,
          19.01,
          20.65,
          18.91,
          19.07,
          20.71,
          19.54,
          24.81,
          25.87,
          19.37,
          19.38,
          16.76,
          22.32,
          20.58,
          19.4,
          19.65,
          19.59,
          20.63,
          24.08,
          19.14,
          19.27,
          20.1,
          18.15,
          19.33,
          19.39,
          25.78,
          20.7,
          19.37,
          20.96,
          19.4,
          18.88,
          18.98,
          20.62,
          25.65,
          19.18,
          24.01,
          19.47,
          20.65,
          25.57,
          18.81,
          21.12,
          17.97,
          19.17,
          19.35,
          19.4,
          18.95,
          20.59,
          19.41,
          25.68,
          19.32,
          20.71,
          21.01,
          19.53,
          19.17,
          19.14,
          32.67,
          22.27,
          21.02,
          20.59,
          19.14,
          18.97,
          18.81,
          27.49,
          20.66,
          24.14,
          16.84,
          19.13,
          23.63,
          20.61,
          21.03,
          18.93,
          25.44,
          19.47,
          19.51,
          19.33,
          21.07,
          22.15,
          18.88,
          18.03,
          23.63,
          18.92,
          19.01,
          18.86,
          18.95,
          21.04,
          19.47,
          21.07,
          25.53,
          25.65,
          19.5,
          19.56,
          22.16,
          25.68,
          22.15,
          16.86,
          19.42,
          19.55,
          16.87,
          18.81,
          19.4,
          21.02,
          20.06,
          22.27,
          18.95,
          21.34,
          19.04,
          28.66,
          19.28,
          19.49,
          16.73,
          23.63,
          21.04,
          16.8,
          19.69,
          18.92,
          21.03,
          18.97,
          25.72,
          21.02,
          21.14,
          18.89,
          23.26,
          19.36,
          19.43,
          19.37,
          16.75,
          19.43,
          19.45,
          19.55,
          20.61,
          22.16,
          22.17,
          16.77,
          22.25,
          19.37,
          19.38,
          19.31,
          23.63,
          21.04,
          22.18,
          19.11,
          19.64,
          25.5,
          25.46,
          19.48,
          20.61,
          19.18,
          20.96,
          29.08,
          23.63,
          21.04,
          25.74,
          18.97,
          21.89,
          19.3,
          16.73,
          25.7,
          21.89,
          20.62,
          25.67,
          18.94,
          20.7,
          25.56,
          25.58,
          23.28,
          16.75,
          19.39,
          22.15,
          18.94,
          19.33,
          19.46,
          19.07,
          19.5,
          18.87,
          20.73,
          21.08,
          19.44,
          20.97,
          19.16,
          19.04,
          24.82,
          23.3,
          19.36,
          19.39,
          25.76,
          20.56,
          16.74,
          21.03,
          21.15,
          16.73,
          20.71,
          19.4,
          19.34,
          19.37,
          21.03,
          18.86,
          19.46,
          21.31,
          19.33,
          19.5,
          19.38,
          21.01,
          19.11,
          32.46,
          19.1,
          20.39,
          21.07,
          20.65,
          18.9,
          21.07,
          18.92,
          20.95,
          19.4,
          19.05,
          19.31,
          21.05,
          21.34,
          20.59,
          25.72,
          23.63,
          19.27,
          22.14,
          19.39,
          19.17,
          19.33,
          21.06,
          28.69,
          20.64,
          22.13,
          19.04,
          19.37,
          16.85,
          19.15,
          25.75,
          19.54,
          19.67,
          32.47,
          21.03,
          16.72,
          18.81,
          19.47,
          21.07,
          20.62,
          21.08,
          16.87,
          25.58,
          21.02,
          20.04,
          21.04,
          18.89,
          25.55,
          21.14,
          19.68,
          19.27,
          19.72,
          19.42,
          20.68,
          18.98,
          19.29,
          22.15,
          19.44,
          18.02,
          19.01,
          22.26,
          19.38,
          18.93,
          21.03,
          21.07,
          18.92,
          20.68,
          18.82,
          16.85,
          19.05,
          22.34,
          18.86,
          21.02,
          20.57,
          19.39,
          19.44,
          19.38,
          19.42,
          18.86,
          20.69,
          20.39,
          32.45,
          23.63,
          19.62,
          20.06,
          19.47,
          21.04,
          16.76,
          25.63,
          21.16,
          16.86,
          16.87,
          20.69,
          21.08,
          19.38,
          19.03,
          19.43,
          19.39,
          21.04,
          18.9,
          18.98,
          21.07,
          18.81,
          20.42,
          21.04,
          19.28,
          28.65,
          19.57,
          19.28,
          20.71,
          19.28,
          19.14,
          20.68,
          22.32,
          19.44,
          21.1,
          32.51,
          20.62,
          23.22,
          21.04,
          21.07,
          21.07,
          21.02,
          22.13,
          20.55,
          20.68,
          20.96,
          19.4,
          20.4,
          19.54,
          19.45,
          19.15,
          19.34,
          20.1,
          19.47,
          20.58,
          23.63,
          20.59,
          19.23,
          32.44,
          19.51,
          23.63,
          28.7,
          24.77,
          26.08,
          28.95,
          25.63,
          20.66,
          21.05,
          16.74,
          19.4,
          18.96,
          20.7,
          28.64,
          19.31,
          19.38,
          19.26,
          19.28,
          25.55,
          18.93,
          19.35,
          16.84,
          19.48,
          24.84,
          21.1,
          21.16,
          25.65,
          25.64,
          29.09,
          24.16,
          20.78,
          22.25,
          19.57,
          21.04,
          20.56,
          19.41,
          19.26,
          18.82,
          19.38,
          21.02,
          18.89,
          19.64,
          21.04,
          18.13,
          21.08,
          19.4,
          18.07,
          21.07,
          22.25,
          22.15,
          32.49,
          22.19,
          18.96,
          18.89,
          28.64,
          19.35,
          19.38,
          19.52,
          16.76,
          21.08,
          19.02,
          21.92,
          21.14,
          19.39,
          25.73,
          24.14,
          20.58,
          25.73,
          19.67,
          19.4,
          21,
          20.68,
          16.86,
          20.76,
          21.03,
          19.34,
          25.6,
          19.67,
          19.65,
          25.77,
          22.23,
          25.72,
          19.04,
          19.56,
          25.58,
          19.06,
          23.63,
          19.34,
          19.4,
          20.68,
          19.53,
          22.31,
          22.29,
          18.86,
          20.73,
          20.72,
          19.14,
          19.29,
          18.92,
          21.15,
          19.03,
          25.57,
          18.81,
          21.04,
          18.8,
          25.58,
          19.23,
          20.76,
          19.38,
          20.65,
          19.37,
          20.6,
          21.93,
          22.13,
          19.05,
          19.03,
          18.95,
          19.34,
          20.96,
          19.55,
          22.31,
          18.89,
          21.03,
          19.1,
          19.35,
          21.01,
          19.26,
          19.42,
          19.47,
          19.13,
          19.41,
          32.47,
          19.52,
          21.04,
          20.63,
          19.17,
          16.76,
          20.57,
          20.62,
          21.06,
          25.75,
          19.04,
          19.36,
          19.7,
          19.42,
          18.15,
          16.79,
          20.59,
          18.92,
          19.07,
          16.76,
          19.65,
          19.73,
          23.63,
          21,
          21.04,
          19.11,
          21.04,
          19.14,
          32.63,
          21.04,
          25.54,
          20.71,
          25.66,
          22.27,
          18.87,
          20.7,
          19.29,
          19.5,
          23.63,
          23.63,
          20.39,
          16.83,
          20.71,
          19.36,
          18.86,
          19.34,
          23.63,
          29.06,
          25.8,
          20.6,
          19.06,
          23.63,
          20.73,
          21.03,
          18.91,
          20.97,
          25.67,
          21.04,
          18.85,
          20.73,
          19.06,
          22.27,
          20.75,
          20.61,
          22.15,
          21.04,
          25.72,
          19.56,
          19.47,
          18.86,
          19.51,
          20.97,
          19.37,
          22.25,
          19.3,
          16.79,
          22.3,
          20.75,
          26.85,
          23.63,
          19.02,
          20.05,
          21.06,
          19.4,
          24.04,
          25.55,
          20.57,
          19.48,
          18.95,
          18.89,
          22.14,
          19.27,
          21.07,
          18.46,
          19.6,
          27.93,
          24.79,
          19.5,
          21.07,
          19.42,
          21.01,
          18.86,
          19.37,
          23.63,
          16.76,
          20.7,
          19.02,
          21.18,
          16.86,
          17.97,
          19.31,
          25.59,
          21.16,
          21.03,
          19.4,
          21.06,
          19.51,
          20.6,
          23.27,
          23.63,
          16.86,
          18.88,
          18.86,
          19.4,
          25.56,
          25.57,
          18.86,
          28.66,
          28.68,
          22.25,
          16.77,
          20.55,
          22.19,
          18.86,
          22.13,
          26.08,
          19.13,
          19.34,
          19.52,
          19.55,
          19.36,
          19.69,
          19.33,
          20.62,
          32.65,
          22.14,
          18.98,
          20.62,
          18.89,
          22.33,
          19.32,
          16.71,
          19.3,
          20.95,
          20.97,
          19.32,
          18.88,
          25.63,
          19.4,
          19.47,
          18.93,
          20.52,
          25.66,
          23.25,
          18.97,
          16.75,
          19.34,
          19.4,
          19.68,
          25.72,
          20.6,
          25.67,
          19.4,
          20.96,
          16.23,
          20.69,
          19.26,
          20.73,
          19.4,
          32.45,
          21.9,
          20.3,
          19.08,
          19.49,
          19.32,
          21.13,
          19.05,
          19.35,
          18.86,
          20.65,
          25.75,
          21.01,
          18.89,
          19.32,
          22.25,
          23.63,
          19.37,
          20.59,
          25.69,
          20.59,
          23.63,
          18.99,
          19.04,
          20.12,
          20.73,
          19.4,
          21.02,
          20.12,
          25.51,
          19.48,
          21.03,
          20.68,
          21.96,
          32.47,
          22.33,
          21.04,
          19.7,
          16.87,
          19.77,
          19.37,
          19.28,
          19.39,
          21.04,
          19.67,
          19.01,
          32.49,
          19.31,
          22.14,
          20.64,
          30.73,
          19.55,
          19.41,
          20.6,
          23.63,
          19.34,
          21.08,
          22.26,
          16.85,
          19.03,
          19.31,
          23.2,
          28.63,
          21.04,
          16.88,
          24.13,
          19.27,
          19.41,
          21,
          18.95,
          19.49,
          17.65,
          19.27,
          21.16,
          19.38,
          19.28,
          20.66,
          20.96,
          22.14,
          19.44,
          21.05,
          19.62,
          18.92,
          17.96,
          19.3,
          20.95,
          19.63,
          24.04,
          21.11,
          19.45,
          18.91,
          18.84,
          19.38,
          25.56,
          20.76,
          19.39,
          28.63,
          19,
          19.4,
          20.73,
          18.8,
          18.89,
          20.4,
          22.13,
          19.56,
          20.73,
          25.76,
          22.16,
          20.73,
          19.48,
          20.65,
          19.06,
          25.37,
          23.63,
          32.59,
          19.38,
          18.97,
          24.16,
          21.07,
          25.76,
          19.04,
          19.39,
          19.53,
          19.3,
          23.63,
          20.71,
          19.05,
          25.74,
          19.1,
          22.15,
          21.13,
          18.92,
          19.47,
          19.23,
          18.92,
          21.08,
          19.53,
          19.26,
          19.27,
          19.51,
          20.69,
          21.04,
          21.13,
          21,
          19.67,
          19.44,
          19.4,
          21.13,
          25.63,
          19.52,
          19.39,
          20.95,
          18.92,
          16.86,
          19.14,
          19.4,
          21.04,
          25.44,
          32.43,
          19.48,
          19.38,
          25.74,
          16.77,
          20.65,
          19.39,
          18.89,
          21.14,
          19.41,
          19.41,
          18.9,
          19.43,
          19.6,
          19.53,
          18.82,
          23.63,
          21.14,
          18.77,
          22.17,
          23.63,
          19.1,
          19.52,
          19.28,
          15.75,
          19.3,
          19.34,
          16.87,
          18.93,
          19.53,
          19.04,
          19.05,
          18.98,
          19.4,
          18.86,
          20.59,
          18.99,
          22.13,
          25.59,
          19.3,
          20.7,
          19.67,
          20.96,
          20.64,
          19.67,
          18,
          19.51,
          18.94,
          32.49,
          18.98,
          20.6,
          21.02,
          28.63,
          20.72,
          20.73,
          18.77,
          19.41,
          19.67,
          28.61,
          23.63,
          17.93,
          20.57,
          19.16,
          20.96,
          25.78,
          21.04,
          20.54,
          19.16,
          19.28,
          18.91,
          19.34,
          20.57,
          18.93,
          19.37,
          20.58,
          19.43,
          16.77,
          19.46,
          18.9,
          16.75,
          20.52,
          18.89,
          19.68,
          20.58,
          19.07,
          21.16,
          18.95,
          18.8,
          25.48,
          20.54,
          19.34,
          19.27,
          20.54,
          25.73,
          18.84,
          19.37,
          19.29,
          19.39,
          19.29,
          20.54,
          19.07,
          20.61,
          18.98,
          19.66,
          21.03,
          19.71,
          19.48,
          28.66,
          20.73,
          19.14,
          19.52,
          20.7,
          20.09,
          32.6,
          16.77,
          21.04,
          18.99,
          18.9,
          19.12,
          19.35,
          22.14,
          29.08,
          19.04,
          19.51,
          18.85,
          25.76,
          20.73,
          19.56,
          19.35,
          18.94,
          19.03,
          19.23,
          21.04,
          18.94,
          18.05,
          21,
          20.98,
          18.86,
          19.4,
          20.71,
          24.81,
          18.94,
          21.01,
          21.17,
          18.95,
          18.95,
          18.88,
          20.59,
          21,
          19.34,
          16.77,
          28.63,
          20.59,
          18.86,
          20.6,
          21.18,
          25.67,
          16.86,
          23.3,
          21,
          19.67,
          25.67,
          20.66,
          19.52,
          23.29,
          19.42,
          19.64,
          20.08,
          18.85,
          19.3,
          19.44,
          19.4,
          19.67,
          32.49,
          20.71,
          16.86,
          19.1,
          19.48,
          18.98,
          20.62,
          19.51,
          19.53,
          19.39,
          18.88,
          20.59,
          18.96,
          20.63,
          18.66,
          19.07,
          22.29,
          19.31,
          19.36,
          22.19,
          20.73,
          19.42,
          19.57,
          18.89,
          22.15,
          18.99,
          19.43,
          19.45,
          21.46,
          19.33,
          19.38,
          22.14,
          19.55,
          20.54,
          19.45,
          19.54,
          19.38,
          16.86,
          23.23,
          21.01,
          16.85,
          18.14,
          18.99,
          25.54,
          21.04,
          19.34,
          20.7,
          19.45,
          19.26,
          19.28,
          20.65,
          23.63,
          20.59,
          19.03,
          19.49,
          19.12,
          18.15,
          19.49,
          25.67,
          19.54,
          19.67,
          19.3,
          32.42,
          18.86,
          18.94,
          19.35,
          25.66,
          19.56,
          25.65,
          19.45,
          16.87,
          16.77,
          23.63,
          19.32,
          16.85,
          21.03,
          19.36,
          19.34,
          19.45,
          22.39,
          19.31,
          24.03,
          19.37,
          22.14,
          25.58,
          19.52,
          20.61,
          22.16,
          18.85,
          19.12,
          19.3,
          16.76,
          18.81,
          19.83,
          20.59,
          20.04,
          19.4,
          20.62,
          21.2,
          21.03,
          19.34,
          25.68,
          21.03,
          18.94,
          20.61,
          19.47,
          19.52,
          20.57,
          18.15,
          19.4,
          19.28,
          19.63,
          18.9,
          19.46,
          20.73,
          20.55,
          19.4,
          20.65,
          16.77,
          18.95,
          25.7,
          19.27,
          23.63,
          19.4,
          19.23,
          19.38,
          21.07,
          19.04,
          19.65,
          19.61,
          18,
          19.11,
          18.91,
          20.78,
          25.77,
          24.17,
          32.46,
          20.73,
          17.06,
          19.55,
          21.04,
          19.37,
          18.92,
          25.66,
          18.95,
          20.61,
          16.77,
          19.49,
          20.63,
          25.65,
          19.36,
          20.63,
          25.64,
          21.14,
          16.87,
          19.4,
          19.48,
          19.55,
          22.28,
          18.96,
          19.52,
          21.03,
          19.67,
          19.51,
          19.3,
          19.49,
          19.33,
          29.11,
          19.71,
          25.59,
          24.16,
          19.48,
          19.4,
          28.68,
          21.01,
          23.63,
          19.58,
          20.57,
          20.99,
          18.95,
          25.69,
          32.49,
          20.75,
          19.56,
          20.53,
          22.13,
          19.3,
          19.49,
          20.65,
          19.38,
          20.88,
          25.69,
          18.8,
          20.7,
          19.59,
          18.97,
          25.53,
          20.59,
          19.02,
          19.45,
          21.14,
          19.2,
          23.29,
          19.28,
          25.74,
          18.9,
          19.37,
          21.04,
          23.63,
          19.38,
          18.93,
          19.38,
          18.89,
          25.68,
          19.41,
          19.41,
          19.37,
          22.1,
          19.3,
          19.57,
          19.55,
          21.06,
          22.29,
          20.52,
          19.44,
          25.44,
          22.14,
          21,
          22.33,
          18.86,
          19.05,
          18.88,
          18.93,
          18.94,
          25.74,
          19.41,
          19.36,
          19.27,
          19.49,
          20.55,
          20.57,
          32.46,
          19.35,
          21.04,
          20.3,
          20.38,
          18.8,
          20.6,
          22.27,
          22.31,
          18.81,
          20.71,
          25.66,
          19.06,
          21.9,
          19.83,
          19.49,
          19.51,
          28.7,
          19.45,
          19.08,
          23.63,
          18.92,
          16.74,
          20.95,
          22.19,
          19.12,
          19.5,
          21.14,
          20.66,
          21.31,
          19.39,
          21.07,
          20.95,
          25.72,
          19.41,
          22.13,
          21.02,
          19.32,
          20.65,
          19.71,
          19.46,
          21.07,
          22.31,
          20.55,
          19.31,
          16.75,
          19.7,
          25.53,
          22.14,
          21.04,
          18.83,
          20.56,
          21.18,
          19.4,
          20.54,
          19.34,
          19.53,
          20.76,
          21.01,
          19.38,
          23.63,
          22.27,
          16.86,
          19.13,
          19.08,
          20.39,
          21.17,
          32.47,
          21.06,
          23.63,
          20.75,
          22.29,
          19.06,
          18.97,
          19.3,
          21,
          19.4,
          19.66,
          21.03,
          19.26,
          18.74,
          21.04,
          21.15,
          18.95,
          19.38,
          24.82,
          19.52,
          20.69,
          19.55,
          28.67,
          20.91,
          23.63,
          20.62,
          22.19,
          21.03,
          16.75,
          19.28,
          21.08,
          19.38,
          19.45,
          21,
          22,
          25.71,
          19.29,
          24.02,
          19.54,
          19.34,
          20.59,
          20.67,
          23.26,
          19.52,
          27.49,
          19.39,
          25.71,
          28.63,
          22.29,
          18.93,
          19.29,
          18.84,
          25.72,
          19.75,
          19.06,
          19.48,
          18.96,
          19.39,
          19.61,
          19.16,
          16.78,
          21.04,
          18.01,
          19.44,
          20.12,
          20.97,
          19.39,
          19.38,
          23.63,
          19.5,
          24.81,
          19.31,
          18.84,
          25.51,
          20.53,
          18.93,
          21.03,
          22.12,
          19.23
         ],
         "lon": [
          -99.23,
          -100.2,
          -99.76,
          -99.91,
          -89.54,
          -100.45,
          -98.95,
          -93.09,
          -99.65,
          -98.93,
          -99.79,
          -89.68,
          -99.23,
          -92.9,
          -99.16,
          -89.32,
          -99.22,
          -104.91,
          -99.24,
          -98.19,
          -99.16,
          -99.11,
          -98.28,
          -103.4,
          -89.6,
          -106.41,
          -99.17,
          -99.18,
          -89.6,
          -92.92,
          -93.16,
          -97.89,
          -89.59,
          -99.15,
          -103.33,
          -103.38,
          -98.21,
          -99.11,
          -96.16,
          -98.21,
          -102.55,
          -89.52,
          -99.23,
          -99.25,
          -99.15,
          -98.21,
          -99.21,
          -99.02,
          -101.02,
          -98.93,
          -89.63,
          -107.47,
          -99.22,
          -116.91,
          -98.74,
          -99.21,
          -102.55,
          -99.24,
          -86.82,
          -100.24,
          -97.85,
          -99.87,
          -96.11,
          -99.77,
          -102.55,
          -89.62,
          -100.35,
          -99.22,
          -100.15,
          -100.24,
          -99.16,
          -99.21,
          -103.38,
          -98.35,
          -86.82,
          -103.44,
          -99.14,
          -89.64,
          -99.23,
          -100.44,
          -110.98,
          -98.28,
          -107.4,
          -99.11,
          -106.07,
          -89.57,
          -100.9,
          -99.1,
          -99.16,
          -99.24,
          -98.29,
          -96.15,
          -98.2,
          -98.96,
          -89.59,
          -110.32,
          -99.18,
          -99.24,
          -99.23,
          -99.16,
          -99.18,
          -98.18,
          -101.03,
          -89.66,
          -100.17,
          -99.59,
          -103.48,
          -98.94,
          -103.45,
          -89.6,
          -102.55,
          -99.18,
          -99.23,
          -89.66,
          -99.22,
          -98.33,
          -94.48,
          -103.43,
          -99.69,
          -103.44,
          -100.41,
          -100.46,
          -98.9,
          -99.23,
          -89.59,
          -99.91,
          -100.9,
          -102.55,
          -101.02,
          -99.23,
          -98.79,
          -89.6,
          -99.06,
          -99.17,
          -99.22,
          -89.56,
          -100.45,
          -99.11,
          -99.56,
          -99.23,
          -106.11,
          -100.21,
          -102.33,
          -96.14,
          -98.77,
          -100.3,
          -99.17,
          -99.3,
          -99.11,
          -98.22,
          -89.6,
          -99.13,
          -99.25,
          -100.47,
          -89.6,
          -89.58,
          -98.27,
          -99.66,
          -97.93,
          -93.18,
          -99.07,
          -89.56,
          -99.21,
          -98.25,
          -99.2,
          -106.43,
          -99.18,
          -86.82,
          -99.05,
          -100.3,
          -96.94,
          -96.2,
          -89.56,
          -99.91,
          -100.44,
          -102.55,
          -99.2,
          -99.17,
          -92.97,
          -100.39,
          -89.57,
          -89.59,
          -101.21,
          -94.44,
          -100.41,
          -89.63,
          -97.82,
          -103.41,
          -99.23,
          -99.14,
          -86.85,
          -97.89,
          -99.21,
          -99.16,
          -96.16,
          -89.64,
          -99.89,
          -100.44,
          -106.41,
          -86.85,
          -103.38,
          -89.56,
          -99.16,
          -99.22,
          -100.35,
          -89.6,
          -99.09,
          -89.59,
          -100.35,
          -89.6,
          -99.14,
          -96.11,
          -99.19,
          -99.17,
          -89.56,
          -103.41,
          -99.58,
          -96.13,
          -100.95,
          -92.93,
          -99.59,
          -98.95,
          -89.67,
          -99.24,
          -99.82,
          -99.25,
          -97.5,
          -101.63,
          -99.15,
          -98.27,
          -99.23,
          -99.19,
          -101.01,
          -89.52,
          -98.22,
          -99.15,
          -99.22,
          -99.15,
          -115.32,
          -99.12,
          -99.1,
          -102.55,
          -103.48,
          -105.27,
          -99.16,
          -101.02,
          -89.57,
          -103.36,
          -97.88,
          -99.58,
          -99.62,
          -99.27,
          -98.96,
          -92.95,
          -100.27,
          -99.17,
          -107.46,
          -102.29,
          -99.23,
          -97.84,
          -99.14,
          -100.29,
          -98.22,
          -89.62,
          -99.17,
          -100.41,
          -100.25,
          -89.54,
          -98.23,
          -103.48,
          -101.6,
          -101.03,
          -99.18,
          -99.21,
          -99.16,
          -98.27,
          -89.55,
          -98.98,
          -99.22,
          -100.36,
          -98.22,
          -98.26,
          -102.28,
          -99.26,
          -99.21,
          -99.3,
          -101.03,
          -99.21,
          -99.28,
          -99.18,
          -100.89,
          -99.18,
          -96.13,
          -100.33,
          -89.6,
          -100.4,
          -98.24,
          -99.18,
          -99.21,
          -98.3,
          -99.14,
          -98.3,
          -99.27,
          -93.12,
          -89.56,
          -99.16,
          -103.33,
          -109.95,
          -100.38,
          -99.24,
          -99.56,
          -98.19,
          -103.43,
          -99.88,
          -104.92,
          -93.07,
          -99.18,
          -100.35,
          -99.46,
          -103.41,
          -100,
          -98.93,
          -100.98,
          -99.18,
          -89.62,
          -105.2,
          -117.03,
          -98.32,
          -103.41,
          -110.32,
          -97.84,
          -98.19,
          -99.17,
          -99.61,
          -110.97,
          -99.16,
          -103.39,
          -99.24,
          -100.99,
          -89.61,
          -89.64,
          -100.41,
          -99.27,
          -86.85,
          -99.16,
          -92.92,
          -93.09,
          -100.26,
          -100.37,
          -99.09,
          -99.21,
          -103.42,
          -93.18,
          -89.59,
          -89.57,
          -99.21,
          -96.11,
          -99.13,
          -98.98,
          -89.63,
          -100.94,
          -89.62,
          -97.85,
          -93.1,
          -101.18,
          -99.1,
          -98.25,
          -103.45,
          -99.22,
          -96.07,
          -100.44,
          -99.22,
          -107.39,
          -97.51,
          -99.1,
          -99.16,
          -93.13,
          -97.87,
          -101.2,
          -99.15,
          -101.24,
          -99.29,
          -100.39,
          -110.3,
          -96.14,
          -99.55,
          -98.76,
          -94.51,
          -99.24,
          -99.17,
          -100.19,
          -100.47,
          -99.26,
          -89.66,
          -99.29,
          -96.92,
          -98.25,
          -100.39,
          -100.3,
          -99.59,
          -104.61,
          -99.19,
          -100.38,
          -103.38,
          -98.95,
          -86.88,
          -92.96,
          -96.16,
          -99.29,
          -99.28,
          -99.27,
          -100.39,
          -99.16,
          -100.26,
          -99.09,
          -100.45,
          -89.61,
          -96.9,
          -96.13,
          -96.11,
          -115.43,
          -97.85,
          -89.63,
          -100.39,
          -96.13,
          -99.29,
          -98.95,
          -109.96,
          -87.05,
          -110.34,
          -99.85,
          -96.11,
          -102.55,
          -103.39,
          -89.61,
          -99.21,
          -100.95,
          -99.18,
          -99.26,
          -99.23,
          -89.66,
          -101.04,
          -99.18,
          -92.98,
          -102.55,
          -98.42,
          -98.17,
          -99.2,
          -99.22,
          -89.59,
          -99.19,
          -89.66,
          -103.32,
          -100.34,
          -99.05,
          -99.25,
          -100.94,
          -100.45,
          -101.02,
          -99.85,
          -99.27,
          -99.02,
          -99.87,
          -98.95,
          -99.13,
          -89.57,
          -98.77,
          -97.87,
          -99.48,
          -89.26,
          -98.33,
          -106.07,
          -99.21,
          -99.18,
          -93.14,
          -102.55,
          -89.59,
          -99.82,
          -99.21,
          -99.17,
          -89.6,
          -98.28,
          -100.39,
          -89.66,
          -86.77,
          -99.19,
          -106.46,
          -99.15,
          -99.2,
          -99.29,
          -93.15,
          -99.18,
          -99.14,
          -99.23,
          -100.34,
          -100.98,
          -100.95,
          -93.11,
          -97.86,
          -99.23,
          -99.29,
          -98.22,
          -102.55,
          -89.56,
          -100.98,
          -98.28,
          -99.1,
          -103.41,
          -100.88,
          -99.2,
          -100.39,
          -96.13,
          -97.4,
          -110.99,
          -102.55,
          -89.56,
          -100.37,
          -99.24,
          -102.26,
          -99.11,
          -93.1,
          -100.46,
          -102.29,
          -103.39,
          -100.31,
          -99.24,
          -100.47,
          -103.39,
          -100.24,
          -106.41,
          -93.09,
          -99.17,
          -101.04,
          -99.22,
          -99.13,
          -99.21,
          -98.27,
          -99.23,
          -99.23,
          -100.44,
          -89.52,
          -98.1,
          -89.62,
          -99.57,
          -98.21,
          -107.43,
          -106.48,
          -99.18,
          -99.19,
          -100.27,
          -100.37,
          -93.18,
          -89.58,
          -86.83,
          -92.63,
          -100.44,
          -99.13,
          -99.22,
          -99.17,
          -89.6,
          -98.93,
          -99.13,
          -89.53,
          -99.08,
          -99.11,
          -99.18,
          -89.62,
          -96.11,
          -116.88,
          -98.36,
          -99.97,
          -89.62,
          -100.38,
          -99.07,
          -89.66,
          -98.96,
          -97.36,
          -99.15,
          -98.28,
          -99.17,
          -89.56,
          -89.26,
          -100.42,
          -100.35,
          -102.55,
          -99.57,
          -101,
          -99.13,
          -96.16,
          -99.14,
          -89.66,
          -106.14,
          -103.42,
          -100.94,
          -98.2,
          -99.19,
          -99.84,
          -96.12,
          -100.27,
          -99.24,
          -101.19,
          -116.82,
          -89.65,
          -93.16,
          -99.2,
          -99.09,
          -89.66,
          -100.35,
          -89.52,
          -99.87,
          -103.38,
          -89.57,
          -98.78,
          -89.6,
          -99.22,
          -103.39,
          -86.85,
          -101.21,
          -99.15,
          -101.12,
          -99.25,
          -101.41,
          -98.22,
          -99.16,
          -101.01,
          -99.14,
          -92.9,
          -98.17,
          -97.85,
          -99.22,
          -99.25,
          -89.6,
          -89.66,
          -99.24,
          -100.33,
          -98.95,
          -99.82,
          -98.28,
          -97.89,
          -99.21,
          -89.59,
          -103.5,
          -99.18,
          -99.15,
          -99.19,
          -99.17,
          -99.18,
          -100.47,
          -99.97,
          -117.04,
          -102.55,
          -99.15,
          -98.79,
          -99.04,
          -89.56,
          -99.77,
          -100.2,
          -86.82,
          -99.87,
          -99.88,
          -103.45,
          -89.52,
          -99.17,
          -98.31,
          -99.21,
          -99.18,
          -89.56,
          -99.17,
          -98.22,
          -89.66,
          -99.2,
          -103.3,
          -89.59,
          -99.57,
          -106.09,
          -99.26,
          -98.95,
          -105.27,
          -99.17,
          -96.11,
          -103.42,
          -97.86,
          -99.17,
          -86.87,
          -116.99,
          -103.41,
          -106.42,
          -89.56,
          -89.66,
          -89.66,
          -89.71,
          -100.99,
          -100.39,
          -103.4,
          -97.41,
          -99.18,
          -99.99,
          -99.23,
          -99.18,
          -96.12,
          -99.13,
          -98.77,
          -99.12,
          -100.37,
          -102.55,
          -100.45,
          -103.7,
          -116.98,
          -96.9,
          -102.55,
          -106.09,
          -107.44,
          -98.33,
          -111.05,
          -100.19,
          -100.44,
          -86.85,
          -93.13,
          -99.15,
          -99.27,
          -100.46,
          -106.11,
          -99.12,
          -99.29,
          -99.58,
          -99.17,
          -103.51,
          -99.25,
          -99.01,
          -99.9,
          -99.26,
          -107.39,
          -86.86,
          -86.87,
          -100.36,
          -100.3,
          -110.97,
          -110.31,
          -103.47,
          -97.87,
          -99.3,
          -89.56,
          -100.38,
          -99.16,
          -99.16,
          -99.23,
          -99.19,
          -89.57,
          -99.2,
          -99.1,
          -89.56,
          -94.48,
          -89.63,
          -99.15,
          -93.17,
          -89.66,
          -97.88,
          -101,
          -117.02,
          -100.95,
          -98.28,
          -99.19,
          -106.13,
          -99.17,
          -99.14,
          -99.15,
          -99.77,
          -89.52,
          -98.21,
          -102.28,
          -86.84,
          -99.15,
          -100.23,
          -110.35,
          -103.43,
          -100.35,
          -99.02,
          -99.28,
          -89.57,
          -87.04,
          -99.88,
          -103.38,
          -89.56,
          -98.22,
          -103.42,
          -101.24,
          -99.22,
          -100.43,
          -97.86,
          -100.4,
          -98.33,
          -99.25,
          -100.24,
          -98.21,
          -102.55,
          -99.17,
          -99.26,
          -100.46,
          -99.23,
          -97.86,
          -97.89,
          -98.93,
          -100.44,
          -105.27,
          -96.11,
          -99.67,
          -99.22,
          -86.87,
          -98.27,
          -100.22,
          -98.95,
          -89.56,
          -98.96,
          -100.26,
          -99.57,
          -103.39,
          -99.08,
          -105.23,
          -99.17,
          -100.41,
          -102.3,
          -101.02,
          -98.25,
          -98.31,
          -99.2,
          -99.22,
          -97.39,
          -99.21,
          -97.86,
          -99.02,
          -89.6,
          -96.11,
          -99.18,
          -89.58,
          -99.54,
          -98.92,
          -99.09,
          -96.1,
          -99.1,
          -117,
          -99.26,
          -89.56,
          -87.07,
          -96.12,
          -93.18,
          -100.41,
          -103.26,
          -89.61,
          -100.3,
          -98.19,
          -99.13,
          -101.27,
          -99.15,
          -94.46,
          -99.83,
          -100.37,
          -98.98,
          -96.09,
          -99.77,
          -99.22,
          -99.46,
          -102.55,
          -89.63,
          -89.56,
          -98.24,
          -89.59,
          -96.12,
          -115.39,
          -89.56,
          -103.3,
          -105.27,
          -103.37,
          -97.85,
          -99.18,
          -100.45,
          -99.19,
          -99.24,
          -102.55,
          -102.55,
          -99.96,
          -99.86,
          -100.44,
          -99.15,
          -98.93,
          -99.22,
          -102.55,
          -110.98,
          -100.2,
          -100.35,
          -98.29,
          -102.55,
          -100.44,
          -89.59,
          -98.94,
          -89.63,
          -100.46,
          -89.56,
          -98.94,
          -100.44,
          -98.24,
          -97.85,
          -103.43,
          -100.42,
          -100.97,
          -89.56,
          -100.39,
          -96.94,
          -99.19,
          -99.21,
          -98.88,
          -89.59,
          -99.3,
          -97.84,
          -99.24,
          -99.83,
          -97.9,
          -103.67,
          -101.42,
          -102.55,
          -98.21,
          -98.76,
          -89.61,
          -99.16,
          -104.64,
          -103.43,
          -100.39,
          -99.19,
          -99.22,
          -99.22,
          -101.04,
          -99.6,
          -89.52,
          -97.41,
          -99.05,
          -110.94,
          -107.38,
          -99.12,
          -89.66,
          -98.14,
          -89.59,
          -98.93,
          -99.08,
          -102.55,
          -93.13,
          -105.27,
          -98.21,
          -86.82,
          -99.92,
          -92.92,
          -99.23,
          -103.46,
          -86.85,
          -89.62,
          -99.14,
          -89.66,
          -99.23,
          -100.33,
          -106.39,
          -102.55,
          -99.86,
          -98.98,
          -99.21,
          -99.15,
          -103.48,
          -103.44,
          -99.2,
          -106.09,
          -100.54,
          -97.82,
          -93.11,
          -100.41,
          -100.96,
          -98.93,
          -100.98,
          -98.28,
          -96.11,
          -99.21,
          -99.27,
          -99.25,
          -99.29,
          -99.23,
          -99.1,
          -103.32,
          -115.42,
          -100.9,
          -98.25,
          -100.39,
          -99.2,
          -97.88,
          -99.14,
          -93.18,
          -99.64,
          -97.42,
          -89.6,
          -99.09,
          -99.18,
          -103.5,
          -99.15,
          -99.08,
          -99.25,
          -99.9,
          -100.18,
          -106.4,
          -99.25,
          -99.76,
          -99.22,
          -99.2,
          -99.12,
          -100.27,
          -100.43,
          -100.26,
          -99.15,
          -89.68,
          -92.13,
          -103.39,
          -99.6,
          -100.44,
          -99.16,
          -116.97,
          -102.34,
          -103.24,
          -98.27,
          -99.11,
          -99.06,
          -86.82,
          -98.25,
          -99.29,
          -99.2,
          -100.35,
          -100.4,
          -89.57,
          -99.07,
          -99.24,
          -97.86,
          -102.55,
          -99.23,
          -100.33,
          -100.36,
          -103.4,
          -102.55,
          -98.23,
          -98.26,
          -98.78,
          -105.29,
          -99.18,
          -89.61,
          -98.74,
          -103.36,
          -99.18,
          -89.6,
          -100.34,
          -102.34,
          -116.96,
          -97.88,
          -89.56,
          -101.15,
          -99.87,
          -98.65,
          -99.13,
          -99.03,
          -99.16,
          -89.56,
          -99.22,
          -98.2,
          -117.02,
          -99.14,
          -101.03,
          -103.43,
          -115.98,
          -99.25,
          -99.16,
          -100.33,
          -102.55,
          -99.19,
          -89.52,
          -97.87,
          -99.82,
          -98.27,
          -99.6,
          -106.42,
          -106.12,
          -89.6,
          -99.94,
          -110.33,
          -99.59,
          -99.18,
          -89.58,
          -99.27,
          -99.27,
          -101.55,
          -99.64,
          -86.85,
          -99.19,
          -99.21,
          -103.32,
          -97.41,
          -100.9,
          -99.2,
          -89.54,
          -99.15,
          -98.44,
          -92.97,
          -99.14,
          -97.36,
          -99.3,
          -110.31,
          -86.85,
          -99.17,
          -99.24,
          -98.93,
          -99.19,
          -103.45,
          -103.34,
          -99.19,
          -106.07,
          -98.24,
          -99.15,
          -100.44,
          -99.23,
          -98.97,
          -99.99,
          -100.93,
          -99.27,
          -100.44,
          -100.4,
          -101.04,
          -100.44,
          -99.14,
          -100.44,
          -98.33,
          -100.99,
          -102.55,
          -115.36,
          -99.16,
          -98.21,
          -110.31,
          -89.66,
          -100.32,
          -98.3,
          -99.04,
          -99.16,
          -98.26,
          -102.55,
          -100.47,
          -98.1,
          -100.28,
          -96.12,
          -100.96,
          -101.61,
          -98.96,
          -99.15,
          -99.56,
          -98.43,
          -89.52,
          -99.15,
          -99.57,
          -99.67,
          -96.87,
          -103.37,
          -89.62,
          -86.82,
          -101.29,
          -101.23,
          -99.14,
          -99.13,
          -101.62,
          -100.28,
          -99.16,
          -99.22,
          -97.4,
          -99.24,
          -99.88,
          -96.12,
          -99.15,
          -89.56,
          -100.99,
          -117.03,
          -98.87,
          -99.19,
          -100.39,
          -93.09,
          -103.37,
          -99.2,
          -99.18,
          -86.85,
          -99.17,
          -99.14,
          -99.21,
          -99.15,
          -99.05,
          -99.24,
          -98.94,
          -102.55,
          -86.87,
          -95.76,
          -101.05,
          -102.55,
          -98.87,
          -96.89,
          -99.21,
          -96.14,
          -99.23,
          -99.21,
          -99.89,
          -99.25,
          -99.02,
          -98.27,
          -98.23,
          -99.21,
          -99.15,
          -99.21,
          -103.43,
          -98.22,
          -101.04,
          -100,
          -99.69,
          -101.34,
          -101.19,
          -89.63,
          -103.43,
          -101.19,
          -92.92,
          -99.25,
          -99.25,
          -117.05,
          -98.29,
          -100.33,
          -89.64,
          -106.04,
          -100.46,
          -100.47,
          -95.76,
          -99.14,
          -99.02,
          -106.11,
          -102.55,
          -92.91,
          -103.47,
          -96.17,
          -97.41,
          -100.19,
          -89.56,
          -100.41,
          -96.11,
          -99.13,
          -98.97,
          -99.05,
          -100.36,
          -99.21,
          -99.18,
          -100.42,
          -99.16,
          -93.08,
          -99.14,
          -98.93,
          -93.08,
          -100.39,
          -99.18,
          -98.98,
          -100.39,
          -98.27,
          -86.85,
          -99.23,
          -99.23,
          -100.97,
          -100.44,
          -99.14,
          -103.74,
          -100.4,
          -100.29,
          -98.95,
          -99.18,
          -99.11,
          -99.15,
          -99.18,
          -100.45,
          -96.07,
          -103.46,
          -98.29,
          -101.18,
          -89.62,
          -101.22,
          -99.26,
          -106.13,
          -103.47,
          -96.11,
          -99.25,
          -100.45,
          -98.74,
          -115.47,
          -93.11,
          -89.56,
          -98.25,
          -97,
          -96.11,
          -99.24,
          -101,
          -110.99,
          -98.33,
          -99.1,
          -98.94,
          -100.27,
          -100.44,
          -99.27,
          -99.19,
          -99.23,
          -98.2,
          -99.6,
          -89.56,
          -99.22,
          -92.94,
          -89.58,
          -89.58,
          -98.93,
          -99.07,
          -100.44,
          -107.37,
          -99.23,
          -89.64,
          -86.84,
          -99.24,
          -99.26,
          -99.16,
          -100.4,
          -89.63,
          -99.22,
          -93.12,
          -106.1,
          -100.37,
          -99.21,
          -100.34,
          -86.81,
          -100.35,
          -99.89,
          -106.48,
          -89.57,
          -99.24,
          -100.41,
          -103.43,
          -99.23,
          -106.43,
          -99.26,
          -99.2,
          -98.37,
          -98.94,
          -99.71,
          -99.19,
          -99.15,
          -101.21,
          -117.05,
          -103.4,
          -99.85,
          -96.11,
          -99.24,
          -99.21,
          -100.39,
          -99.25,
          -99.23,
          -99.15,
          -99.19,
          -100.38,
          -99.21,
          -100.4,
          -91.77,
          -96.07,
          -97.84,
          -99.13,
          -99.19,
          -100.96,
          -100.44,
          -99.15,
          -96.92,
          -99.06,
          -101,
          -98.23,
          -99.26,
          -99.15,
          -104.89,
          -99.24,
          -99.29,
          -101.03,
          -99.25,
          -100.44,
          -99.14,
          -99.19,
          -99.19,
          -99.86,
          -106.38,
          -89.57,
          -99.85,
          -94.46,
          -98.23,
          -103.39,
          -89.56,
          -99.15,
          -100.44,
          -99.17,
          -99.6,
          -99.21,
          -105.21,
          -102.55,
          -100.39,
          -98.26,
          -99.2,
          -96.11,
          -94.48,
          -99.26,
          -100.37,
          -99.22,
          -101.18,
          -103.74,
          -117.03,
          -99.24,
          -99.2,
          -99.21,
          -100.41,
          -99.22,
          -100.27,
          -99.12,
          -99.87,
          -93.16,
          -102.55,
          -99.61,
          -99.85,
          -89.59,
          -99.16,
          -99.14,
          -99.14,
          -97.91,
          -99.13,
          -104.65,
          -99.29,
          -101.03,
          -103.44,
          -96.89,
          -100.38,
          -100.93,
          -99.22,
          -96.11,
          -99.21,
          -93.18,
          -98.95,
          -90.53,
          -100.37,
          -99.35,
          -99.15,
          -103.31,
          -101.68,
          -89.6,
          -99.22,
          -100.39,
          -89.6,
          -99.22,
          -100.34,
          -99.27,
          -99.24,
          -100.36,
          -94.44,
          -99.12,
          -99.13,
          -99.09,
          -99.24,
          -99.13,
          -100.44,
          -100.44,
          -99.18,
          -100.35,
          -93.15,
          -99.27,
          -100.35,
          -99.15,
          -102.55,
          -99.14,
          -99.6,
          -99.15,
          -89.66,
          -98.33,
          -99.2,
          -99.23,
          -92.95,
          -98.33,
          -99.2,
          -103.69,
          -100.26,
          -110.31,
          -116.88,
          -100.44,
          -96.75,
          -99.24,
          -89.55,
          -99.13,
          -98.96,
          -100.34,
          -99.22,
          -100.33,
          -93.1,
          -99.13,
          -87.08,
          -100.34,
          -99.22,
          -100.39,
          -100.38,
          -86.84,
          -99.89,
          -99.15,
          -99.2,
          -96.91,
          -97.88,
          -99.27,
          -99.14,
          -89.62,
          -101.2,
          -99.25,
          -99.69,
          -99.23,
          -99.12,
          -110.94,
          -101.25,
          -100.24,
          -110.32,
          -99.19,
          -99.26,
          -106.04,
          -89.69,
          -102.55,
          -99.05,
          -100.38,
          -89.6,
          -99.27,
          -100.38,
          -117.02,
          -103.38,
          -99.06,
          -99.88,
          -101.02,
          -99.11,
          -99.06,
          -100.35,
          -99.15,
          -103.84,
          -100.32,
          -98.93,
          -100.45,
          -99.05,
          -98.28,
          -100.21,
          -100.36,
          -98.32,
          -99.2,
          -86.85,
          -99.55,
          -106.43,
          -103.73,
          -100.23,
          -99.24,
          -99.11,
          -89.6,
          -102.55,
          -99.09,
          -99.25,
          -99.2,
          -99.06,
          -100.34,
          -99.17,
          -99.15,
          -99.19,
          -100.87,
          -99.11,
          -99.26,
          -99.25,
          -89.61,
          -97.84,
          -100.43,
          -99.18,
          -100.99,
          -101.04,
          -89.61,
          -97.89,
          -99.2,
          -96.06,
          -99.22,
          -99.19,
          -99.23,
          -100.32,
          -99.13,
          -99.15,
          -99.45,
          -99.25,
          -100.42,
          -100.41,
          -116.88,
          -99.11,
          -89.56,
          -103.19,
          -99.97,
          -98.96,
          -101.19,
          -97.88,
          -97.89,
          -99.2,
          -103.39,
          -100.37,
          -98.29,
          -102.32,
          -90.54,
          -99.26,
          -99.13,
          -106.09,
          -99.2,
          -98.23,
          -102.55,
          -99.04,
          -93.12,
          -97.39,
          -101.01,
          -96.11,
          -99.26,
          -86.88,
          -100.44,
          -89.25,
          -99.16,
          -89.66,
          -97.36,
          -100.23,
          -99.01,
          -101.04,
          -89.61,
          -99.58,
          -100.48,
          -98.97,
          -99.13,
          -89.66,
          -97.88,
          -103.48,
          -98.21,
          -93.15,
          -101.17,
          -103.38,
          -101.04,
          -89.56,
          -99.68,
          -100.43,
          -101.71,
          -99.16,
          -100.41,
          -99.14,
          -96.94,
          -103.39,
          -89.59,
          -99.14,
          -102.55,
          -97.86,
          -99.91,
          -96.11,
          -98.24,
          -99.98,
          -86.83,
          -116.82,
          -89.61,
          -102.55,
          -100.46,
          -97.87,
          -98.25,
          -99.22,
          -99.57,
          -89.62,
          -99.15,
          -99.1,
          -89.6,
          -103.68,
          -99.25,
          -89.65,
          -86.85,
          -99.22,
          -99.19,
          -107.44,
          -99.24,
          -100.45,
          -99.04,
          -106.09,
          -100.75,
          -102.55,
          -100.35,
          -101,
          -89.65,
          -92.65,
          -99.55,
          -86.86,
          -99.09,
          -99.16,
          -89.64,
          -102.19,
          -100.23,
          -99.6,
          -104.62,
          -99.03,
          -99.05,
          -100.37,
          -105.2,
          -106.42,
          -99.1,
          -109.96,
          -99.18,
          -100.46,
          -106.07,
          -97.89,
          -99.22,
          -99.15,
          -99.25,
          -100.39,
          -101.18,
          -98.26,
          -99.22,
          -99.21,
          -99.13,
          -99.19,
          -99.62,
          -99.8,
          -89.56,
          -92.96,
          -99.16,
          -98.74,
          -97.39,
          -99.19,
          -99.14,
          -102.55,
          -99.2,
          -107.46,
          -99.22,
          -99.23,
          -103.39,
          -103.48,
          -99.18,
          -89.65,
          -101.03,
          -99.56
         ],
         "name": "",
         "subplot": "mapbox",
         "type": "densitymapbox"
        }
       ],
       "layout": {
        "coloraxis": {
         "colorscale": [
          [
           0,
           "#0d0887"
          ],
          [
           0.1111111111111111,
           "#46039f"
          ],
          [
           0.2222222222222222,
           "#7201a8"
          ],
          [
           0.3333333333333333,
           "#9c179e"
          ],
          [
           0.4444444444444444,
           "#bd3786"
          ],
          [
           0.5555555555555556,
           "#d8576b"
          ],
          [
           0.6666666666666666,
           "#ed7953"
          ],
          [
           0.7777777777777778,
           "#fb9f3a"
          ],
          [
           0.8888888888888888,
           "#fdca26"
          ],
          [
           1,
           "#f0f921"
          ]
         ]
        },
        "height": 600,
        "legend": {
         "tracegroupgap": 0
        },
        "mapbox": {
         "center": {
          "lat": 20.765270737327185,
          "lon": -98.79836405529956
         },
         "domain": {
          "x": [
           0,
           1
          ],
          "y": [
           0,
           1
          ]
         },
         "style": "open-street-map",
         "zoom": 3
        },
        "margin": {
         "t": 60
        },
        "template": {
         "data": {
          "bar": [
           {
            "error_x": {
             "color": "#2a3f5f"
            },
            "error_y": {
             "color": "#2a3f5f"
            },
            "marker": {
             "line": {
              "color": "#E5ECF6",
              "width": 0.5
             },
             "pattern": {
              "fillmode": "overlay",
              "size": 10,
              "solidity": 0.2
             }
            },
            "type": "bar"
           }
          ],
          "barpolar": [
           {
            "marker": {
             "line": {
              "color": "#E5ECF6",
              "width": 0.5
             },
             "pattern": {
              "fillmode": "overlay",
              "size": 10,
              "solidity": 0.2
             }
            },
            "type": "barpolar"
           }
          ],
          "carpet": [
           {
            "aaxis": {
             "endlinecolor": "#2a3f5f",
             "gridcolor": "white",
             "linecolor": "white",
             "minorgridcolor": "white",
             "startlinecolor": "#2a3f5f"
            },
            "baxis": {
             "endlinecolor": "#2a3f5f",
             "gridcolor": "white",
             "linecolor": "white",
             "minorgridcolor": "white",
             "startlinecolor": "#2a3f5f"
            },
            "type": "carpet"
           }
          ],
          "choropleth": [
           {
            "colorbar": {
             "outlinewidth": 0,
             "ticks": ""
            },
            "type": "choropleth"
           }
          ],
          "contour": [
           {
            "colorbar": {
             "outlinewidth": 0,
             "ticks": ""
            },
            "colorscale": [
             [
              0,
              "#0d0887"
             ],
             [
              0.1111111111111111,
              "#46039f"
             ],
             [
              0.2222222222222222,
              "#7201a8"
             ],
             [
              0.3333333333333333,
              "#9c179e"
             ],
             [
              0.4444444444444444,
              "#bd3786"
             ],
             [
              0.5555555555555556,
              "#d8576b"
             ],
             [
              0.6666666666666666,
              "#ed7953"
             ],
             [
              0.7777777777777778,
              "#fb9f3a"
             ],
             [
              0.8888888888888888,
              "#fdca26"
             ],
             [
              1,
              "#f0f921"
             ]
            ],
            "type": "contour"
           }
          ],
          "contourcarpet": [
           {
            "colorbar": {
             "outlinewidth": 0,
             "ticks": ""
            },
            "type": "contourcarpet"
           }
          ],
          "heatmap": [
           {
            "colorbar": {
             "outlinewidth": 0,
             "ticks": ""
            },
            "colorscale": [
             [
              0,
              "#0d0887"
             ],
             [
              0.1111111111111111,
              "#46039f"
             ],
             [
              0.2222222222222222,
              "#7201a8"
             ],
             [
              0.3333333333333333,
              "#9c179e"
             ],
             [
              0.4444444444444444,
              "#bd3786"
             ],
             [
              0.5555555555555556,
              "#d8576b"
             ],
             [
              0.6666666666666666,
              "#ed7953"
             ],
             [
              0.7777777777777778,
              "#fb9f3a"
             ],
             [
              0.8888888888888888,
              "#fdca26"
             ],
             [
              1,
              "#f0f921"
             ]
            ],
            "type": "heatmap"
           }
          ],
          "heatmapgl": [
           {
            "colorbar": {
             "outlinewidth": 0,
             "ticks": ""
            },
            "colorscale": [
             [
              0,
              "#0d0887"
             ],
             [
              0.1111111111111111,
              "#46039f"
             ],
             [
              0.2222222222222222,
              "#7201a8"
             ],
             [
              0.3333333333333333,
              "#9c179e"
             ],
             [
              0.4444444444444444,
              "#bd3786"
             ],
             [
              0.5555555555555556,
              "#d8576b"
             ],
             [
              0.6666666666666666,
              "#ed7953"
             ],
             [
              0.7777777777777778,
              "#fb9f3a"
             ],
             [
              0.8888888888888888,
              "#fdca26"
             ],
             [
              1,
              "#f0f921"
             ]
            ],
            "type": "heatmapgl"
           }
          ],
          "histogram": [
           {
            "marker": {
             "pattern": {
              "fillmode": "overlay",
              "size": 10,
              "solidity": 0.2
             }
            },
            "type": "histogram"
           }
          ],
          "histogram2d": [
           {
            "colorbar": {
             "outlinewidth": 0,
             "ticks": ""
            },
            "colorscale": [
             [
              0,
              "#0d0887"
             ],
             [
              0.1111111111111111,
              "#46039f"
             ],
             [
              0.2222222222222222,
              "#7201a8"
             ],
             [
              0.3333333333333333,
              "#9c179e"
             ],
             [
              0.4444444444444444,
              "#bd3786"
             ],
             [
              0.5555555555555556,
              "#d8576b"
             ],
             [
              0.6666666666666666,
              "#ed7953"
             ],
             [
              0.7777777777777778,
              "#fb9f3a"
             ],
             [
              0.8888888888888888,
              "#fdca26"
             ],
             [
              1,
              "#f0f921"
             ]
            ],
            "type": "histogram2d"
           }
          ],
          "histogram2dcontour": [
           {
            "colorbar": {
             "outlinewidth": 0,
             "ticks": ""
            },
            "colorscale": [
             [
              0,
              "#0d0887"
             ],
             [
              0.1111111111111111,
              "#46039f"
             ],
             [
              0.2222222222222222,
              "#7201a8"
             ],
             [
              0.3333333333333333,
              "#9c179e"
             ],
             [
              0.4444444444444444,
              "#bd3786"
             ],
             [
              0.5555555555555556,
              "#d8576b"
             ],
             [
              0.6666666666666666,
              "#ed7953"
             ],
             [
              0.7777777777777778,
              "#fb9f3a"
             ],
             [
              0.8888888888888888,
              "#fdca26"
             ],
             [
              1,
              "#f0f921"
             ]
            ],
            "type": "histogram2dcontour"
           }
          ],
          "mesh3d": [
           {
            "colorbar": {
             "outlinewidth": 0,
             "ticks": ""
            },
            "type": "mesh3d"
           }
          ],
          "parcoords": [
           {
            "line": {
             "colorbar": {
              "outlinewidth": 0,
              "ticks": ""
             }
            },
            "type": "parcoords"
           }
          ],
          "pie": [
           {
            "automargin": true,
            "type": "pie"
           }
          ],
          "scatter": [
           {
            "fillpattern": {
             "fillmode": "overlay",
             "size": 10,
             "solidity": 0.2
            },
            "type": "scatter"
           }
          ],
          "scatter3d": [
           {
            "line": {
             "colorbar": {
              "outlinewidth": 0,
              "ticks": ""
             }
            },
            "marker": {
             "colorbar": {
              "outlinewidth": 0,
              "ticks": ""
             }
            },
            "type": "scatter3d"
           }
          ],
          "scattercarpet": [
           {
            "marker": {
             "colorbar": {
              "outlinewidth": 0,
              "ticks": ""
             }
            },
            "type": "scattercarpet"
           }
          ],
          "scattergeo": [
           {
            "marker": {
             "colorbar": {
              "outlinewidth": 0,
              "ticks": ""
             }
            },
            "type": "scattergeo"
           }
          ],
          "scattergl": [
           {
            "marker": {
             "colorbar": {
              "outlinewidth": 0,
              "ticks": ""
             }
            },
            "type": "scattergl"
           }
          ],
          "scattermapbox": [
           {
            "marker": {
             "colorbar": {
              "outlinewidth": 0,
              "ticks": ""
             }
            },
            "type": "scattermapbox"
           }
          ],
          "scatterpolar": [
           {
            "marker": {
             "colorbar": {
              "outlinewidth": 0,
              "ticks": ""
             }
            },
            "type": "scatterpolar"
           }
          ],
          "scatterpolargl": [
           {
            "marker": {
             "colorbar": {
              "outlinewidth": 0,
              "ticks": ""
             }
            },
            "type": "scatterpolargl"
           }
          ],
          "scatterternary": [
           {
            "marker": {
             "colorbar": {
              "outlinewidth": 0,
              "ticks": ""
             }
            },
            "type": "scatterternary"
           }
          ],
          "surface": [
           {
            "colorbar": {
             "outlinewidth": 0,
             "ticks": ""
            },
            "colorscale": [
             [
              0,
              "#0d0887"
             ],
             [
              0.1111111111111111,
              "#46039f"
             ],
             [
              0.2222222222222222,
              "#7201a8"
             ],
             [
              0.3333333333333333,
              "#9c179e"
             ],
             [
              0.4444444444444444,
              "#bd3786"
             ],
             [
              0.5555555555555556,
              "#d8576b"
             ],
             [
              0.6666666666666666,
              "#ed7953"
             ],
             [
              0.7777777777777778,
              "#fb9f3a"
             ],
             [
              0.8888888888888888,
              "#fdca26"
             ],
             [
              1,
              "#f0f921"
             ]
            ],
            "type": "surface"
           }
          ],
          "table": [
           {
            "cells": {
             "fill": {
              "color": "#EBF0F8"
             },
             "line": {
              "color": "white"
             }
            },
            "header": {
             "fill": {
              "color": "#C8D4E3"
             },
             "line": {
              "color": "white"
             }
            },
            "type": "table"
           }
          ]
         },
         "layout": {
          "annotationdefaults": {
           "arrowcolor": "#2a3f5f",
           "arrowhead": 0,
           "arrowwidth": 1
          },
          "autotypenumbers": "strict",
          "coloraxis": {
           "colorbar": {
            "outlinewidth": 0,
            "ticks": ""
           }
          },
          "colorscale": {
           "diverging": [
            [
             0,
             "#8e0152"
            ],
            [
             0.1,
             "#c51b7d"
            ],
            [
             0.2,
             "#de77ae"
            ],
            [
             0.3,
             "#f1b6da"
            ],
            [
             0.4,
             "#fde0ef"
            ],
            [
             0.5,
             "#f7f7f7"
            ],
            [
             0.6,
             "#e6f5d0"
            ],
            [
             0.7,
             "#b8e186"
            ],
            [
             0.8,
             "#7fbc41"
            ],
            [
             0.9,
             "#4d9221"
            ],
            [
             1,
             "#276419"
            ]
           ],
           "sequential": [
            [
             0,
             "#0d0887"
            ],
            [
             0.1111111111111111,
             "#46039f"
            ],
            [
             0.2222222222222222,
             "#7201a8"
            ],
            [
             0.3333333333333333,
             "#9c179e"
            ],
            [
             0.4444444444444444,
             "#bd3786"
            ],
            [
             0.5555555555555556,
             "#d8576b"
            ],
            [
             0.6666666666666666,
             "#ed7953"
            ],
            [
             0.7777777777777778,
             "#fb9f3a"
            ],
            [
             0.8888888888888888,
             "#fdca26"
            ],
            [
             1,
             "#f0f921"
            ]
           ],
           "sequentialminus": [
            [
             0,
             "#0d0887"
            ],
            [
             0.1111111111111111,
             "#46039f"
            ],
            [
             0.2222222222222222,
             "#7201a8"
            ],
            [
             0.3333333333333333,
             "#9c179e"
            ],
            [
             0.4444444444444444,
             "#bd3786"
            ],
            [
             0.5555555555555556,
             "#d8576b"
            ],
            [
             0.6666666666666666,
             "#ed7953"
            ],
            [
             0.7777777777777778,
             "#fb9f3a"
            ],
            [
             0.8888888888888888,
             "#fdca26"
            ],
            [
             1,
             "#f0f921"
            ]
           ]
          },
          "colorway": [
           "#636efa",
           "#EF553B",
           "#00cc96",
           "#ab63fa",
           "#FFA15A",
           "#19d3f3",
           "#FF6692",
           "#B6E880",
           "#FF97FF",
           "#FECB52"
          ],
          "font": {
           "color": "#2a3f5f"
          },
          "geo": {
           "bgcolor": "white",
           "lakecolor": "white",
           "landcolor": "#E5ECF6",
           "showlakes": true,
           "showland": true,
           "subunitcolor": "white"
          },
          "hoverlabel": {
           "align": "left"
          },
          "hovermode": "closest",
          "mapbox": {
           "style": "light"
          },
          "paper_bgcolor": "white",
          "plot_bgcolor": "#E5ECF6",
          "polar": {
           "angularaxis": {
            "gridcolor": "white",
            "linecolor": "white",
            "ticks": ""
           },
           "bgcolor": "#E5ECF6",
           "radialaxis": {
            "gridcolor": "white",
            "linecolor": "white",
            "ticks": ""
           }
          },
          "scene": {
           "xaxis": {
            "backgroundcolor": "#E5ECF6",
            "gridcolor": "white",
            "gridwidth": 2,
            "linecolor": "white",
            "showbackground": true,
            "ticks": "",
            "zerolinecolor": "white"
           },
           "yaxis": {
            "backgroundcolor": "#E5ECF6",
            "gridcolor": "white",
            "gridwidth": 2,
            "linecolor": "white",
            "showbackground": true,
            "ticks": "",
            "zerolinecolor": "white"
           },
           "zaxis": {
            "backgroundcolor": "#E5ECF6",
            "gridcolor": "white",
            "gridwidth": 2,
            "linecolor": "white",
            "showbackground": true,
            "ticks": "",
            "zerolinecolor": "white"
           }
          },
          "shapedefaults": {
           "line": {
            "color": "#2a3f5f"
           }
          },
          "ternary": {
           "aaxis": {
            "gridcolor": "white",
            "linecolor": "white",
            "ticks": ""
           },
           "baxis": {
            "gridcolor": "white",
            "linecolor": "white",
            "ticks": ""
           },
           "bgcolor": "#E5ECF6",
           "caxis": {
            "gridcolor": "white",
            "linecolor": "white",
            "ticks": ""
           }
          },
          "title": {
           "x": 0.05
          },
          "xaxis": {
           "automargin": true,
           "gridcolor": "white",
           "linecolor": "white",
           "ticks": "",
           "title": {
            "standoff": 15
           },
           "zerolinecolor": "white",
           "zerolinewidth": 2
          },
          "yaxis": {
           "automargin": true,
           "gridcolor": "white",
           "linecolor": "white",
           "ticks": "",
           "title": {
            "standoff": 15
           },
           "zerolinecolor": "white",
           "zerolinewidth": 2
          }
         }
        },
        "width": 600
       }
      }
     },
     "metadata": {},
     "output_type": "display_data"
    }
   ],
   "source": [
    "# Plotting a density mapbox\n",
    "fig = px.density_mapbox(df, \n",
    "                         lat=\"lat\", \n",
    "                         lon=\"lon\", \n",
    "                         hover_data=[\"price_usd\"],\n",
    "                         zoom=3, \n",
    "                         height=600,\n",
    "                         width=600)\n",
    "\n",
    "fig.update_layout(mapbox_style=\"open-street-map\")\n",
    "fig.show()"
   ]
  },
  {
   "cell_type": "code",
   "execution_count": 22,
   "metadata": {},
   "outputs": [
    {
     "data": {
      "application/vnd.plotly.v1+json": {
       "config": {
        "plotlyServerURL": "https://plot.ly"
       },
       "data": [
        {
         "hovertemplate": "color=Distrito Federal<br>State=%{x}<br>Count=%{y}<br>size=%{marker.size}<extra></extra>",
         "legendgroup": "Distrito Federal",
         "marker": {
          "color": "#636efa",
          "size": [
           303
          ],
          "sizemode": "area",
          "sizeref": 0.7575,
          "symbol": "circle"
         },
         "mode": "markers",
         "name": "Distrito Federal",
         "orientation": "v",
         "showlegend": true,
         "type": "scatter",
         "x": [
          "Distrito Federal"
         ],
         "xaxis": "x",
         "y": [
          303
         ],
         "yaxis": "y"
        },
        {
         "hovertemplate": "color=Estado de México<br>State=%{x}<br>Count=%{y}<br>size=%{marker.size}<extra></extra>",
         "legendgroup": "Estado de México",
         "marker": {
          "color": "#EF553B",
          "size": [
           179
          ],
          "sizemode": "area",
          "sizeref": 0.7575,
          "symbol": "circle"
         },
         "mode": "markers",
         "name": "Estado de México",
         "orientation": "v",
         "showlegend": true,
         "type": "scatter",
         "x": [
          "Estado de México"
         ],
         "xaxis": "x",
         "y": [
          179
         ],
         "yaxis": "y"
        },
        {
         "hovertemplate": "color=Yucatán<br>State=%{x}<br>Count=%{y}<br>size=%{marker.size}<extra></extra>",
         "legendgroup": "Yucatán",
         "marker": {
          "color": "#00cc96",
          "size": [
           171
          ],
          "sizemode": "area",
          "sizeref": 0.7575,
          "symbol": "circle"
         },
         "mode": "markers",
         "name": "Yucatán",
         "orientation": "v",
         "showlegend": true,
         "type": "scatter",
         "x": [
          "Yucatán"
         ],
         "xaxis": "x",
         "y": [
          171
         ],
         "yaxis": "y"
        },
        {
         "hovertemplate": "color=Morelos<br>State=%{x}<br>Count=%{y}<br>size=%{marker.size}<extra></extra>",
         "legendgroup": "Morelos",
         "marker": {
          "color": "#ab63fa",
          "size": [
           160
          ],
          "sizemode": "area",
          "sizeref": 0.7575,
          "symbol": "circle"
         },
         "mode": "markers",
         "name": "Morelos",
         "orientation": "v",
         "showlegend": true,
         "type": "scatter",
         "x": [
          "Morelos"
         ],
         "xaxis": "x",
         "y": [
          160
         ],
         "yaxis": "y"
        },
        {
         "hovertemplate": "color=Querétaro<br>State=%{x}<br>Count=%{y}<br>size=%{marker.size}<extra></extra>",
         "legendgroup": "Querétaro",
         "marker": {
          "color": "#FFA15A",
          "size": [
           128
          ],
          "sizemode": "area",
          "sizeref": 0.7575,
          "symbol": "circle"
         },
         "mode": "markers",
         "name": "Querétaro",
         "orientation": "v",
         "showlegend": true,
         "type": "scatter",
         "x": [
          "Querétaro"
         ],
         "xaxis": "x",
         "y": [
          128
         ],
         "yaxis": "y"
        },
        {
         "hovertemplate": "color=Veracruz de Ignacio de la Llave<br>State=%{x}<br>Count=%{y}<br>size=%{marker.size}<extra></extra>",
         "legendgroup": "Veracruz de Ignacio de la Llave",
         "marker": {
          "color": "#19d3f3",
          "size": [
           117
          ],
          "sizemode": "area",
          "sizeref": 0.7575,
          "symbol": "circle"
         },
         "mode": "markers",
         "name": "Veracruz de Ignacio de la Llave",
         "orientation": "v",
         "showlegend": true,
         "type": "scatter",
         "x": [
          "Veracruz de Ignacio de la Llave"
         ],
         "xaxis": "x",
         "y": [
          117
         ],
         "yaxis": "y"
        },
        {
         "hovertemplate": "color=Puebla<br>State=%{x}<br>Count=%{y}<br>size=%{marker.size}<extra></extra>",
         "legendgroup": "Puebla",
         "marker": {
          "color": "#FF6692",
          "size": [
           95
          ],
          "sizemode": "area",
          "sizeref": 0.7575,
          "symbol": "circle"
         },
         "mode": "markers",
         "name": "Puebla",
         "orientation": "v",
         "showlegend": true,
         "type": "scatter",
         "x": [
          "Puebla"
         ],
         "xaxis": "x",
         "y": [
          95
         ],
         "yaxis": "y"
        },
        {
         "hovertemplate": "color=Nuevo León<br>State=%{x}<br>Count=%{y}<br>size=%{marker.size}<extra></extra>",
         "legendgroup": "Nuevo León",
         "marker": {
          "color": "#B6E880",
          "size": [
           83
          ],
          "sizemode": "area",
          "sizeref": 0.7575,
          "symbol": "circle"
         },
         "mode": "markers",
         "name": "Nuevo León",
         "orientation": "v",
         "showlegend": true,
         "type": "scatter",
         "x": [
          "Nuevo León"
         ],
         "xaxis": "x",
         "y": [
          83
         ],
         "yaxis": "y"
        },
        {
         "hovertemplate": "color=Jalisco<br>State=%{x}<br>Count=%{y}<br>size=%{marker.size}<extra></extra>",
         "legendgroup": "Jalisco",
         "marker": {
          "color": "#FF97FF",
          "size": [
           60
          ],
          "sizemode": "area",
          "sizeref": 0.7575,
          "symbol": "circle"
         },
         "mode": "markers",
         "name": "Jalisco",
         "orientation": "v",
         "showlegend": true,
         "type": "scatter",
         "x": [
          "Jalisco"
         ],
         "xaxis": "x",
         "y": [
          60
         ],
         "yaxis": "y"
        },
        {
         "hovertemplate": "color=San Luis Potosí<br>State=%{x}<br>Count=%{y}<br>size=%{marker.size}<extra></extra>",
         "legendgroup": "San Luis Potosí",
         "marker": {
          "color": "#FECB52",
          "size": [
           55
          ],
          "sizemode": "area",
          "sizeref": 0.7575,
          "symbol": "circle"
         },
         "mode": "markers",
         "name": "San Luis Potosí",
         "orientation": "v",
         "showlegend": true,
         "type": "scatter",
         "x": [
          "San Luis Potosí"
         ],
         "xaxis": "x",
         "y": [
          55
         ],
         "yaxis": "y"
        }
       ],
       "layout": {
        "legend": {
         "itemsizing": "constant",
         "title": {
          "text": "States"
         },
         "tracegroupgap": 0
        },
        "template": {
         "data": {
          "bar": [
           {
            "error_x": {
             "color": "#2a3f5f"
            },
            "error_y": {
             "color": "#2a3f5f"
            },
            "marker": {
             "line": {
              "color": "#E5ECF6",
              "width": 0.5
             },
             "pattern": {
              "fillmode": "overlay",
              "size": 10,
              "solidity": 0.2
             }
            },
            "type": "bar"
           }
          ],
          "barpolar": [
           {
            "marker": {
             "line": {
              "color": "#E5ECF6",
              "width": 0.5
             },
             "pattern": {
              "fillmode": "overlay",
              "size": 10,
              "solidity": 0.2
             }
            },
            "type": "barpolar"
           }
          ],
          "carpet": [
           {
            "aaxis": {
             "endlinecolor": "#2a3f5f",
             "gridcolor": "white",
             "linecolor": "white",
             "minorgridcolor": "white",
             "startlinecolor": "#2a3f5f"
            },
            "baxis": {
             "endlinecolor": "#2a3f5f",
             "gridcolor": "white",
             "linecolor": "white",
             "minorgridcolor": "white",
             "startlinecolor": "#2a3f5f"
            },
            "type": "carpet"
           }
          ],
          "choropleth": [
           {
            "colorbar": {
             "outlinewidth": 0,
             "ticks": ""
            },
            "type": "choropleth"
           }
          ],
          "contour": [
           {
            "colorbar": {
             "outlinewidth": 0,
             "ticks": ""
            },
            "colorscale": [
             [
              0,
              "#0d0887"
             ],
             [
              0.1111111111111111,
              "#46039f"
             ],
             [
              0.2222222222222222,
              "#7201a8"
             ],
             [
              0.3333333333333333,
              "#9c179e"
             ],
             [
              0.4444444444444444,
              "#bd3786"
             ],
             [
              0.5555555555555556,
              "#d8576b"
             ],
             [
              0.6666666666666666,
              "#ed7953"
             ],
             [
              0.7777777777777778,
              "#fb9f3a"
             ],
             [
              0.8888888888888888,
              "#fdca26"
             ],
             [
              1,
              "#f0f921"
             ]
            ],
            "type": "contour"
           }
          ],
          "contourcarpet": [
           {
            "colorbar": {
             "outlinewidth": 0,
             "ticks": ""
            },
            "type": "contourcarpet"
           }
          ],
          "heatmap": [
           {
            "colorbar": {
             "outlinewidth": 0,
             "ticks": ""
            },
            "colorscale": [
             [
              0,
              "#0d0887"
             ],
             [
              0.1111111111111111,
              "#46039f"
             ],
             [
              0.2222222222222222,
              "#7201a8"
             ],
             [
              0.3333333333333333,
              "#9c179e"
             ],
             [
              0.4444444444444444,
              "#bd3786"
             ],
             [
              0.5555555555555556,
              "#d8576b"
             ],
             [
              0.6666666666666666,
              "#ed7953"
             ],
             [
              0.7777777777777778,
              "#fb9f3a"
             ],
             [
              0.8888888888888888,
              "#fdca26"
             ],
             [
              1,
              "#f0f921"
             ]
            ],
            "type": "heatmap"
           }
          ],
          "heatmapgl": [
           {
            "colorbar": {
             "outlinewidth": 0,
             "ticks": ""
            },
            "colorscale": [
             [
              0,
              "#0d0887"
             ],
             [
              0.1111111111111111,
              "#46039f"
             ],
             [
              0.2222222222222222,
              "#7201a8"
             ],
             [
              0.3333333333333333,
              "#9c179e"
             ],
             [
              0.4444444444444444,
              "#bd3786"
             ],
             [
              0.5555555555555556,
              "#d8576b"
             ],
             [
              0.6666666666666666,
              "#ed7953"
             ],
             [
              0.7777777777777778,
              "#fb9f3a"
             ],
             [
              0.8888888888888888,
              "#fdca26"
             ],
             [
              1,
              "#f0f921"
             ]
            ],
            "type": "heatmapgl"
           }
          ],
          "histogram": [
           {
            "marker": {
             "pattern": {
              "fillmode": "overlay",
              "size": 10,
              "solidity": 0.2
             }
            },
            "type": "histogram"
           }
          ],
          "histogram2d": [
           {
            "colorbar": {
             "outlinewidth": 0,
             "ticks": ""
            },
            "colorscale": [
             [
              0,
              "#0d0887"
             ],
             [
              0.1111111111111111,
              "#46039f"
             ],
             [
              0.2222222222222222,
              "#7201a8"
             ],
             [
              0.3333333333333333,
              "#9c179e"
             ],
             [
              0.4444444444444444,
              "#bd3786"
             ],
             [
              0.5555555555555556,
              "#d8576b"
             ],
             [
              0.6666666666666666,
              "#ed7953"
             ],
             [
              0.7777777777777778,
              "#fb9f3a"
             ],
             [
              0.8888888888888888,
              "#fdca26"
             ],
             [
              1,
              "#f0f921"
             ]
            ],
            "type": "histogram2d"
           }
          ],
          "histogram2dcontour": [
           {
            "colorbar": {
             "outlinewidth": 0,
             "ticks": ""
            },
            "colorscale": [
             [
              0,
              "#0d0887"
             ],
             [
              0.1111111111111111,
              "#46039f"
             ],
             [
              0.2222222222222222,
              "#7201a8"
             ],
             [
              0.3333333333333333,
              "#9c179e"
             ],
             [
              0.4444444444444444,
              "#bd3786"
             ],
             [
              0.5555555555555556,
              "#d8576b"
             ],
             [
              0.6666666666666666,
              "#ed7953"
             ],
             [
              0.7777777777777778,
              "#fb9f3a"
             ],
             [
              0.8888888888888888,
              "#fdca26"
             ],
             [
              1,
              "#f0f921"
             ]
            ],
            "type": "histogram2dcontour"
           }
          ],
          "mesh3d": [
           {
            "colorbar": {
             "outlinewidth": 0,
             "ticks": ""
            },
            "type": "mesh3d"
           }
          ],
          "parcoords": [
           {
            "line": {
             "colorbar": {
              "outlinewidth": 0,
              "ticks": ""
             }
            },
            "type": "parcoords"
           }
          ],
          "pie": [
           {
            "automargin": true,
            "type": "pie"
           }
          ],
          "scatter": [
           {
            "fillpattern": {
             "fillmode": "overlay",
             "size": 10,
             "solidity": 0.2
            },
            "type": "scatter"
           }
          ],
          "scatter3d": [
           {
            "line": {
             "colorbar": {
              "outlinewidth": 0,
              "ticks": ""
             }
            },
            "marker": {
             "colorbar": {
              "outlinewidth": 0,
              "ticks": ""
             }
            },
            "type": "scatter3d"
           }
          ],
          "scattercarpet": [
           {
            "marker": {
             "colorbar": {
              "outlinewidth": 0,
              "ticks": ""
             }
            },
            "type": "scattercarpet"
           }
          ],
          "scattergeo": [
           {
            "marker": {
             "colorbar": {
              "outlinewidth": 0,
              "ticks": ""
             }
            },
            "type": "scattergeo"
           }
          ],
          "scattergl": [
           {
            "marker": {
             "colorbar": {
              "outlinewidth": 0,
              "ticks": ""
             }
            },
            "type": "scattergl"
           }
          ],
          "scattermapbox": [
           {
            "marker": {
             "colorbar": {
              "outlinewidth": 0,
              "ticks": ""
             }
            },
            "type": "scattermapbox"
           }
          ],
          "scatterpolar": [
           {
            "marker": {
             "colorbar": {
              "outlinewidth": 0,
              "ticks": ""
             }
            },
            "type": "scatterpolar"
           }
          ],
          "scatterpolargl": [
           {
            "marker": {
             "colorbar": {
              "outlinewidth": 0,
              "ticks": ""
             }
            },
            "type": "scatterpolargl"
           }
          ],
          "scatterternary": [
           {
            "marker": {
             "colorbar": {
              "outlinewidth": 0,
              "ticks": ""
             }
            },
            "type": "scatterternary"
           }
          ],
          "surface": [
           {
            "colorbar": {
             "outlinewidth": 0,
             "ticks": ""
            },
            "colorscale": [
             [
              0,
              "#0d0887"
             ],
             [
              0.1111111111111111,
              "#46039f"
             ],
             [
              0.2222222222222222,
              "#7201a8"
             ],
             [
              0.3333333333333333,
              "#9c179e"
             ],
             [
              0.4444444444444444,
              "#bd3786"
             ],
             [
              0.5555555555555556,
              "#d8576b"
             ],
             [
              0.6666666666666666,
              "#ed7953"
             ],
             [
              0.7777777777777778,
              "#fb9f3a"
             ],
             [
              0.8888888888888888,
              "#fdca26"
             ],
             [
              1,
              "#f0f921"
             ]
            ],
            "type": "surface"
           }
          ],
          "table": [
           {
            "cells": {
             "fill": {
              "color": "#EBF0F8"
             },
             "line": {
              "color": "white"
             }
            },
            "header": {
             "fill": {
              "color": "#C8D4E3"
             },
             "line": {
              "color": "white"
             }
            },
            "type": "table"
           }
          ]
         },
         "layout": {
          "annotationdefaults": {
           "arrowcolor": "#2a3f5f",
           "arrowhead": 0,
           "arrowwidth": 1
          },
          "autotypenumbers": "strict",
          "coloraxis": {
           "colorbar": {
            "outlinewidth": 0,
            "ticks": ""
           }
          },
          "colorscale": {
           "diverging": [
            [
             0,
             "#8e0152"
            ],
            [
             0.1,
             "#c51b7d"
            ],
            [
             0.2,
             "#de77ae"
            ],
            [
             0.3,
             "#f1b6da"
            ],
            [
             0.4,
             "#fde0ef"
            ],
            [
             0.5,
             "#f7f7f7"
            ],
            [
             0.6,
             "#e6f5d0"
            ],
            [
             0.7,
             "#b8e186"
            ],
            [
             0.8,
             "#7fbc41"
            ],
            [
             0.9,
             "#4d9221"
            ],
            [
             1,
             "#276419"
            ]
           ],
           "sequential": [
            [
             0,
             "#0d0887"
            ],
            [
             0.1111111111111111,
             "#46039f"
            ],
            [
             0.2222222222222222,
             "#7201a8"
            ],
            [
             0.3333333333333333,
             "#9c179e"
            ],
            [
             0.4444444444444444,
             "#bd3786"
            ],
            [
             0.5555555555555556,
             "#d8576b"
            ],
            [
             0.6666666666666666,
             "#ed7953"
            ],
            [
             0.7777777777777778,
             "#fb9f3a"
            ],
            [
             0.8888888888888888,
             "#fdca26"
            ],
            [
             1,
             "#f0f921"
            ]
           ],
           "sequentialminus": [
            [
             0,
             "#0d0887"
            ],
            [
             0.1111111111111111,
             "#46039f"
            ],
            [
             0.2222222222222222,
             "#7201a8"
            ],
            [
             0.3333333333333333,
             "#9c179e"
            ],
            [
             0.4444444444444444,
             "#bd3786"
            ],
            [
             0.5555555555555556,
             "#d8576b"
            ],
            [
             0.6666666666666666,
             "#ed7953"
            ],
            [
             0.7777777777777778,
             "#fb9f3a"
            ],
            [
             0.8888888888888888,
             "#fdca26"
            ],
            [
             1,
             "#f0f921"
            ]
           ]
          },
          "colorway": [
           "#636efa",
           "#EF553B",
           "#00cc96",
           "#ab63fa",
           "#FFA15A",
           "#19d3f3",
           "#FF6692",
           "#B6E880",
           "#FF97FF",
           "#FECB52"
          ],
          "font": {
           "color": "#2a3f5f"
          },
          "geo": {
           "bgcolor": "white",
           "lakecolor": "white",
           "landcolor": "#E5ECF6",
           "showlakes": true,
           "showland": true,
           "subunitcolor": "white"
          },
          "hoverlabel": {
           "align": "left"
          },
          "hovermode": "closest",
          "mapbox": {
           "style": "light"
          },
          "paper_bgcolor": "white",
          "plot_bgcolor": "#E5ECF6",
          "polar": {
           "angularaxis": {
            "gridcolor": "white",
            "linecolor": "white",
            "ticks": ""
           },
           "bgcolor": "#E5ECF6",
           "radialaxis": {
            "gridcolor": "white",
            "linecolor": "white",
            "ticks": ""
           }
          },
          "scene": {
           "xaxis": {
            "backgroundcolor": "#E5ECF6",
            "gridcolor": "white",
            "gridwidth": 2,
            "linecolor": "white",
            "showbackground": true,
            "ticks": "",
            "zerolinecolor": "white"
           },
           "yaxis": {
            "backgroundcolor": "#E5ECF6",
            "gridcolor": "white",
            "gridwidth": 2,
            "linecolor": "white",
            "showbackground": true,
            "ticks": "",
            "zerolinecolor": "white"
           },
           "zaxis": {
            "backgroundcolor": "#E5ECF6",
            "gridcolor": "white",
            "gridwidth": 2,
            "linecolor": "white",
            "showbackground": true,
            "ticks": "",
            "zerolinecolor": "white"
           }
          },
          "shapedefaults": {
           "line": {
            "color": "#2a3f5f"
           }
          },
          "ternary": {
           "aaxis": {
            "gridcolor": "white",
            "linecolor": "white",
            "ticks": ""
           },
           "baxis": {
            "gridcolor": "white",
            "linecolor": "white",
            "ticks": ""
           },
           "bgcolor": "#E5ECF6",
           "caxis": {
            "gridcolor": "white",
            "linecolor": "white",
            "ticks": ""
           }
          },
          "title": {
           "x": 0.05
          },
          "xaxis": {
           "automargin": true,
           "gridcolor": "white",
           "linecolor": "white",
           "ticks": "",
           "title": {
            "standoff": 15
           },
           "zerolinecolor": "white",
           "zerolinewidth": 2
          },
          "yaxis": {
           "automargin": true,
           "gridcolor": "white",
           "linecolor": "white",
           "ticks": "",
           "title": {
            "standoff": 15
           },
           "zerolinecolor": "white",
           "zerolinewidth": 2
          }
         }
        },
        "title": {
         "text": "Bubble Plot of State Counts"
        },
        "xaxis": {
         "anchor": "y",
         "domain": [
          0,
          1
         ],
         "title": {
          "text": "State"
         }
        },
        "yaxis": {
         "anchor": "x",
         "domain": [
          0,
          1
         ],
         "title": {
          "text": "Count"
         }
        }
       }
      }
     },
     "metadata": {},
     "output_type": "display_data"
    }
   ],
   "source": [
    "# Calculate value counts\n",
    "value_counts = df['state'].value_counts().head(10)\n",
    "\n",
    "# Show the plot\n",
    "fig = px.scatter(x=value_counts.index, \n",
    "                 y=value_counts.values, \n",
    "                 size=value_counts.values, \n",
    "                 color=value_counts.index,  \n",
    "                 title='Bubble Plot of State Counts',\n",
    "                 labels={'x': 'State', 'y': 'Count'})\n",
    "\n",
    "fig.update_layout(legend_title='States')\n",
    "fig.show()"
   ]
  },
  {
   "cell_type": "code",
   "execution_count": 27,
   "metadata": {},
   "outputs": [
    {
     "data": {
      "image/png": "[encoded data removed]",
      "text/plain": [
       "<Figure size 750x500 with 1 Axes>"
      ]
     },
     "metadata": {},
     "output_type": "display_data"
    }
   ],
   "source": [
    "# Plotting a histogram as well density curve for area\n",
    "\n",
    "sns.displot(data=df, \n",
    "            x=\"area_m2\", \n",
    "            kde=True,\n",
    "            bins=12,\n",
    "            height=5,\n",
    "            aspect=1.5)\n",
    "\n",
    "\n",
    "# Add title and labels\n",
    "plt.title('Distribution of Property with respect to Area (m2)')\n",
    "plt.xlabel('Area of Property (m2)')\n",
    "plt.ylabel('Distribution')\n",
    "\n",
    "# Beautify the graph\n",
    "sns.set_style('whitegrid')\n",
    "plt.tight_layout()\n",
    "plt.show();"
   ]
  },
  {
   "cell_type": "code",
   "execution_count": 26,
   "metadata": {},
   "outputs": [
    {
     "data": {
      "image/png": "[encoded data removed]",
      "text/plain": [
       "<Figure size 750x500 with 1 Axes>"
      ]
     },
     "metadata": {},
     "output_type": "display_data"
    }
   ],
   "source": [
    "# Plotting a histogram as well density curve for area\n",
    "\n",
    "sns.displot(data=df, \n",
    "            x=\"price_usd\", \n",
    "            kde=True,\n",
    "            bins=12,\n",
    "            height=5,\n",
    "            aspect=1.5)\n",
    "\n",
    "\n",
    "# Add title and labels\n",
    "plt.title('Distribution of Property with respect to Price ($USD)')\n",
    "plt.xlabel('Price ($USD)')\n",
    "plt.ylabel('Distribution');"
   ]
  },
  {
   "cell_type": "code",
   "execution_count": 39,
   "metadata": {},
   "outputs": [
    {
     "data": {
      "image/png": "[encoded data removed]",
      "text/plain": [
       "<Figure size 800x800 with 2 Axes>"
      ]
     },
     "metadata": {},
     "output_type": "display_data"
    }
   ],
   "source": [
    "# Create a figure with 2 rows and 1 column of subplots\n",
    "fig, axs = plt.subplots(2, 1, figsize=(8, 8))\n",
    "\n",
    "# Plot boxplot for 'price_usd' on the first subplot (top)\n",
    "axs[0].boxplot(df['price_usd'], vert=False)\n",
    "axs[0].set_title('Boxplot of Price (USD)')\n",
    "axs[0].set_xlabel('Price (USD)')\n",
    "axs[0].set_yticks([])\n",
    "\n",
    "# Plot boxplot for 'area_m2' on the second subplot (bottom)\n",
    "axs[1].boxplot(df['area_m2'], vert=False)\n",
    "axs[1].set_title('Boxplot of Area (m²)')\n",
    "axs[1].set_xlabel('Area (m²)')\n",
    "axs[1].set_yticks([])\n",
    "\n",
    "# Show the plot\n",
    "plt.tight_layout()\n",
    "plt.show()"
   ]
  }
 ],
 "metadata": {
  "kernelspec": {
   "display_name": "Python 3",
   "language": "python",
   "name": "python3"
  },
  "language_info": {
   "codemirror_mode": {
    "name": "ipython",
    "version": 3
   },
   "file_extension": ".py",
   "mimetype": "text/x-python",
   "name": "python",
   "nbconvert_exporter": "python",
   "pygments_lexer": "ipython3",
   "version": "3.12.4"
  }
 },
 "nbformat": 4,
 "nbformat_minor": 2
}
