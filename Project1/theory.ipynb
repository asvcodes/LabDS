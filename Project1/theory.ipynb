{
 "cells": [
  {
   "cell_type": "markdown",
   "metadata": {},
   "source": [
    "# Lec - 1"
   ]
  },
  {
   "cell_type": "markdown",
   "metadata": {},
   "source": [
    "## Organising Data"
   ]
  },
  {
   "cell_type": "markdown",
   "metadata": {},
   "source": [
    "Information can come in many forms, and part of a data scientist's job is making sure that information is organized in a way that's conducive to analysis. \n",
    "\n",
    "One common way to organize information is in a **table**, which is a group of **cells** organized into **rows** and **columns**:\n",
    "\n",
    "When working with this sort of **tabular data**, it's important to organize row and columns following the principles of \"**[tidy data](https://en.wikipedia.org/wiki/Tidy_data)**.\" What does that mean in the case of our dataset?\n",
    "\n",
    "1. Each row corresponds to a single house in our dataset. We'll call each of these houses an **observation**.\n",
    "2. Each column corresponds to a characteristic of each house. We'll call these **features**.\n",
    "3. Each cell contains only one **value**. "
   ]
  },
  {
   "cell_type": "markdown",
   "metadata": {},
   "source": [
    "### Python Lists\n",
    "---\n",
    "\n",
    "* Ordered collection of items that can be of any data type, including strings, integers, floats, and other lists.\n",
    "* Defined by square brackets `[]`.\n",
    "* Indexing starts at 0.\n",
    "* Can be sliced, concatenated, and modified."
   ]
  },
  {
   "cell_type": "code",
   "execution_count": 1,
   "metadata": {},
   "outputs": [
    {
     "name": "stdout",
     "output_type": "stream",
     "text": [
      "1\n",
      "[1, 2, 3, 4, 5, 6]\n"
     ]
    }
   ],
   "source": [
    "# Example\n",
    "\n",
    "my_list = [1, 2, 3, 4, 5]\n",
    "print(my_list[0])  # prints 1\n",
    "my_list.append(6)\n",
    "print(my_list)  # prints [1, 2, 3, 4, 5, 6]"
   ]
  },
  {
   "cell_type": "markdown",
   "metadata": {},
   "source": [
    "### Python Dictionaries\n",
    "---\n",
    "\n",
    "* Unordered collection of key-value pairs.\n",
    "* Defined by curly brackets {}.\n",
    "* Keys must be unique and immutable (e.g., strings, integers).\n",
    "* Values can be of any data type.\n",
    "* Can be accessed, modified, and iterated over."
   ]
  },
  {
   "cell_type": "code",
   "execution_count": 2,
   "metadata": {},
   "outputs": [
    {
     "name": "stdout",
     "output_type": "stream",
     "text": [
      "John\n",
      "{'name': 'John', 'age': 30, 'city': 'New York'}\n"
     ]
    }
   ],
   "source": [
    "my_dict = {'name': 'John', 'age': 30}\n",
    "print(my_dict['name'])  # prints John\n",
    "my_dict['city'] = 'New York'\n",
    "print(my_dict)  # prints {'name': 'John', 'age': 30, 'city': 'New York'}"
   ]
  },
  {
   "cell_type": "markdown",
   "metadata": {},
   "source": [
    "# Pandas DataFrame\n",
    "---\n",
    "* A 2-dimensional labeled data structure with columns of potentially different types.\n",
    "* Can be thought of as a spreadsheet or a table in a relational database.\n",
    "* Can be created from a dictionary, where each key becomes a column and each value becomes a row."
   ]
  },
  {
   "cell_type": "code",
   "execution_count": 4,
   "metadata": {},
   "outputs": [],
   "source": [
    "import pandas as pd"
   ]
  },
  {
   "cell_type": "code",
   "execution_count": 6,
   "metadata": {},
   "outputs": [
    {
     "data": {
      "text/html": [
       "<div>\n",
       "<style scoped>\n",
       "    .dataframe tbody tr th:only-of-type {\n",
       "        vertical-align: middle;\n",
       "    }\n",
       "\n",
       "    .dataframe tbody tr th {\n",
       "        vertical-align: top;\n",
       "    }\n",
       "\n",
       "    .dataframe thead th {\n",
       "        text-align: right;\n",
       "    }\n",
       "</style>\n",
       "<table border=\"1\" class=\"dataframe\">\n",
       "  <thead>\n",
       "    <tr style=\"text-align: right;\">\n",
       "      <th></th>\n",
       "      <th>price_approx_usd</th>\n",
       "      <th>surface_covered_in_m2</th>\n",
       "      <th>rooms</th>\n",
       "      <th>price_per_m2</th>\n",
       "    </tr>\n",
       "  </thead>\n",
       "  <tbody>\n",
       "    <tr>\n",
       "      <th>0</th>\n",
       "      <td>115910.26</td>\n",
       "      <td>128.0</td>\n",
       "      <td>4.0</td>\n",
       "      <td>905.55</td>\n",
       "    </tr>\n",
       "    <tr>\n",
       "      <th>1</th>\n",
       "      <td>48718.17</td>\n",
       "      <td>210.0</td>\n",
       "      <td>3.0</td>\n",
       "      <td>231.99</td>\n",
       "    </tr>\n",
       "    <tr>\n",
       "      <th>2</th>\n",
       "      <td>28977.56</td>\n",
       "      <td>58.0</td>\n",
       "      <td>2.0</td>\n",
       "      <td>499.61</td>\n",
       "    </tr>\n",
       "    <tr>\n",
       "      <th>3</th>\n",
       "      <td>36932.27</td>\n",
       "      <td>79.0</td>\n",
       "      <td>3.0</td>\n",
       "      <td>467.50</td>\n",
       "    </tr>\n",
       "    <tr>\n",
       "      <th>4</th>\n",
       "      <td>83903.51</td>\n",
       "      <td>111.0</td>\n",
       "      <td>3.0</td>\n",
       "      <td>755.89</td>\n",
       "    </tr>\n",
       "  </tbody>\n",
       "</table>\n",
       "</div>"
      ],
      "text/plain": [
       "   price_approx_usd  surface_covered_in_m2  rooms  price_per_m2\n",
       "0         115910.26                  128.0    4.0        905.55\n",
       "1          48718.17                  210.0    3.0        231.99\n",
       "2          28977.56                   58.0    2.0        499.61\n",
       "3          36932.27                   79.0    3.0        467.50\n",
       "4          83903.51                  111.0    3.0        755.89"
      ]
     },
     "execution_count": 6,
     "metadata": {},
     "output_type": "execute_result"
    }
   ],
   "source": [
    "# Example\n",
    "data = {\n",
    "    'price_approx_usd': [115910.26, 48718.17, 28977.56, 36932.27, 83903.51],\n",
    "    'surface_covered_in_m2': [128.0, 210.0, 58.0, 79.0, 111.0],\n",
    "    'rooms': [4.0, 3.0, 2.0, 3.0, 3.0],\n",
    "    'price_per_m2': [905.55, 231.99, 499.61, 467.50, 755.89]\n",
    "}\n",
    "\n",
    "df = pd.DataFrame(data)\n",
    "df"
   ]
  }
 ],
 "metadata": {
  "kernelspec": {
   "display_name": "Python 3",
   "language": "python",
   "name": "python3"
  },
  "language_info": {
   "codemirror_mode": {
    "name": "ipython",
    "version": 3
   },
   "file_extension": ".py",
   "mimetype": "text/x-python",
   "name": "python",
   "nbconvert_exporter": "python",
   "pygments_lexer": "ipython3",
   "version": "3.12.4"
  }
 },
 "nbformat": 4,
 "nbformat_minor": 2
}
